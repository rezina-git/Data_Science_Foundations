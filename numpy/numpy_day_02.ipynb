{
 "cells": [
  {
   "cell_type": "code",
   "execution_count": 1,
   "id": "482817b5",
   "metadata": {},
   "outputs": [],
   "source": [
    "import numpy as np"
   ]
  },
  {
   "cell_type": "markdown",
   "id": "cf1bd9d9",
   "metadata": {},
   "source": [
    "# Concatenate"
   ]
  },
  {
   "cell_type": "code",
   "execution_count": 2,
   "id": "437a44e7",
   "metadata": {},
   "outputs": [
    {
     "data": {
      "text/plain": [
       "array([[65, 57, 26],\n",
       "       [26, 85, 40],\n",
       "       [28, 77, 52]], dtype=int32)"
      ]
     },
     "execution_count": 2,
     "metadata": {},
     "output_type": "execute_result"
    }
   ],
   "source": [
    "arr1 = np.random.randint(1,100,size = (3,3))\n",
    "arr1"
   ]
  },
  {
   "cell_type": "code",
   "execution_count": 3,
   "id": "dd212284",
   "metadata": {},
   "outputs": [
    {
     "data": {
      "text/plain": [
       "array([[42,  2, 65],\n",
       "       [12, 72, 20],\n",
       "       [92, 19, 21]], dtype=int32)"
      ]
     },
     "execution_count": 3,
     "metadata": {},
     "output_type": "execute_result"
    }
   ],
   "source": [
    "arr2 = np.random.randint(1,100,size = (3,3))\n",
    "arr2"
   ]
  },
  {
   "cell_type": "code",
   "execution_count": 7,
   "id": "2478a59f",
   "metadata": {},
   "outputs": [
    {
     "data": {
      "text/plain": [
       "array([[65, 57, 26],\n",
       "       [26, 85, 40],\n",
       "       [28, 77, 52],\n",
       "       [42,  2, 65],\n",
       "       [12, 72, 20],\n",
       "       [92, 19, 21]], dtype=int32)"
      ]
     },
     "execution_count": 7,
     "metadata": {},
     "output_type": "execute_result"
    }
   ],
   "source": [
    "np.concatenate([arr1,arr2])"
   ]
  },
  {
   "cell_type": "markdown",
   "id": "ddbcb044",
   "metadata": {},
   "source": [
    "#### To append column wise"
   ]
  },
  {
   "cell_type": "code",
   "execution_count": null,
   "id": "7d5a3538",
   "metadata": {},
   "outputs": [
    {
     "data": {
      "text/plain": [
       "array([[65, 57, 26, 42,  2, 65],\n",
       "       [26, 85, 40, 12, 72, 20],\n",
       "       [28, 77, 52, 92, 19, 21]], dtype=int32)"
      ]
     },
     "execution_count": 11,
     "metadata": {},
     "output_type": "execute_result"
    }
   ],
   "source": [
    "np.concatenate([arr1,arr2],axis=0)"
   ]
  },
  {
   "cell_type": "markdown",
   "id": "770eea56",
   "metadata": {},
   "source": [
    "### To append RowWise"
   ]
  },
  {
   "cell_type": "code",
   "execution_count": 12,
   "id": "6c97e1c6",
   "metadata": {},
   "outputs": [
    {
     "data": {
      "text/plain": [
       "array([[65, 57, 26, 42,  2, 65],\n",
       "       [26, 85, 40, 12, 72, 20],\n",
       "       [28, 77, 52, 92, 19, 21]], dtype=int32)"
      ]
     },
     "execution_count": 12,
     "metadata": {},
     "output_type": "execute_result"
    }
   ],
   "source": [
    "np.concatenate([arr1,arr2],axis = 1)"
   ]
  },
  {
   "cell_type": "markdown",
   "id": "3f73fc75",
   "metadata": {},
   "source": [
    "# Transpose Matrix\n",
    "\n",
    "### converts row into colum and column into row"
   ]
  },
  {
   "cell_type": "code",
   "execution_count": 21,
   "id": "c8aa276d",
   "metadata": {},
   "outputs": [
    {
     "data": {
      "text/plain": [
       "array([[42, 67, 33],\n",
       "       [81, 96, 56],\n",
       "       [55, 41, 22],\n",
       "       [19, 40, 47]], dtype=int32)"
      ]
     },
     "execution_count": 21,
     "metadata": {},
     "output_type": "execute_result"
    }
   ],
   "source": [
    "arr = np.random.randint(1,100, size = (4,3))\n",
    "arr"
   ]
  },
  {
   "cell_type": "markdown",
   "id": "2c09e573",
   "metadata": {},
   "source": [
    "### Matrix Multiplication"
   ]
  },
  {
   "cell_type": "code",
   "execution_count": 22,
   "id": "74383a71",
   "metadata": {},
   "outputs": [],
   "source": [
    "arr1 = np.random.randint(1,10,size = (2,2))\n",
    "arr2 = np.random.randint (1,10,size = (2,2))"
   ]
  },
  {
   "cell_type": "code",
   "execution_count": 23,
   "id": "7c1cd489",
   "metadata": {},
   "outputs": [
    {
     "data": {
      "text/plain": [
       "array([[7, 7],\n",
       "       [5, 4]], dtype=int32)"
      ]
     },
     "execution_count": 23,
     "metadata": {},
     "output_type": "execute_result"
    }
   ],
   "source": [
    "arr1"
   ]
  },
  {
   "cell_type": "code",
   "execution_count": 24,
   "id": "c248b556",
   "metadata": {},
   "outputs": [
    {
     "data": {
      "text/plain": [
       "array([[1, 3],\n",
       "       [5, 2]], dtype=int32)"
      ]
     },
     "execution_count": 24,
     "metadata": {},
     "output_type": "execute_result"
    }
   ],
   "source": [
    "arr2"
   ]
  },
  {
   "cell_type": "code",
   "execution_count": 25,
   "id": "6243646a",
   "metadata": {},
   "outputs": [
    {
     "data": {
      "text/plain": [
       "array([[ 7, 21],\n",
       "       [25,  8]], dtype=int32)"
      ]
     },
     "execution_count": 25,
     "metadata": {},
     "output_type": "execute_result"
    }
   ],
   "source": [
    "arr1*arr2"
   ]
  },
  {
   "cell_type": "markdown",
   "id": "c7f40085",
   "metadata": {},
   "source": [
    "### dot product"
   ]
  },
  {
   "cell_type": "code",
   "execution_count": 28,
   "id": "57cb52bb",
   "metadata": {},
   "outputs": [
    {
     "data": {
      "text/plain": [
       "array([[42, 35],\n",
       "       [25, 23]], dtype=int32)"
      ]
     },
     "execution_count": 28,
     "metadata": {},
     "output_type": "execute_result"
    }
   ],
   "source": [
    "np.dot(arr1, arr2)"
   ]
  },
  {
   "cell_type": "markdown",
   "id": "a2c7ad4b",
   "metadata": {},
   "source": [
    "## Diffrent functions in numpy \n",
    "### Where"
   ]
  },
  {
   "cell_type": "code",
   "execution_count": 30,
   "id": "333e08c9",
   "metadata": {},
   "outputs": [
    {
     "data": {
      "text/plain": [
       "array([ 4,  3, 10, 15, 12, 20, 25, 34, 70])"
      ]
     },
     "execution_count": 30,
     "metadata": {},
     "output_type": "execute_result"
    }
   ],
   "source": [
    "## np.where (condition,'if condTrue','else 'condition')\n",
    "\n",
    "arr2 = np.array([4,3,10,15,12,20,25,34,70])\n",
    "arr2"
   ]
  },
  {
   "cell_type": "markdown",
   "id": "be481a75",
   "metadata": {},
   "source": [
    "## To extract only even number "
   ]
  },
  {
   "cell_type": "code",
   "execution_count": 31,
   "id": "cf2ee38e",
   "metadata": {},
   "outputs": [
    {
     "data": {
      "text/plain": [
       "array(['EVEN', 'ODD', 'EVEN', 'ODD', 'EVEN', 'EVEN', 'ODD', 'EVEN',\n",
       "       'EVEN'], dtype='<U4')"
      ]
     },
     "execution_count": 31,
     "metadata": {},
     "output_type": "execute_result"
    }
   ],
   "source": [
    "np.where(arr2%2 == 0,\"EVEN\",\"ODD\")"
   ]
  },
  {
   "cell_type": "markdown",
   "id": "1d61b8be",
   "metadata": {},
   "source": [
    "### Generate a random array and add the 10 for the even number of array"
   ]
  },
  {
   "cell_type": "code",
   "execution_count": 32,
   "id": "5bb9e5d6",
   "metadata": {},
   "outputs": [
    {
     "data": {
      "text/plain": [
       "array([ 4,  3, 10, 15, 12, 20, 25, 34, 70])"
      ]
     },
     "execution_count": 32,
     "metadata": {},
     "output_type": "execute_result"
    }
   ],
   "source": [
    "arr2"
   ]
  },
  {
   "cell_type": "code",
   "execution_count": 34,
   "id": "88e39bc1",
   "metadata": {},
   "outputs": [
    {
     "data": {
      "text/plain": [
       "array([14,  3, 20, 15, 22, 30, 25, 44, 80])"
      ]
     },
     "execution_count": 34,
     "metadata": {},
     "output_type": "execute_result"
    }
   ],
   "source": [
    "np.where(arr2%2 == 0,arr2 + 10,arr2)"
   ]
  },
  {
   "cell_type": "markdown",
   "id": "0db5e0cc",
   "metadata": {},
   "source": [
    "#### Sort"
   ]
  },
  {
   "cell_type": "code",
   "execution_count": 35,
   "id": "5eda3f64",
   "metadata": {},
   "outputs": [
    {
     "data": {
      "text/plain": [
       "array([ 3,  4, 10, 12, 15, 20, 25, 34, 70])"
      ]
     },
     "execution_count": 35,
     "metadata": {},
     "output_type": "execute_result"
    }
   ],
   "source": [
    "np.sort(arr2)"
   ]
  },
  {
   "cell_type": "markdown",
   "id": "f013f47f",
   "metadata": {},
   "source": [
    "### For descending to ascending \n",
    "#### There is no reverse method we use indexing "
   ]
  },
  {
   "cell_type": "code",
   "execution_count": 37,
   "id": "4d5a8971",
   "metadata": {},
   "outputs": [
    {
     "data": {
      "text/plain": [
       "array([ 4,  3, 10, 15, 12, 20, 25, 34, 70])"
      ]
     },
     "execution_count": 37,
     "metadata": {},
     "output_type": "execute_result"
    }
   ],
   "source": [
    "arr2"
   ]
  },
  {
   "cell_type": "code",
   "execution_count": 39,
   "id": "f9e5a721",
   "metadata": {},
   "outputs": [
    {
     "data": {
      "text/plain": [
       "array([70, 34, 25, 20, 12, 15, 10,  3,  4])"
      ]
     },
     "execution_count": 39,
     "metadata": {},
     "output_type": "execute_result"
    }
   ],
   "source": [
    "arr2[::-1]"
   ]
  },
  {
   "cell_type": "markdown",
   "id": "216f0023",
   "metadata": {},
   "source": [
    "#### np.delete()"
   ]
  },
  {
   "cell_type": "code",
   "execution_count": 41,
   "id": "02215ace",
   "metadata": {},
   "outputs": [
    {
     "data": {
      "text/plain": [
       "array([ 3, 10, 15, 12, 20, 25, 34, 70])"
      ]
     },
     "execution_count": 41,
     "metadata": {},
     "output_type": "execute_result"
    }
   ],
   "source": [
    "np.delete(arr2,0)"
   ]
  },
  {
   "cell_type": "code",
   "execution_count": 42,
   "id": "9567edd3",
   "metadata": {},
   "outputs": [
    {
     "data": {
      "text/plain": [
       "array([ 4,  3, 10, 15, 12, 20, 25, 34, 70])"
      ]
     },
     "execution_count": 42,
     "metadata": {},
     "output_type": "execute_result"
    }
   ],
   "source": [
    "arr2"
   ]
  },
  {
   "cell_type": "markdown",
   "id": "d2a1ba77",
   "metadata": {},
   "source": [
    "###### Array is static ,runtime ma change garna mildaina sp reassign garnu parney hunxa jailey as follows"
   ]
  },
  {
   "cell_type": "code",
   "execution_count": null,
   "id": "a6c82102",
   "metadata": {},
   "outputs": [],
   "source": [
    "arr3= np.delete(arr2,0)"
   ]
  },
  {
   "cell_type": "code",
   "execution_count": 44,
   "id": "c83aa8e7",
   "metadata": {},
   "outputs": [
    {
     "data": {
      "text/plain": [
       "array([ 3, 10, 15, 12, 20, 25, 34, 70])"
      ]
     },
     "execution_count": 44,
     "metadata": {},
     "output_type": "execute_result"
    }
   ],
   "source": [
    "arr3"
   ]
  },
  {
   "cell_type": "code",
   "execution_count": 45,
   "id": "4aaa9105",
   "metadata": {},
   "outputs": [
    {
     "data": {
      "text/plain": [
       "array([ 3, 10, 15, 12, 20, 25, 34, 70])"
      ]
     },
     "execution_count": 45,
     "metadata": {},
     "output_type": "execute_result"
    }
   ],
   "source": [
    "arr3"
   ]
  },
  {
   "cell_type": "markdown",
   "id": "d6faa9fc",
   "metadata": {},
   "source": [
    "## np.insert()"
   ]
  },
  {
   "cell_type": "code",
   "execution_count": 48,
   "id": "ca59bd97",
   "metadata": {},
   "outputs": [
    {
     "data": {
      "text/plain": [
       "array([   3, 1000,   10,   15,   12,   20,   25,   34,   70])"
      ]
     },
     "execution_count": 48,
     "metadata": {},
     "output_type": "execute_result"
    }
   ],
   "source": [
    "np.insert(arr3,1,1000)"
   ]
  },
  {
   "cell_type": "code",
   "execution_count": 49,
   "id": "d4876951",
   "metadata": {},
   "outputs": [
    {
     "data": {
      "text/plain": [
       "array([ 3, 10, 15, 12, 20, 25, 34, 70])"
      ]
     },
     "execution_count": 49,
     "metadata": {},
     "output_type": "execute_result"
    }
   ],
   "source": [
    "arr3"
   ]
  },
  {
   "cell_type": "code",
   "execution_count": 51,
   "id": "a398b8a5",
   "metadata": {},
   "outputs": [
    {
     "data": {
      "text/plain": [
       "array([   3, 1000,   10,   15,   12,   20,   25,   34,   70])"
      ]
     },
     "execution_count": 51,
     "metadata": {},
     "output_type": "execute_result"
    }
   ],
   "source": [
    "arr4 = np.insert(arr3,1,1000)\n",
    "arr4"
   ]
  },
  {
   "cell_type": "code",
   "execution_count": 52,
   "id": "dfcbb1aa",
   "metadata": {},
   "outputs": [
    {
     "data": {
      "text/plain": [
       "array([   3, 1000,   10,   15,   12,   20,   25,   34,   70])"
      ]
     },
     "execution_count": 52,
     "metadata": {},
     "output_type": "execute_result"
    }
   ],
   "source": [
    "arr4"
   ]
  },
  {
   "cell_type": "markdown",
   "id": "dbbb547b",
   "metadata": {},
   "source": [
    "#### put()-----> Replaces"
   ]
  },
  {
   "cell_type": "code",
   "execution_count": 53,
   "id": "a405ea90",
   "metadata": {},
   "outputs": [],
   "source": [
    "np.put(arr4, [0,1],[100,200])"
   ]
  },
  {
   "cell_type": "code",
   "execution_count": 54,
   "id": "24a61839",
   "metadata": {},
   "outputs": [
    {
     "data": {
      "text/plain": [
       "array([100, 200,  10,  15,  12,  20,  25,  34,  70])"
      ]
     },
     "execution_count": 54,
     "metadata": {},
     "output_type": "execute_result"
    }
   ],
   "source": [
    "arr4"
   ]
  }
 ],
 "metadata": {
  "kernelspec": {
   "display_name": "Python 3",
   "language": "python",
   "name": "python3"
  },
  "language_info": {
   "codemirror_mode": {
    "name": "ipython",
    "version": 3
   },
   "file_extension": ".py",
   "mimetype": "text/x-python",
   "name": "python",
   "nbconvert_exporter": "python",
   "pygments_lexer": "ipython3",
   "version": "3.13.2"
  }
 },
 "nbformat": 4,
 "nbformat_minor": 5
}
