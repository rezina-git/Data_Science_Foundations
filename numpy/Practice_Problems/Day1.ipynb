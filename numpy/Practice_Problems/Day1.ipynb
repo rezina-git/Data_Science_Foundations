{
 "cells": [
  {
   "cell_type": "markdown",
   "id": "73b781f1",
   "metadata": {},
   "source": [
    "### Create a 1D NumPy array with values from 0 to 9.\n",
    "\n",
    "###  Create a 3x3 NumPy array of all zeros.\n",
    "\n",
    "###  Create a 5x5 identity matrix.\n",
    "\n",
    "###  Create a NumPy array of 10 random integers between 1 and 100.\n",
    "\n",
    "###  Generate a 2D array (3x3) with random floats between 0 and 1.\n",
    "\n",
    "###  Replace all odd numbers in a NumPy array with -1.\n",
    "\n",
    "### Reverse a 1D NumPy array (e.g., [1, 2, 3] becomes [3, 2, 1]).\n",
    "\n",
    "### Stack two 1D arrays vertically and horizontally.\n",
    "\n",
    "### Create a 3x3 matrix and compute its mean, median, and standard deviation.\n",
    "\n",
    "### Extract all elements from an array greater than a given value.\n",
    "\n",
    "### Find the indices of non-zero elements in a NumPy array.\n",
    "\n",
    "### Create a 10-element array and sort it.\n",
    "\n",
    "### Check if two NumPy arrays are equal.\n",
    "\n",
    "### Create a 4x4 matrix and calculate the sum of each column."
   ]
  },
  {
   "cell_type": "code",
   "execution_count": 3,
   "id": "73975fa1",
   "metadata": {},
   "outputs": [],
   "source": [
    "#Create a 1D NumPy array with values from 0 to 9.\n",
    "\n",
    "import numpy as np"
   ]
  },
  {
   "cell_type": "code",
   "execution_count": 4,
   "id": "c4415882",
   "metadata": {},
   "outputs": [
    {
     "data": {
      "text/plain": [
       "array([0, 1, 2, 3, 4, 5, 6, 7, 8, 9])"
      ]
     },
     "execution_count": 4,
     "metadata": {},
     "output_type": "execute_result"
    }
   ],
   "source": [
    "np.array([0,1,2,3,4,5,6,7,8,9])"
   ]
  },
  {
   "cell_type": "markdown",
   "id": "a3b1afae",
   "metadata": {},
   "source": [
    "#### OR"
   ]
  },
  {
   "cell_type": "code",
   "execution_count": 2,
   "id": "d6e7ada9",
   "metadata": {},
   "outputs": [
    {
     "name": "stdout",
     "output_type": "stream",
     "text": [
      "[ 0  1  2  3  4  5  6  7  8  9 10 11 12 13 14 15 16 17 18 19]\n"
     ]
    }
   ],
   "source": [
    "import numpy as np\n",
    "\n",
    "arr = np.arange(20)\n",
    "print(arr)"
   ]
  },
  {
   "cell_type": "code",
   "execution_count": 5,
   "id": "e9582936",
   "metadata": {},
   "outputs": [
    {
     "data": {
      "text/plain": [
       "array([[0, 0, 0],\n",
       "       [0, 0, 0],\n",
       "       [0, 0, 0]])"
      ]
     },
     "execution_count": 5,
     "metadata": {},
     "output_type": "execute_result"
    }
   ],
   "source": [
    "#Create a 3x3 NumPy array of all zeros.\n",
    "np.zeros((3,3), dtype=int)"
   ]
  },
  {
   "cell_type": "code",
   "execution_count": 6,
   "id": "a409236b",
   "metadata": {},
   "outputs": [
    {
     "data": {
      "text/plain": [
       "array([[1, 0, 0, 0, 0],\n",
       "       [0, 1, 0, 0, 0],\n",
       "       [0, 0, 1, 0, 0],\n",
       "       [0, 0, 0, 1, 0],\n",
       "       [0, 0, 0, 0, 1]])"
      ]
     },
     "execution_count": 6,
     "metadata": {},
     "output_type": "execute_result"
    }
   ],
   "source": [
    "#Create a 5x5 identity matrix.\n",
    "np.identity(5,dtype=int)"
   ]
  },
  {
   "cell_type": "code",
   "execution_count": 7,
   "id": "c72354c9",
   "metadata": {},
   "outputs": [
    {
     "data": {
      "text/plain": [
       "array([66, 21, 53, 95, 23, 22, 85, 72,  7, 15], dtype=int32)"
      ]
     },
     "execution_count": 7,
     "metadata": {},
     "output_type": "execute_result"
    }
   ],
   "source": [
    "# create a NumPy array of 10 random integers between 1 and 100.\n",
    "arr = np.random.randint(1,100,10)\n",
    "arr"
   ]
  },
  {
   "cell_type": "code",
   "execution_count": 5,
   "id": "a385c4dd",
   "metadata": {},
   "outputs": [
    {
     "data": {
      "text/plain": [
       "array([[[0.77329707, 0.28091745, 0.92096184],\n",
       "        [0.75798171, 0.95145239, 0.78404168]],\n",
       "\n",
       "       [[0.00788025, 0.39854136, 0.31391883],\n",
       "        [0.02774976, 0.68911307, 0.21400236]],\n",
       "\n",
       "       [[0.25133936, 0.97095141, 0.93889212],\n",
       "        [0.33468841, 0.9530518 , 0.83794055]]])"
      ]
     },
     "execution_count": 5,
     "metadata": {},
     "output_type": "execute_result"
    }
   ],
   "source": [
    "# Generate a 2D array (3x3) with random floats between 0 and 1.\n",
    "b = np.random.random((3,2,3))\n",
    "b"
   ]
  },
  {
   "cell_type": "code",
   "execution_count": 9,
   "id": "620e8002",
   "metadata": {},
   "outputs": [
    {
     "data": {
      "text/plain": [
       "array([ 1,  2,  3,  4,  5,  6,  7,  8,  9, 10])"
      ]
     },
     "execution_count": 9,
     "metadata": {},
     "output_type": "execute_result"
    }
   ],
   "source": [
    "#Replace all odd numbers in a NumPy array with -1.\n",
    "c = np.array([1,2,3,4,5,6,7,8,9,10])\n",
    "c"
   ]
  },
  {
   "cell_type": "code",
   "execution_count": 10,
   "id": "987ae041",
   "metadata": {},
   "outputs": [
    {
     "data": {
      "text/plain": [
       "array([-1,  2, -1,  4, -1,  6, -1,  8, -1, 10])"
      ]
     },
     "execution_count": 10,
     "metadata": {},
     "output_type": "execute_result"
    }
   ],
   "source": [
    "c = np.where(c%2 != 0, -1,c)\n",
    "c"
   ]
  },
  {
   "cell_type": "code",
   "execution_count": 11,
   "id": "03724ec4",
   "metadata": {},
   "outputs": [
    {
     "data": {
      "text/plain": [
       "array([ 1,  2,  3,  4,  5,  6,  7,  8,  9, 10])"
      ]
     },
     "execution_count": 11,
     "metadata": {},
     "output_type": "execute_result"
    }
   ],
   "source": [
    "# Reverse a 1D NumPy array (e.g., [1, 2, 3] becomes [3, 2, 1]).\n",
    "d = np.array([10,9,8,7,6,5,4,3,2,1])\n",
    "d[::-1]"
   ]
  },
  {
   "cell_type": "code",
   "execution_count": 12,
   "id": "da6a0423",
   "metadata": {},
   "outputs": [],
   "source": [
    "#Stack two 1D arrays vertically and horizontally.\n",
    "e = np.array([1,2,3,4,5])\n",
    "f = np.array([7,8,9,3,5])"
   ]
  },
  {
   "cell_type": "code",
   "execution_count": 13,
   "id": "2d3ebbb2",
   "metadata": {},
   "outputs": [
    {
     "data": {
      "text/plain": [
       "array([1, 2, 3, 4, 5])"
      ]
     },
     "execution_count": 13,
     "metadata": {},
     "output_type": "execute_result"
    }
   ],
   "source": [
    "e"
   ]
  },
  {
   "cell_type": "code",
   "execution_count": 14,
   "id": "eca79923",
   "metadata": {},
   "outputs": [
    {
     "data": {
      "text/plain": [
       "array([7, 8, 9, 3, 5])"
      ]
     },
     "execution_count": 14,
     "metadata": {},
     "output_type": "execute_result"
    }
   ],
   "source": [
    "f"
   ]
  },
  {
   "cell_type": "code",
   "execution_count": 15,
   "id": "2e57902c",
   "metadata": {},
   "outputs": [
    {
     "data": {
      "text/plain": [
       "array([[1, 2, 3, 4, 5],\n",
       "       [7, 8, 9, 3, 5]])"
      ]
     },
     "execution_count": 15,
     "metadata": {},
     "output_type": "execute_result"
    }
   ],
   "source": [
    "j =np.vstack((e,f))\n",
    "j"
   ]
  },
  {
   "cell_type": "code",
   "execution_count": 16,
   "id": "a8889f01",
   "metadata": {},
   "outputs": [
    {
     "data": {
      "text/plain": [
       "array([1, 2, 3, 4, 5, 7, 8, 9, 3, 5])"
      ]
     },
     "execution_count": 16,
     "metadata": {},
     "output_type": "execute_result"
    }
   ],
   "source": [
    "d = np.hstack((e,f))\n",
    "d"
   ]
  },
  {
   "cell_type": "markdown",
   "id": "e939754e",
   "metadata": {},
   "source": [
    "# Create a 3x3 matrix and compute its mean, median, and standard deviation."
   ]
  },
  {
   "cell_type": "code",
   "execution_count": 17,
   "id": "fb3faf94",
   "metadata": {},
   "outputs": [
    {
     "data": {
      "text/plain": [
       "array([[ 8, 90, 27],\n",
       "       [86, 47, 12],\n",
       "       [83, 14, 57]], dtype=int32)"
      ]
     },
     "execution_count": 17,
     "metadata": {},
     "output_type": "execute_result"
    }
   ],
   "source": [
    "hi = np.random.randint(1,100,size = (3,3))\n",
    "hi"
   ]
  },
  {
   "cell_type": "code",
   "execution_count": 18,
   "id": "f27a56fd",
   "metadata": {},
   "outputs": [
    {
     "data": {
      "text/plain": [
       "np.float64(47.111111111111114)"
      ]
     },
     "execution_count": 18,
     "metadata": {},
     "output_type": "execute_result"
    }
   ],
   "source": [
    "np.mean(hi)"
   ]
  },
  {
   "cell_type": "code",
   "execution_count": 19,
   "id": "46132cdb",
   "metadata": {},
   "outputs": [
    {
     "data": {
      "text/plain": [
       "array([59.        , 50.33333333, 32.        ])"
      ]
     },
     "execution_count": 19,
     "metadata": {},
     "output_type": "execute_result"
    }
   ],
   "source": [
    "# Tp print Column Mean\n",
    "np.mean(hi,axis=0)"
   ]
  },
  {
   "cell_type": "code",
   "execution_count": 20,
   "id": "6f906166",
   "metadata": {},
   "outputs": [
    {
     "data": {
      "text/plain": [
       "array([41.66666667, 48.33333333, 51.33333333])"
      ]
     },
     "execution_count": 20,
     "metadata": {},
     "output_type": "execute_result"
    }
   ],
   "source": [
    "np.mean(hi, axis=1)"
   ]
  },
  {
   "cell_type": "code",
   "execution_count": 21,
   "id": "e9d7ba80",
   "metadata": {},
   "outputs": [
    {
     "data": {
      "text/plain": [
       "np.float64(47.0)"
      ]
     },
     "execution_count": 21,
     "metadata": {},
     "output_type": "execute_result"
    }
   ],
   "source": [
    "np.median(hi)"
   ]
  },
  {
   "cell_type": "code",
   "execution_count": 22,
   "id": "91cebccb",
   "metadata": {},
   "outputs": [
    {
     "data": {
      "text/plain": [
       "array([83., 47., 27.])"
      ]
     },
     "execution_count": 22,
     "metadata": {},
     "output_type": "execute_result"
    }
   ],
   "source": [
    "np.median(hi,axis= 0)"
   ]
  },
  {
   "cell_type": "code",
   "execution_count": 23,
   "id": "c5788f6a",
   "metadata": {},
   "outputs": [
    {
     "data": {
      "text/plain": [
       "array([27., 47., 57.])"
      ]
     },
     "execution_count": 23,
     "metadata": {},
     "output_type": "execute_result"
    }
   ],
   "source": [
    "np.median(hi,axis=1)"
   ]
  },
  {
   "cell_type": "code",
   "execution_count": 24,
   "id": "2ba9430c",
   "metadata": {},
   "outputs": [
    {
     "data": {
      "text/plain": [
       "np.float64(31.62433818172483)"
      ]
     },
     "execution_count": 24,
     "metadata": {},
     "output_type": "execute_result"
    }
   ],
   "source": [
    "np.std(hi)"
   ]
  },
  {
   "cell_type": "markdown",
   "id": "e2a315b0",
   "metadata": {},
   "source": [
    "### Extract all elements from an array greater than a given value."
   ]
  },
  {
   "cell_type": "code",
   "execution_count": 25,
   "id": "5a322609",
   "metadata": {},
   "outputs": [
    {
     "data": {
      "text/plain": [
       "array([85, 89,  4, 64, 46, 20, 79, 73, 52, 38, 77, 51, 51, 86, 31, 51, 70,\n",
       "       41, 67, 97], dtype=int32)"
      ]
     },
     "execution_count": 25,
     "metadata": {},
     "output_type": "execute_result"
    }
   ],
   "source": [
    "arr1 = np.random.randint(2,100, 20)\n",
    "arr1"
   ]
  },
  {
   "cell_type": "code",
   "execution_count": 26,
   "id": "da1f518f",
   "metadata": {},
   "outputs": [
    {
     "data": {
      "text/plain": [
       "array([ 4, 46, 20, 38, 31, 41], dtype=int32)"
      ]
     },
     "execution_count": 26,
     "metadata": {},
     "output_type": "execute_result"
    }
   ],
   "source": [
    "arr1[arr1<50]"
   ]
  },
  {
   "cell_type": "code",
   "execution_count": 27,
   "id": "1be5f918",
   "metadata": {},
   "outputs": [
    {
     "data": {
      "text/plain": [
       "array([1, 0, 2, 0, 0, 3, 4, 5, 0, 6, 9])"
      ]
     },
     "execution_count": 27,
     "metadata": {},
     "output_type": "execute_result"
    }
   ],
   "source": [
    "# Find the indices of non-zero elements in a NumPy array.\n",
    "arr2 = np.array([1,0,2,0,0,3,4,5,0,6,9])\n",
    "arr2"
   ]
  },
  {
   "cell_type": "code",
   "execution_count": 28,
   "id": "215bb1a9",
   "metadata": {},
   "outputs": [
    {
     "data": {
      "text/plain": [
       "(array([0, 1, 2, 3, 4, 5, 6, 7, 8, 9]),)"
      ]
     },
     "execution_count": 28,
     "metadata": {},
     "output_type": "execute_result"
    }
   ],
   "source": [
    "np.nonzero(arr) #shows index position"
   ]
  },
  {
   "cell_type": "code",
   "execution_count": 30,
   "id": "0722a2eb",
   "metadata": {},
   "outputs": [
    {
     "data": {
      "text/plain": [
       "array([1, 5, 7, 8, 9, 2, 3, 4, 6, 8])"
      ]
     },
     "execution_count": 30,
     "metadata": {},
     "output_type": "execute_result"
    }
   ],
   "source": [
    "# Create a 10-element array and sort it.\n",
    "\n",
    "arr3 = np.array([1,5,7,8,9,2,3,4,6,8,])\n",
    "arr3"
   ]
  },
  {
   "cell_type": "code",
   "execution_count": 31,
   "id": "3a8a7491",
   "metadata": {},
   "outputs": [
    {
     "data": {
      "text/plain": [
       "array([1, 2, 3, 4, 5, 6, 7, 8, 8, 9])"
      ]
     },
     "execution_count": 31,
     "metadata": {},
     "output_type": "execute_result"
    }
   ],
   "source": [
    "np.sort(arr3)"
   ]
  },
  {
   "cell_type": "code",
   "execution_count": 32,
   "id": "20cb9d75",
   "metadata": {},
   "outputs": [
    {
     "data": {
      "text/plain": [
       "True"
      ]
     },
     "execution_count": 32,
     "metadata": {},
     "output_type": "execute_result"
    }
   ],
   "source": [
    "# Check if two NumPy arrays are equal.\n",
    "arr1=([1,2,3,4])\n",
    "arr2=([1,2,3,4])\n",
    "hi=np.array_equal(arr1,arr2)\n",
    "hi"
   ]
  },
  {
   "cell_type": "code",
   "execution_count": 33,
   "id": "d67413eb",
   "metadata": {},
   "outputs": [
    {
     "data": {
      "text/plain": [
       "array([[39, 49, 44, 43],\n",
       "       [37, 43, 24,  7],\n",
       "       [24, 13, 43, 23],\n",
       "       [15,  4,  4, 22]], dtype=int32)"
      ]
     },
     "execution_count": 33,
     "metadata": {},
     "output_type": "execute_result"
    }
   ],
   "source": [
    "#Create a 4x4 matrix and calculate the sum of each column.\n",
    "arr1=np.random.randint(1,50,size=(4,4))\n",
    "arr1"
   ]
  },
  {
   "cell_type": "code",
   "execution_count": 34,
   "id": "8995b9f0",
   "metadata": {},
   "outputs": [
    {
     "data": {
      "text/plain": [
       "array([115, 109, 115,  95])"
      ]
     },
     "execution_count": 34,
     "metadata": {},
     "output_type": "execute_result"
    }
   ],
   "source": [
    "np.sum(arr1,axis=0)"
   ]
  }
 ],
 "metadata": {
  "kernelspec": {
   "display_name": "Python 3",
   "language": "python",
   "name": "python3"
  },
  "language_info": {
   "codemirror_mode": {
    "name": "ipython",
    "version": 3
   },
   "file_extension": ".py",
   "mimetype": "text/x-python",
   "name": "python",
   "nbconvert_exporter": "python",
   "pygments_lexer": "ipython3",
   "version": "3.13.2"
  }
 },
 "nbformat": 4,
 "nbformat_minor": 5
}
