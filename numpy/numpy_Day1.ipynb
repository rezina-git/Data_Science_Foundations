{
 "cells": [
  {
   "cell_type": "code",
   "execution_count": 13,
   "id": "b28ef3ce-7bab-4790-9c8a-3832881e4822",
   "metadata": {},
   "outputs": [
    {
     "name": "stdout",
     "output_type": "stream",
     "text": [
      "Defaulting to user installation because normal site-packages is not writeable\n",
      "Requirement already satisfied: numpy in c:\\users\\97798\\appdata\\roaming\\python\\python313\\site-packages (2.3.1)\n"
     ]
    },
    {
     "name": "stderr",
     "output_type": "stream",
     "text": [
      "\n",
      "[notice] A new release of pip is available: 24.3.1 -> 25.1.1\n",
      "[notice] To update, run: python.exe -m pip install --upgrade pip\n"
     ]
    }
   ],
   "source": [
    "! pip install numpy"
   ]
  },
  {
   "cell_type": "markdown",
   "id": "3db62d4d-4f5a-42b4-a8c1-850178e086b3",
   "metadata": {},
   "source": [
    "## import library"
   ]
  },
  {
   "cell_type": "code",
   "execution_count": 2,
   "id": "bc0110fd-0e8c-4146-ada9-e229e44c7374",
   "metadata": {},
   "outputs": [],
   "source": [
    "import numpy as np"
   ]
  },
  {
   "cell_type": "code",
   "execution_count": 3,
   "id": "2ed8717b-7747-4fa4-b251-a4fe6ac9a80e",
   "metadata": {},
   "outputs": [
    {
     "name": "stdout",
     "output_type": "stream",
     "text": [
      "[10, 20, 30, 40, 50]\n",
      "<class 'list'>\n"
     ]
    }
   ],
   "source": [
    "list = [ 10, 20, 30 ,40,50]\n",
    "\n",
    "print(list)\n",
    "print(type(list))"
   ]
  },
  {
   "cell_type": "code",
   "execution_count": 4,
   "id": "71d07dbf-976d-4a93-ad3e-9b868962927a",
   "metadata": {},
   "outputs": [
    {
     "name": "stdout",
     "output_type": "stream",
     "text": [
      "[10 20 30 40 50]\n",
      "<class 'numpy.ndarray'>\n"
     ]
    }
   ],
   "source": [
    "# convert list into array the array\n",
    "arr = np.array(list)\n",
    "print(arr)\n",
    "print(type(arr))"
   ]
  },
  {
   "cell_type": "markdown",
   "id": "38a360b2-e519-47bd-914b-17a0feab2f71",
   "metadata": {},
   "source": [
    "# different attributes in numpy array (shape , size , dimensions)"
   ]
  },
  {
   "cell_type": "code",
   "execution_count": 5,
   "id": "cfb9e2db-bc74-457c-8400-070ae85cdeee",
   "metadata": {},
   "outputs": [
    {
     "data": {
      "text/plain": [
       "array([10, 20, 30, 40, 50])"
      ]
     },
     "execution_count": 5,
     "metadata": {},
     "output_type": "execute_result"
    }
   ],
   "source": [
    "arr"
   ]
  },
  {
   "cell_type": "code",
   "execution_count": 6,
   "id": "b6bb972b-248e-4100-af24-99cdfbe22fd3",
   "metadata": {},
   "outputs": [
    {
     "data": {
      "text/plain": [
       "1"
      ]
     },
     "execution_count": 6,
     "metadata": {},
     "output_type": "execute_result"
    }
   ],
   "source": [
    "arr.ndim # array.ndim  --- Gives types of Dimension of the array"
   ]
  },
  {
   "cell_type": "code",
   "execution_count": 7,
   "id": "805064aa-6524-48e9-ac95-481c5c506fc7",
   "metadata": {},
   "outputs": [
    {
     "data": {
      "text/plain": [
       "5"
      ]
     },
     "execution_count": 7,
     "metadata": {},
     "output_type": "execute_result"
    }
   ],
   "source": [
    "# Size returns array ma katiota elements xa vanera return garxa\n",
    "arr.size"
   ]
  },
  {
   "cell_type": "code",
   "execution_count": 8,
   "id": "d559ba20-15a2-4996-a01c-01478cda301f",
   "metadata": {},
   "outputs": [
    {
     "data": {
      "text/plain": [
       "(5,)"
      ]
     },
     "execution_count": 8,
     "metadata": {},
     "output_type": "execute_result"
    }
   ],
   "source": [
    "arr.shape    # array shape of 5 in 1 direction (total number of rows and total number of column)"
   ]
  },
  {
   "cell_type": "markdown",
   "id": "b1efc128-ab0d-452e-b53c-110d34ef401c",
   "metadata": {},
   "source": [
    "## 2 dimension array (yesko lagi list vitra list dina parxa)"
   ]
  },
  {
   "cell_type": "code",
   "execution_count": 10,
   "id": "547d58d3-1164-4237-86cb-50c1cd933376",
   "metadata": {},
   "outputs": [],
   "source": [
    "lst2 = [[10,20,30],[40,50,60],[70,80,90]]"
   ]
  },
  {
   "cell_type": "code",
   "execution_count": 12,
   "id": "6604a616-30e5-4f88-a174-0ffefde04c0c",
   "metadata": {},
   "outputs": [
    {
     "data": {
      "text/plain": [
       "[70, 80, 90]"
      ]
     },
     "execution_count": 12,
     "metadata": {},
     "output_type": "execute_result"
    }
   ],
   "source": [
    "lst2[2]"
   ]
  },
  {
   "cell_type": "code",
   "execution_count": 13,
   "id": "309d2537-e945-4c0b-9404-a051970d28a6",
   "metadata": {},
   "outputs": [
    {
     "data": {
      "text/plain": [
       "[40, 50, 60]"
      ]
     },
     "execution_count": 13,
     "metadata": {},
     "output_type": "execute_result"
    }
   ],
   "source": [
    "lst2[1]"
   ]
  },
  {
   "cell_type": "code",
   "execution_count": 15,
   "id": "f49ed040-2eba-497d-b23d-940df1b97fc7",
   "metadata": {},
   "outputs": [
    {
     "data": {
      "text/plain": [
       "[10, 20, 30]"
      ]
     },
     "execution_count": 15,
     "metadata": {},
     "output_type": "execute_result"
    }
   ],
   "source": [
    "lst2[0]"
   ]
  },
  {
   "cell_type": "code",
   "execution_count": 18,
   "id": "6b4d27da-3f59-4495-b036-dc92acab2a6a",
   "metadata": {},
   "outputs": [],
   "source": [
    "# to convert array \n",
    "arr2d = np.array(lst2)"
   ]
  },
  {
   "cell_type": "code",
   "execution_count": 19,
   "id": "5d8fed50-0831-4aa6-8afd-3b47a77e9660",
   "metadata": {},
   "outputs": [
    {
     "data": {
      "text/plain": [
       "2"
      ]
     },
     "execution_count": 19,
     "metadata": {},
     "output_type": "execute_result"
    }
   ],
   "source": [
    "arr2d.ndim"
   ]
  },
  {
   "cell_type": "code",
   "execution_count": 20,
   "id": "c7ebbf48-ae81-4356-a710-c15332e29876",
   "metadata": {},
   "outputs": [
    {
     "data": {
      "text/plain": [
       "(3, 3)"
      ]
     },
     "execution_count": 20,
     "metadata": {},
     "output_type": "execute_result"
    }
   ],
   "source": [
    "arr2d.shape #Gives matrix data type"
   ]
  },
  {
   "cell_type": "code",
   "execution_count": 21,
   "id": "4a5aa9ca-643a-4bdb-92f7-2891f55d6008",
   "metadata": {},
   "outputs": [],
   "source": [
    "#list is hetregenous [1,2.5.\"ram\",True]\n",
    "#But array is homogenous [10,20,30], [10.2,11.2,4.5]"
   ]
  },
  {
   "cell_type": "code",
   "execution_count": 22,
   "id": "ce62a4ab-e70a-4dd9-b955-84f0bdc1570a",
   "metadata": {},
   "outputs": [
    {
     "data": {
      "text/plain": [
       "9"
      ]
     },
     "execution_count": 22,
     "metadata": {},
     "output_type": "execute_result"
    }
   ],
   "source": [
    "arr2d.size"
   ]
  },
  {
   "cell_type": "markdown",
   "id": "29f646d3-45f0-4d89-9040-714522deb4e4",
   "metadata": {},
   "source": [
    "# 3 dimension array"
   ]
  },
  {
   "cell_type": "code",
   "execution_count": 34,
   "id": "749bbbdd-17dd-4f55-9e14-e1ef59bb58de",
   "metadata": {},
   "outputs": [],
   "source": [
    "lst31 =[ [10,20,30,12],[50,60,70,80],[90,100,120,140] ]\n",
    "lst32 =[ [100,200,300,120],[500,600,700,800],[900,1000,1200,1400] ]"
   ]
  },
  {
   "cell_type": "code",
   "execution_count": 35,
   "id": "069a7bce-dde8-4ba2-a91a-87dded734493",
   "metadata": {},
   "outputs": [
    {
     "data": {
      "text/plain": [
       "[[10, 20, 30, 12], [50, 60, 70, 80], [90, 100, 120, 140]]"
      ]
     },
     "execution_count": 35,
     "metadata": {},
     "output_type": "execute_result"
    }
   ],
   "source": [
    "lst33 = [lst31, lst32]\n",
    "lst33[0]"
   ]
  },
  {
   "cell_type": "code",
   "execution_count": 36,
   "id": "9e9738a9-af7c-4b0b-a78a-75bf84fa5518",
   "metadata": {},
   "outputs": [
    {
     "data": {
      "text/plain": [
       "array([[[  10,   20,   30,   12],\n",
       "        [  50,   60,   70,   80],\n",
       "        [  90,  100,  120,  140]],\n",
       "\n",
       "       [[ 100,  200,  300,  120],\n",
       "        [ 500,  600,  700,  800],\n",
       "        [ 900, 1000, 1200, 1400]]])"
      ]
     },
     "execution_count": 36,
     "metadata": {},
     "output_type": "execute_result"
    }
   ],
   "source": [
    "#To convert into 3 dimension \n",
    "arr3d = np.array(lst33)\n",
    "arr3d"
   ]
  },
  {
   "cell_type": "code",
   "execution_count": 37,
   "id": "c6162d51-fefa-4177-a303-974796e4714c",
   "metadata": {},
   "outputs": [
    {
     "data": {
      "text/plain": [
       "(2, 3, 4)"
      ]
     },
     "execution_count": 37,
     "metadata": {},
     "output_type": "execute_result"
    }
   ],
   "source": [
    "arr3d.shape"
   ]
  },
  {
   "cell_type": "code",
   "execution_count": 38,
   "id": "e637bb84-510c-4b9f-9e01-2334f79fa490",
   "metadata": {},
   "outputs": [],
   "source": [
    "# 2 ley total hamro 2 ta 3 ota dimension vako array xa vanxa\n",
    "# 3,4 ley 3*4  3 ta row ra 4 ta column represent garxa"
   ]
  },
  {
   "cell_type": "code",
   "execution_count": 39,
   "id": "4a7607c6-0e13-487a-9526-14814083d820",
   "metadata": {},
   "outputs": [
    {
     "data": {
      "text/plain": [
       "3"
      ]
     },
     "execution_count": 39,
     "metadata": {},
     "output_type": "execute_result"
    }
   ],
   "source": [
    "arr3d.ndim"
   ]
  },
  {
   "cell_type": "code",
   "execution_count": 40,
   "id": "ccf8d882-45e1-4bbe-a14a-bb063b1a9cc6",
   "metadata": {},
   "outputs": [
    {
     "data": {
      "text/plain": [
       "24"
      ]
     },
     "execution_count": 40,
     "metadata": {},
     "output_type": "execute_result"
    }
   ],
   "source": [
    "arr3d.size   # (3*4)--->12 + 12"
   ]
  },
  {
   "cell_type": "markdown",
   "id": "a56aaab1-601a-447f-a113-c6d612e0e6b7",
   "metadata": {},
   "source": [
    "# Data types"
   ]
  },
  {
   "cell_type": "markdown",
   "id": "507ddd29-c751-4735-a805-033d1c687f2f",
   "metadata": {},
   "source": [
    "# Float into integer"
   ]
  },
  {
   "cell_type": "code",
   "execution_count": 41,
   "id": "31562d35-7f1d-4adb-8599-8c80ad9f7c4e",
   "metadata": {},
   "outputs": [
    {
     "data": {
      "text/plain": [
       "array([10.55, 10.66,  3.7 ,  9.  ,  5.8 ])"
      ]
     },
     "execution_count": 41,
     "metadata": {},
     "output_type": "execute_result"
    }
   ],
   "source": [
    "data = [10.55,10.66,3.7,9.0,5.8]\n",
    "np.array(data)"
   ]
  },
  {
   "cell_type": "code",
   "execution_count": 45,
   "id": "6393901e-de73-4d26-8312-ed67e40104c7",
   "metadata": {},
   "outputs": [
    {
     "data": {
      "text/plain": [
       "array([10, 10,  3,  9,  5])"
      ]
     },
     "execution_count": 45,
     "metadata": {},
     "output_type": "execute_result"
    }
   ],
   "source": [
    "#To convert this data type into integer\n",
    "np.array (data,dtype = int )"
   ]
  },
  {
   "cell_type": "markdown",
   "id": "98c931a0-863d-4817-90b9-a3da91a934f2",
   "metadata": {},
   "source": [
    "# Integer into float"
   ]
  },
  {
   "cell_type": "code",
   "execution_count": 51,
   "id": "8e772af3-89a6-4707-8da5-c034423f339e",
   "metadata": {},
   "outputs": [
    {
     "data": {
      "text/plain": [
       "array([12., 13., 14., 15.])"
      ]
     },
     "execution_count": 51,
     "metadata": {},
     "output_type": "execute_result"
    }
   ],
   "source": [
    "lst2 = [12,13,14,15]\n",
    "np.array(lst2,dtype = 'float')"
   ]
  },
  {
   "cell_type": "markdown",
   "id": "98ae86c5-b9d9-42c0-8da0-0e193c17d51c",
   "metadata": {},
   "source": [
    "# Boolean ()True of false --> everything except 0 is True"
   ]
  },
  {
   "cell_type": "code",
   "execution_count": 53,
   "id": "e453e1b4-3ba3-4d56-9fa8-49bf580bcc2e",
   "metadata": {},
   "outputs": [
    {
     "data": {
      "text/plain": [
       "array([ True,  True,  True,  True,  True, False,  True, False])"
      ]
     },
     "execution_count": 53,
     "metadata": {},
     "output_type": "execute_result"
    }
   ],
   "source": [
    "lst = [10,20,30,-10,100,0,23,0]\n",
    "\n",
    "np.array(lst, dtype = bool)"
   ]
  },
  {
   "cell_type": "markdown",
   "id": "5e62ea22-2400-4c48-8ad8-8c1f677be341",
   "metadata": {},
   "source": [
    "## Random number generation for 1d ,2d,3d, special function (Zeros,ones,identity)"
   ]
  },
  {
   "cell_type": "markdown",
   "id": "4a239a18-2af7-4d1d-8a6c-c411451bebaf",
   "metadata": {},
   "source": [
    "## 0 to 1 range "
   ]
  },
  {
   "cell_type": "code",
   "execution_count": 3,
   "id": "8ba10a0d-f80c-4ac0-aa24-bd03ba313965",
   "metadata": {},
   "outputs": [],
   "source": [
    "import numpy as np"
   ]
  },
  {
   "cell_type": "code",
   "execution_count": 4,
   "id": "10bc0add-a908-4a99-ac27-b1b7729b8921",
   "metadata": {},
   "outputs": [
    {
     "data": {
      "text/plain": [
       "array([0.29577282, 0.70839639, 0.15322946, 0.38951455, 0.66114081,\n",
       "       0.63756888])"
      ]
     },
     "execution_count": 4,
     "metadata": {},
     "output_type": "execute_result"
    }
   ],
   "source": [
    "arr = np.random.random(6) #----->6 is the total number \n",
    "arr #by default output is given in float #range in between 0 and 1"
   ]
  },
  {
   "cell_type": "code",
   "execution_count": 5,
   "id": "9d477b8b-8f84-449d-aca5-ad376af33c99",
   "metadata": {},
   "outputs": [
    {
     "data": {
      "text/plain": [
       "array([[0.19509772, 0.78792019, 0.75939747],\n",
       "       [0.10494061, 0.29759256, 0.44909947]])"
      ]
     },
     "execution_count": 5,
     "metadata": {},
     "output_type": "execute_result"
    }
   ],
   "source": [
    "np.random.random((2,3)) #--->Gives two rows and three column array"
   ]
  },
  {
   "cell_type": "code",
   "execution_count": 6,
   "id": "e613f75d-8f9c-42e9-a6f4-2b581c086ba6",
   "metadata": {},
   "outputs": [
    {
     "data": {
      "text/plain": [
       "array([[[0.22005443, 0.70085515, 0.19588159, 0.29978888],\n",
       "        [0.22522728, 0.74295133, 0.83393512, 0.44212696],\n",
       "        [0.32373147, 0.17075115, 0.54158115, 0.9536068 ]],\n",
       "\n",
       "       [[0.49870523, 0.52991793, 0.80007558, 0.53567219],\n",
       "        [0.17350922, 0.07699314, 0.94923684, 0.36780297],\n",
       "        [0.15811547, 0.20416427, 0.96210805, 0.68490452]],\n",
       "\n",
       "       [[0.40268066, 0.26216896, 0.41095984, 0.53341035],\n",
       "        [0.4375907 , 0.3990195 , 0.53316954, 0.3068443 ],\n",
       "        [0.57929229, 0.4203902 , 0.04661103, 0.91197779]]])"
      ]
     },
     "execution_count": 6,
     "metadata": {},
     "output_type": "execute_result"
    }
   ],
   "source": [
    "np.random.random((3,3,4))  #___>first three gives dimension and another 3 is row and 4 is column"
   ]
  },
  {
   "cell_type": "markdown",
   "id": "082a9241-b725-4bab-aa8f-68d7928a1010",
   "metadata": {},
   "source": [
    "## Now if we want to give range ourselves.\n",
    "## 50 to 80"
   ]
  },
  {
   "cell_type": "code",
   "execution_count": 10,
   "id": "19090f21-934f-49bd-a838-3c74322110f6",
   "metadata": {},
   "outputs": [
    {
     "data": {
      "text/plain": [
       "array([72, 64, 66, 73, 72], dtype=int32)"
      ]
     },
     "execution_count": 10,
     "metadata": {},
     "output_type": "execute_result"
    }
   ],
   "source": [
    "np.random.randint(50, 80, 5)    #--->50 and 80 is range and 5 is total number of elements for 1 dimension"
   ]
  },
  {
   "cell_type": "code",
   "execution_count": 11,
   "id": "4d30b6aa-bb7f-4d83-bdd7-4703f7ed3a35",
   "metadata": {},
   "outputs": [
    {
     "data": {
      "text/plain": [
       "array([[[98, 93, 97],\n",
       "        [95, 98, 98],\n",
       "        [92, 92, 92]],\n",
       "\n",
       "       [[95, 95, 90],\n",
       "        [99, 97, 97],\n",
       "        [95, 96, 98]]], dtype=int32)"
      ]
     },
     "execution_count": 11,
     "metadata": {},
     "output_type": "execute_result"
    }
   ],
   "source": [
    "np.random.randint(90,100, size = (2,3,3))   #this is three dimension."
   ]
  },
  {
   "cell_type": "markdown",
   "id": "d67094b1-5490-4eda-ada4-3d01281c0c4e",
   "metadata": {},
   "source": [
    "# special function in numpy (Zeros,,ones , identity)"
   ]
  },
  {
   "cell_type": "code",
   "execution_count": 14,
   "id": "25844770-ddeb-431f-bd24-ae3998fecb4f",
   "metadata": {},
   "outputs": [
    {
     "data": {
      "text/plain": [
       "array([0, 0, 0, 0, 0, 0, 0, 0, 0, 0])"
      ]
     },
     "execution_count": 14,
     "metadata": {},
     "output_type": "execute_result"
    }
   ],
   "source": [
    "np.zeros(10,dtype = int) #gives 10 zeros number"
   ]
  },
  {
   "cell_type": "code",
   "execution_count": 15,
   "id": "a45ff3a4-d149-4dee-a454-0cf8aa00eac9",
   "metadata": {},
   "outputs": [
    {
     "data": {
      "text/plain": [
       "array([0., 0., 0., 0., 0., 0., 0., 0., 0., 0., 0., 0., 0., 0., 0.])"
      ]
     },
     "execution_count": 15,
     "metadata": {},
     "output_type": "execute_result"
    }
   ],
   "source": [
    "np.zeros(15)"
   ]
  },
  {
   "cell_type": "code",
   "execution_count": 24,
   "id": "387d57a6-39fe-4190-beef-1e4c80b9fa8a",
   "metadata": {},
   "outputs": [
    {
     "data": {
      "text/plain": [
       "array([[False, False, False],\n",
       "       [False, False, False],\n",
       "       [False, False, False],\n",
       "       [False, False, False]])"
      ]
     },
     "execution_count": 24,
     "metadata": {},
     "output_type": "execute_result"
    }
   ],
   "source": [
    "np.zeros((4,3), dtype = bool)"
   ]
  },
  {
   "cell_type": "code",
   "execution_count": 25,
   "id": "41bb059a-3ffa-4f3a-81aa-93f9e479753a",
   "metadata": {},
   "outputs": [
    {
     "data": {
      "text/plain": [
       "array([[[0, 0, 0],\n",
       "        [0, 0, 0],\n",
       "        [0, 0, 0]],\n",
       "\n",
       "       [[0, 0, 0],\n",
       "        [0, 0, 0],\n",
       "        [0, 0, 0]],\n",
       "\n",
       "       [[0, 0, 0],\n",
       "        [0, 0, 0],\n",
       "        [0, 0, 0]]])"
      ]
     },
     "execution_count": 25,
     "metadata": {},
     "output_type": "execute_result"
    }
   ],
   "source": [
    "np.zeros((3,3,3),dtype=int) #--> # dimension 3 rows and 3 column"
   ]
  },
  {
   "cell_type": "code",
   "execution_count": 26,
   "id": "4df60cd8-7a19-432a-850e-e66bd168ed76",
   "metadata": {},
   "outputs": [
    {
     "data": {
      "text/plain": [
       "array([[False, False],\n",
       "       [False, False]])"
      ]
     },
     "execution_count": 26,
     "metadata": {},
     "output_type": "execute_result"
    }
   ],
   "source": [
    "np.zeros ((2,2),dtype = bool )"
   ]
  },
  {
   "cell_type": "markdown",
   "id": "d06f7a4c-c41f-4f72-bc47-7b7dccd5cdd7",
   "metadata": {},
   "source": [
    "# ones"
   ]
  },
  {
   "cell_type": "code",
   "execution_count": 27,
   "id": "61b8e778-ab61-4372-aa36-34dc03b605ed",
   "metadata": {},
   "outputs": [
    {
     "data": {
      "text/plain": [
       "array([[ True,  True],\n",
       "       [ True,  True]])"
      ]
     },
     "execution_count": 27,
     "metadata": {},
     "output_type": "execute_result"
    }
   ],
   "source": [
    "np.ones((2,2), dtype = bool )"
   ]
  },
  {
   "cell_type": "markdown",
   "id": "a48388d2-37e6-4ff8-b84d-4872df96f1dd",
   "metadata": {},
   "source": [
    "# identity"
   ]
  },
  {
   "cell_type": "code",
   "execution_count": 28,
   "id": "432f62b3-b174-4e1b-aa65-513d93446a91",
   "metadata": {},
   "outputs": [
    {
     "data": {
      "text/plain": [
       "array([[ True, False],\n",
       "       [False,  True]])"
      ]
     },
     "execution_count": 28,
     "metadata": {},
     "output_type": "execute_result"
    }
   ],
   "source": [
    "np.identity (2, dtype = bool)"
   ]
  },
  {
   "cell_type": "code",
   "execution_count": 29,
   "id": "df8c8359-0803-40db-8ed4-ac94190e5129",
   "metadata": {},
   "outputs": [
    {
     "data": {
      "text/plain": [
       "array([[1, 0, 0, 0, 0],\n",
       "       [0, 1, 0, 0, 0],\n",
       "       [0, 0, 1, 0, 0],\n",
       "       [0, 0, 0, 1, 0],\n",
       "       [0, 0, 0, 0, 1]])"
      ]
     },
     "execution_count": 29,
     "metadata": {},
     "output_type": "execute_result"
    }
   ],
   "source": [
    "np.identity ((5),dtype = int )"
   ]
  },
  {
   "cell_type": "markdown",
   "id": "e5b95488-74a3-42a3-ac30-ef778bde01a1",
   "metadata": {},
   "source": [
    "# Different arithematic operators"
   ]
  },
  {
   "cell_type": "code",
   "execution_count": 32,
   "id": "780019b3-465d-45cb-b1b1-57110b96e89c",
   "metadata": {},
   "outputs": [
    {
     "data": {
      "text/plain": [
       "array([[59, 41],\n",
       "       [57, 56]], dtype=int32)"
      ]
     },
     "execution_count": 32,
     "metadata": {},
     "output_type": "execute_result"
    }
   ],
   "source": [
    "arr1 = np.random.randint (40,60,size = (2,2))\n",
    "arr2 = np.random.randint (40,60,size = (2,2))\n",
    "arr1"
   ]
  },
  {
   "cell_type": "code",
   "execution_count": 33,
   "id": "46b0e5b4-a517-4097-8d3c-953b0f39942b",
   "metadata": {},
   "outputs": [
    {
     "data": {
      "text/plain": [
       "array([[42, 50],\n",
       "       [47, 51]], dtype=int32)"
      ]
     },
     "execution_count": 33,
     "metadata": {},
     "output_type": "execute_result"
    }
   ],
   "source": [
    "arr2"
   ]
  },
  {
   "cell_type": "code",
   "execution_count": 34,
   "id": "87a98ac2-0c9a-4d15-a5af-042fda17e987",
   "metadata": {},
   "outputs": [
    {
     "data": {
      "text/plain": [
       "array([[101,  91],\n",
       "       [104, 107]], dtype=int32)"
      ]
     },
     "execution_count": 34,
     "metadata": {},
     "output_type": "execute_result"
    }
   ],
   "source": [
    "arr1 + arr2"
   ]
  },
  {
   "cell_type": "code",
   "execution_count": 35,
   "id": "51ba4a1f-0099-4417-9d05-87dd8de37f3d",
   "metadata": {},
   "outputs": [
    {
     "data": {
      "text/plain": [
       "array([[17, -9],\n",
       "       [10,  5]], dtype=int32)"
      ]
     },
     "execution_count": 35,
     "metadata": {},
     "output_type": "execute_result"
    }
   ],
   "source": [
    "arr1 - arr2"
   ]
  },
  {
   "cell_type": "code",
   "execution_count": 36,
   "id": "7373da7b-1291-40fb-b043-e3fd4036fbc2",
   "metadata": {},
   "outputs": [
    {
     "data": {
      "text/plain": [
       "array([[2478, 2050],\n",
       "       [2679, 2856]], dtype=int32)"
      ]
     },
     "execution_count": 36,
     "metadata": {},
     "output_type": "execute_result"
    }
   ],
   "source": [
    "arr1 * arr2"
   ]
  },
  {
   "cell_type": "markdown",
   "id": "cae7019c-1664-476b-9606-c254a95eba2d",
   "metadata": {},
   "source": [
    "## Real examples practice"
   ]
  },
  {
   "cell_type": "markdown",
   "id": "fb579e1c-3511-4260-8a66-00765b7de83c",
   "metadata": {},
   "source": [
    "## Convert degree celcius into feranite ."
   ]
  },
  {
   "cell_type": "code",
   "execution_count": 39,
   "id": "64367ae4-2b3e-4c43-95b4-e6f5adf1578e",
   "metadata": {},
   "outputs": [
    {
     "data": {
      "text/plain": [
       "array([53.6, 68. , 32. , 32. , 32. ])"
      ]
     },
     "execution_count": 39,
     "metadata": {},
     "output_type": "execute_result"
    }
   ],
   "source": [
    "temp_in_degree = np.array([12,20,0,0,0])\n",
    "#degree to F formula : 0 degree celcius * 9/5)+ 32 = 32 degree F\n",
    "temp_in_f = temp_in_degree * (9/5) + 32\n",
    "temp_in_f\n"
   ]
  },
  {
   "cell_type": "markdown",
   "id": "454be914-34f9-4639-be3e-4d64014abd50",
   "metadata": {},
   "source": [
    "# Increase the salary of every employee by 10 %"
   ]
  },
  {
   "cell_type": "code",
   "execution_count": 40,
   "id": "8497227e-cc1d-49fb-8bd1-16bff119321a",
   "metadata": {},
   "outputs": [
    {
     "data": {
      "text/plain": [
       "array([10000, 20000, 30000])"
      ]
     },
     "execution_count": 40,
     "metadata": {},
     "output_type": "execute_result"
    }
   ],
   "source": [
    "salary = np.array([10000,20000,30000])\n",
    "salary"
   ]
  },
  {
   "cell_type": "code",
   "execution_count": 42,
   "id": "344e2b90-ab3a-49fa-b366-ce3c40aef115",
   "metadata": {},
   "outputs": [
    {
     "data": {
      "text/plain": [
       "array([11000., 22000., 33000.])"
      ]
     },
     "execution_count": 42,
     "metadata": {},
     "output_type": "execute_result"
    }
   ],
   "source": [
    "salary_after_increase = salary * 1.1\n",
    "salary_after_increase"
   ]
  },
  {
   "cell_type": "markdown",
   "id": "37d6d9bd-8d01-4a4d-94e3-5387d72213ca",
   "metadata": {},
   "source": [
    "# Discount the price of every item by 20%"
   ]
  },
  {
   "cell_type": "code",
   "execution_count": 46,
   "id": "429c5af8-4783-4083-85a2-a14258b82af7",
   "metadata": {},
   "outputs": [
    {
     "data": {
      "text/plain": [
       "array([ 8000., 16000., 24000.])"
      ]
     },
     "execution_count": 46,
     "metadata": {},
     "output_type": "execute_result"
    }
   ],
   "source": [
    "sales_data = np.array([10000,20000,30000])\n",
    "after_discount = sales_data * 0.8\n",
    "after_discount"
   ]
  },
  {
   "cell_type": "code",
   "execution_count": null,
   "id": "3aae4378-91f8-438a-9f97-d7e11cb3a4d8",
   "metadata": {},
   "outputs": [],
   "source": []
  }
 ],
 "metadata": {
  "kernelspec": {
   "display_name": "Python 3 (ipykernel)",
   "language": "python",
   "name": "python3"
  },
  "language_info": {
   "codemirror_mode": {
    "name": "ipython",
    "version": 3
   },
   "file_extension": ".py",
   "mimetype": "text/x-python",
   "name": "python",
   "nbconvert_exporter": "python",
   "pygments_lexer": "ipython3",
   "version": "3.13.2"
  }
 },
 "nbformat": 4,
 "nbformat_minor": 5
}
