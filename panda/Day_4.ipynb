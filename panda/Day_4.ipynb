{
 "cells": [
  {
   "cell_type": "code",
   "execution_count": 2,
   "id": "673adc8f-ce5a-4aa0-af96-33d5eba584e8",
   "metadata": {},
   "outputs": [],
   "source": [
    "import pandas as pd\n",
    "import numpy as np"
   ]
  },
  {
   "cell_type": "markdown",
   "id": "2e71f54c-a513-4368-9551-4b29a8f31197",
   "metadata": {},
   "source": [
    "## Group By(.sum(),mean(),max(),min(),count() [Imp topic in data analysis]"
   ]
  },
  {
   "cell_type": "code",
   "execution_count": 3,
   "id": "8bd05240-a9d0-49bc-9574-287420f17ccb",
   "metadata": {},
   "outputs": [
    {
     "name": "stdout",
     "output_type": "stream",
     "text": [
      "  Department  Salary\n",
      "0         IT   60000\n",
      "1         HR   50000\n",
      "2         IT   65000\n",
      "3    Finance   70000\n",
      "4         HR   52000\n",
      "5    Finance   73000\n"
     ]
    }
   ],
   "source": [
    "data = {\n",
    "    'Department': ['IT', 'HR', 'IT', 'Finance', 'HR', 'Finance'],\n",
    "    'Salary': [60000, 50000, 65000, 70000, 52000, 73000]\n",
    "}\n",
    "df = pd.DataFrame(data)\n",
    "print(df)"
   ]
  },
  {
   "cell_type": "code",
   "execution_count": 4,
   "id": "692ea6f7-8a79-4608-b9e7-e5ef240879cb",
   "metadata": {},
   "outputs": [],
   "source": [
    "df.to_csv(r'hi.csv',index=False)"
   ]
  },
  {
   "cell_type": "code",
   "execution_count": 5,
   "id": "f481b154-e831-429e-bee4-4c6d90b9fab6",
   "metadata": {},
   "outputs": [
    {
     "data": {
      "text/html": [
       "<div>\n",
       "<style scoped>\n",
       "    .dataframe tbody tr th:only-of-type {\n",
       "        vertical-align: middle;\n",
       "    }\n",
       "\n",
       "    .dataframe tbody tr th {\n",
       "        vertical-align: top;\n",
       "    }\n",
       "\n",
       "    .dataframe thead th {\n",
       "        text-align: right;\n",
       "    }\n",
       "</style>\n",
       "<table border=\"1\" class=\"dataframe\">\n",
       "  <thead>\n",
       "    <tr style=\"text-align: right;\">\n",
       "      <th></th>\n",
       "      <th>Department</th>\n",
       "      <th>Salary</th>\n",
       "    </tr>\n",
       "  </thead>\n",
       "  <tbody>\n",
       "    <tr>\n",
       "      <th>0</th>\n",
       "      <td>IT</td>\n",
       "      <td>60000</td>\n",
       "    </tr>\n",
       "    <tr>\n",
       "      <th>1</th>\n",
       "      <td>HR</td>\n",
       "      <td>50000</td>\n",
       "    </tr>\n",
       "    <tr>\n",
       "      <th>2</th>\n",
       "      <td>IT</td>\n",
       "      <td>65000</td>\n",
       "    </tr>\n",
       "    <tr>\n",
       "      <th>3</th>\n",
       "      <td>Finance</td>\n",
       "      <td>70000</td>\n",
       "    </tr>\n",
       "    <tr>\n",
       "      <th>4</th>\n",
       "      <td>HR</td>\n",
       "      <td>52000</td>\n",
       "    </tr>\n",
       "    <tr>\n",
       "      <th>5</th>\n",
       "      <td>Finance</td>\n",
       "      <td>73000</td>\n",
       "    </tr>\n",
       "  </tbody>\n",
       "</table>\n",
       "</div>"
      ],
      "text/plain": [
       "  Department  Salary\n",
       "0         IT   60000\n",
       "1         HR   50000\n",
       "2         IT   65000\n",
       "3    Finance   70000\n",
       "4         HR   52000\n",
       "5    Finance   73000"
      ]
     },
     "execution_count": 5,
     "metadata": {},
     "output_type": "execute_result"
    }
   ],
   "source": [
    "df1=pd.read_csv(r'hi.csv')\n",
    "df1"
   ]
  },
  {
   "cell_type": "code",
   "execution_count": 6,
   "id": "82047d3c-d4c1-4a25-9408-c77626de4de7",
   "metadata": {},
   "outputs": [
    {
     "data": {
      "text/plain": [
       "<pandas.core.groupby.generic.DataFrameGroupBy object at 0x0000014303F14980>"
      ]
     },
     "execution_count": 6,
     "metadata": {},
     "output_type": "execute_result"
    }
   ],
   "source": [
    "group = df1.groupby('Department')\n",
    "group\n"
   ]
  },
  {
   "cell_type": "code",
   "execution_count": 7,
   "id": "6cec3f23-fff6-4203-9de4-5d00f14f8325",
   "metadata": {},
   "outputs": [
    {
     "data": {
      "text/plain": [
       "Department\n",
       "Finance    2\n",
       "HR         2\n",
       "IT         2\n",
       "Name: Salary, dtype: int64"
      ]
     },
     "execution_count": 7,
     "metadata": {},
     "output_type": "execute_result"
    }
   ],
   "source": [
    "group['Salary'].count()"
   ]
  },
  {
   "cell_type": "code",
   "execution_count": 8,
   "id": "debea290-5fba-496d-aff1-1ca2ec7a2ae3",
   "metadata": {},
   "outputs": [
    {
     "data": {
      "text/plain": [
       "Department\n",
       "Finance    71500.0\n",
       "HR         51000.0\n",
       "IT         62500.0\n",
       "Name: Salary, dtype: float64"
      ]
     },
     "execution_count": 8,
     "metadata": {},
     "output_type": "execute_result"
    }
   ],
   "source": [
    "group['Salary'].mean()"
   ]
  },
  {
   "cell_type": "code",
   "execution_count": 9,
   "id": "5811ad15-0e8a-4d3a-ab45-1b40265c3826",
   "metadata": {},
   "outputs": [
    {
     "data": {
      "text/html": [
       "<div>\n",
       "<style scoped>\n",
       "    .dataframe tbody tr th:only-of-type {\n",
       "        vertical-align: middle;\n",
       "    }\n",
       "\n",
       "    .dataframe tbody tr th {\n",
       "        vertical-align: top;\n",
       "    }\n",
       "\n",
       "    .dataframe thead th {\n",
       "        text-align: right;\n",
       "    }\n",
       "</style>\n",
       "<table border=\"1\" class=\"dataframe\">\n",
       "  <thead>\n",
       "    <tr style=\"text-align: right;\">\n",
       "      <th></th>\n",
       "      <th>Department</th>\n",
       "      <th>Salary</th>\n",
       "    </tr>\n",
       "  </thead>\n",
       "  <tbody>\n",
       "    <tr>\n",
       "      <th>0</th>\n",
       "      <td>IT</td>\n",
       "      <td>60000</td>\n",
       "    </tr>\n",
       "    <tr>\n",
       "      <th>1</th>\n",
       "      <td>HR</td>\n",
       "      <td>50000</td>\n",
       "    </tr>\n",
       "    <tr>\n",
       "      <th>2</th>\n",
       "      <td>IT</td>\n",
       "      <td>65000</td>\n",
       "    </tr>\n",
       "    <tr>\n",
       "      <th>3</th>\n",
       "      <td>Finance</td>\n",
       "      <td>70000</td>\n",
       "    </tr>\n",
       "    <tr>\n",
       "      <th>4</th>\n",
       "      <td>HR</td>\n",
       "      <td>52000</td>\n",
       "    </tr>\n",
       "    <tr>\n",
       "      <th>5</th>\n",
       "      <td>Finance</td>\n",
       "      <td>73000</td>\n",
       "    </tr>\n",
       "  </tbody>\n",
       "</table>\n",
       "</div>"
      ],
      "text/plain": [
       "  Department  Salary\n",
       "0         IT   60000\n",
       "1         HR   50000\n",
       "2         IT   65000\n",
       "3    Finance   70000\n",
       "4         HR   52000\n",
       "5    Finance   73000"
      ]
     },
     "execution_count": 9,
     "metadata": {},
     "output_type": "execute_result"
    }
   ],
   "source": [
    "df1"
   ]
  },
  {
   "cell_type": "code",
   "execution_count": 10,
   "id": "85b05d5d-7512-44a3-a26f-d82a9e557d54",
   "metadata": {},
   "outputs": [
    {
     "data": {
      "text/plain": [
       "Department\n",
       "Finance    73000\n",
       "HR         52000\n",
       "IT         65000\n",
       "Name: Salary, dtype: int64"
      ]
     },
     "execution_count": 10,
     "metadata": {},
     "output_type": "execute_result"
    }
   ],
   "source": [
    "group['Salary'].max()"
   ]
  },
  {
   "cell_type": "markdown",
   "id": "b30d0d00-b846-45f1-b561-7c4e5c9e056f",
   "metadata": {},
   "source": [
    "### Find the number of employees on each department."
   ]
  },
  {
   "cell_type": "code",
   "execution_count": 11,
   "id": "9694310f-d090-4471-8f8d-45f7c7d3a15b",
   "metadata": {},
   "outputs": [
    {
     "data": {
      "text/plain": [
       "Department\n",
       "Finance    2\n",
       "HR         2\n",
       "IT         2\n",
       "Name: Salary, dtype: int64"
      ]
     },
     "execution_count": 11,
     "metadata": {},
     "output_type": "execute_result"
    }
   ],
   "source": [
    "group['Salary'].count()"
   ]
  },
  {
   "cell_type": "markdown",
   "id": "b8ade02f-99b2-43ec-824f-69b7fc383646",
   "metadata": {},
   "source": [
    "### Now from movie dataset"
   ]
  },
  {
   "cell_type": "code",
   "execution_count": 12,
   "id": "fee86ada-9dc0-4ac4-bba8-ecc562112db8",
   "metadata": {},
   "outputs": [
    {
     "data": {
      "text/html": [
       "<div>\n",
       "<style scoped>\n",
       "    .dataframe tbody tr th:only-of-type {\n",
       "        vertical-align: middle;\n",
       "    }\n",
       "\n",
       "    .dataframe tbody tr th {\n",
       "        vertical-align: top;\n",
       "    }\n",
       "\n",
       "    .dataframe thead th {\n",
       "        text-align: right;\n",
       "    }\n",
       "</style>\n",
       "<table border=\"1\" class=\"dataframe\">\n",
       "  <thead>\n",
       "    <tr style=\"text-align: right;\">\n",
       "      <th></th>\n",
       "      <th>Series_Title</th>\n",
       "      <th>Released_Year</th>\n",
       "      <th>Runtime</th>\n",
       "      <th>Genre</th>\n",
       "      <th>IMDB_Rating</th>\n",
       "      <th>Director</th>\n",
       "      <th>Star1</th>\n",
       "      <th>No_of_Votes</th>\n",
       "      <th>Gross</th>\n",
       "      <th>Metascore</th>\n",
       "    </tr>\n",
       "  </thead>\n",
       "  <tbody>\n",
       "    <tr>\n",
       "      <th>0</th>\n",
       "      <td>Chinatown</td>\n",
       "      <td>1974</td>\n",
       "      <td>130</td>\n",
       "      <td>Drama</td>\n",
       "      <td>8.1</td>\n",
       "      <td>Roman Polanski</td>\n",
       "      <td>Jack Nicholson</td>\n",
       "      <td>294230</td>\n",
       "      <td>29000000.0</td>\n",
       "      <td>92.0</td>\n",
       "    </tr>\n",
       "    <tr>\n",
       "      <th>1</th>\n",
       "      <td>The Girl with the Dragon Tattoo</td>\n",
       "      <td>2011</td>\n",
       "      <td>158</td>\n",
       "      <td>Crime</td>\n",
       "      <td>7.8</td>\n",
       "      <td>David Fincher</td>\n",
       "      <td>Daniel Craig</td>\n",
       "      <td>423010</td>\n",
       "      <td>102515793.0</td>\n",
       "      <td>71.0</td>\n",
       "    </tr>\n",
       "    <tr>\n",
       "      <th>2</th>\n",
       "      <td>Nueve reinas</td>\n",
       "      <td>2000</td>\n",
       "      <td>114</td>\n",
       "      <td>Crime</td>\n",
       "      <td>7.9</td>\n",
       "      <td>Fabián Bielinsky</td>\n",
       "      <td>Ricardo Darín</td>\n",
       "      <td>49721</td>\n",
       "      <td>1221261.0</td>\n",
       "      <td>80.0</td>\n",
       "    </tr>\n",
       "    <tr>\n",
       "      <th>3</th>\n",
       "      <td>Close Encounters of the Third Kind</td>\n",
       "      <td>1977</td>\n",
       "      <td>138</td>\n",
       "      <td>Drama</td>\n",
       "      <td>7.6</td>\n",
       "      <td>Steven Spielberg</td>\n",
       "      <td>Richard Dreyfuss</td>\n",
       "      <td>184966</td>\n",
       "      <td>132088635.0</td>\n",
       "      <td>90.0</td>\n",
       "    </tr>\n",
       "    <tr>\n",
       "      <th>4</th>\n",
       "      <td>Joker</td>\n",
       "      <td>2019</td>\n",
       "      <td>122</td>\n",
       "      <td>Crime</td>\n",
       "      <td>8.5</td>\n",
       "      <td>Todd Phillips</td>\n",
       "      <td>Joaquin Phoenix</td>\n",
       "      <td>939252</td>\n",
       "      <td>335451311.0</td>\n",
       "      <td>59.0</td>\n",
       "    </tr>\n",
       "    <tr>\n",
       "      <th>...</th>\n",
       "      <td>...</td>\n",
       "      <td>...</td>\n",
       "      <td>...</td>\n",
       "      <td>...</td>\n",
       "      <td>...</td>\n",
       "      <td>...</td>\n",
       "      <td>...</td>\n",
       "      <td>...</td>\n",
       "      <td>...</td>\n",
       "      <td>...</td>\n",
       "    </tr>\n",
       "    <tr>\n",
       "      <th>295</th>\n",
       "      <td>Kumonosu-jô</td>\n",
       "      <td>1957</td>\n",
       "      <td>110</td>\n",
       "      <td>Drama</td>\n",
       "      <td>8.1</td>\n",
       "      <td>Akira Kurosawa</td>\n",
       "      <td>Toshirô Mifune</td>\n",
       "      <td>46678</td>\n",
       "      <td>612604239.0</td>\n",
       "      <td>NaN</td>\n",
       "    </tr>\n",
       "    <tr>\n",
       "      <th>296</th>\n",
       "      <td>Falling Down</td>\n",
       "      <td>1993</td>\n",
       "      <td>113</td>\n",
       "      <td>Action</td>\n",
       "      <td>7.6</td>\n",
       "      <td>Joel Schumacher</td>\n",
       "      <td>Michael Douglas</td>\n",
       "      <td>171640</td>\n",
       "      <td>40903593.0</td>\n",
       "      <td>56.0</td>\n",
       "    </tr>\n",
       "    <tr>\n",
       "      <th>297</th>\n",
       "      <td>The Royal Tenenbaums</td>\n",
       "      <td>2001</td>\n",
       "      <td>110</td>\n",
       "      <td>Comedy</td>\n",
       "      <td>7.6</td>\n",
       "      <td>Wes Anderson</td>\n",
       "      <td>Gene Hackman</td>\n",
       "      <td>266842</td>\n",
       "      <td>52364010.0</td>\n",
       "      <td>76.0</td>\n",
       "    </tr>\n",
       "    <tr>\n",
       "      <th>298</th>\n",
       "      <td>Midnight Cowboy</td>\n",
       "      <td>1969</td>\n",
       "      <td>113</td>\n",
       "      <td>Drama</td>\n",
       "      <td>7.8</td>\n",
       "      <td>John Schlesinger</td>\n",
       "      <td>Dustin Hoffman</td>\n",
       "      <td>101124</td>\n",
       "      <td>44785053.0</td>\n",
       "      <td>79.0</td>\n",
       "    </tr>\n",
       "    <tr>\n",
       "      <th>299</th>\n",
       "      <td>Kai po che!</td>\n",
       "      <td>2013</td>\n",
       "      <td>130</td>\n",
       "      <td>Drama</td>\n",
       "      <td>7.7</td>\n",
       "      <td>Abhishek Kapoor</td>\n",
       "      <td>Amit Sadh</td>\n",
       "      <td>32628</td>\n",
       "      <td>1122527.0</td>\n",
       "      <td>40.0</td>\n",
       "    </tr>\n",
       "  </tbody>\n",
       "</table>\n",
       "<p>300 rows × 10 columns</p>\n",
       "</div>"
      ],
      "text/plain": [
       "                           Series_Title  Released_Year  Runtime   Genre  \\\n",
       "0                             Chinatown           1974      130   Drama   \n",
       "1       The Girl with the Dragon Tattoo           2011      158   Crime   \n",
       "2                          Nueve reinas           2000      114   Crime   \n",
       "3    Close Encounters of the Third Kind           1977      138   Drama   \n",
       "4                                 Joker           2019      122   Crime   \n",
       "..                                  ...            ...      ...     ...   \n",
       "295                         Kumonosu-jô           1957      110   Drama   \n",
       "296                        Falling Down           1993      113  Action   \n",
       "297                The Royal Tenenbaums           2001      110  Comedy   \n",
       "298                     Midnight Cowboy           1969      113   Drama   \n",
       "299                         Kai po che!           2013      130   Drama   \n",
       "\n",
       "     IMDB_Rating          Director             Star1  No_of_Votes  \\\n",
       "0            8.1    Roman Polanski    Jack Nicholson       294230   \n",
       "1            7.8     David Fincher      Daniel Craig       423010   \n",
       "2            7.9  Fabián Bielinsky     Ricardo Darín        49721   \n",
       "3            7.6  Steven Spielberg  Richard Dreyfuss       184966   \n",
       "4            8.5     Todd Phillips   Joaquin Phoenix       939252   \n",
       "..           ...               ...               ...          ...   \n",
       "295          8.1    Akira Kurosawa    Toshirô Mifune        46678   \n",
       "296          7.6   Joel Schumacher   Michael Douglas       171640   \n",
       "297          7.6      Wes Anderson      Gene Hackman       266842   \n",
       "298          7.8  John Schlesinger    Dustin Hoffman       101124   \n",
       "299          7.7   Abhishek Kapoor         Amit Sadh        32628   \n",
       "\n",
       "           Gross  Metascore  \n",
       "0     29000000.0       92.0  \n",
       "1    102515793.0       71.0  \n",
       "2      1221261.0       80.0  \n",
       "3    132088635.0       90.0  \n",
       "4    335451311.0       59.0  \n",
       "..           ...        ...  \n",
       "295  612604239.0        NaN  \n",
       "296   40903593.0       56.0  \n",
       "297   52364010.0       76.0  \n",
       "298   44785053.0       79.0  \n",
       "299    1122527.0       40.0  \n",
       "\n",
       "[300 rows x 10 columns]"
      ]
     },
     "execution_count": 12,
     "metadata": {},
     "output_type": "execute_result"
    }
   ],
   "source": [
    "df=pd.read_csv('movies.csv')\n",
    "df"
   ]
  },
  {
   "cell_type": "code",
   "execution_count": 13,
   "id": "57d58dd0-3809-45a9-9989-0248e8641474",
   "metadata": {},
   "outputs": [
    {
     "data": {
      "text/plain": [
       "array(['Drama', 'Crime', 'Action', 'Biography', 'Comedy', 'Adventure',\n",
       "       'Film-Noir', 'Animation', 'Horror', 'Mystery', 'Fantasy',\n",
       "       'Western'], dtype=object)"
      ]
     },
     "execution_count": 13,
     "metadata": {},
     "output_type": "execute_result"
    }
   ],
   "source": [
    "df['Genre'].unique()"
   ]
  },
  {
   "cell_type": "code",
   "execution_count": 14,
   "id": "f0da55d1-71b6-4886-aee0-9067b42b97c8",
   "metadata": {},
   "outputs": [
    {
     "data": {
      "text/plain": [
       "86"
      ]
     },
     "execution_count": 14,
     "metadata": {},
     "output_type": "execute_result"
    }
   ],
   "source": [
    "df[df['Genre']=='Drama'].shape[0]"
   ]
  },
  {
   "cell_type": "code",
   "execution_count": 15,
   "id": "3e3f7d4f-120f-43d5-a3a6-46e266dec537",
   "metadata": {},
   "outputs": [
    {
     "data": {
      "text/plain": [
       "37"
      ]
     },
     "execution_count": 15,
     "metadata": {},
     "output_type": "execute_result"
    }
   ],
   "source": [
    "df[df['Genre']=='Crime'].shape[0] #this is filtering data.like this everytime filtering is basically lengthy.so we can use groupby now here"
   ]
  },
  {
   "cell_type": "code",
   "execution_count": 16,
   "id": "100e02b6-2e08-4254-84bb-64e08d8a4fa5",
   "metadata": {},
   "outputs": [
    {
     "data": {
      "text/plain": [
       "Genre\n",
       "Action       50\n",
       "Adventure    13\n",
       "Animation    29\n",
       "Biography    29\n",
       "Comedy       50\n",
       "Crime        37\n",
       "Drama        86\n",
       "Fantasy       1\n",
       "Film-Noir     1\n",
       "Horror        2\n",
       "Mystery       1\n",
       "Western       1\n",
       "Name: Released_Year, dtype: int64"
      ]
     },
     "execution_count": 16,
     "metadata": {},
     "output_type": "execute_result"
    }
   ],
   "source": [
    "df.groupby('Genre')['Released_Year'].count() #count how many rows it has."
   ]
  },
  {
   "cell_type": "markdown",
   "id": "2c868823-c54f-4e9a-98f1-506c989d39b9",
   "metadata": {},
   "source": [
    "### Find the number of movies released on specific year."
   ]
  },
  {
   "cell_type": "code",
   "execution_count": 17,
   "id": "640f7662-1fc7-4b92-96bd-2871e8ab520e",
   "metadata": {},
   "outputs": [
    {
     "data": {
      "text/plain": [
       "Released_Year\n",
       "1920     1\n",
       "1928     2\n",
       "1931     1\n",
       "1932     1\n",
       "1934     1\n",
       "        ..\n",
       "2016     8\n",
       "2017     7\n",
       "2018     8\n",
       "2019    10\n",
       "2020     2\n",
       "Name: Runtime, Length: 81, dtype: int64"
      ]
     },
     "execution_count": 17,
     "metadata": {},
     "output_type": "execute_result"
    }
   ],
   "source": [
    "df.groupby('Released_Year')['Runtime'].count()"
   ]
  },
  {
   "cell_type": "markdown",
   "id": "d1263046-ebe9-429d-9ec9-e7dd529f81f5",
   "metadata": {},
   "source": [
    "### Each genre(runtime)"
   ]
  },
  {
   "cell_type": "code",
   "execution_count": 18,
   "id": "00ca59e7-eeef-4d39-8e57-226fedb7963e",
   "metadata": {},
   "outputs": [
    {
     "data": {
      "text/plain": [
       "Genre\n",
       "Fantasy       76.000000\n",
       "Animation     98.448276\n",
       "Mystery      100.000000\n",
       "Horror       101.500000\n",
       "Film-Noir    104.000000\n",
       "Comedy       112.180000\n",
       "Drama        123.941860\n",
       "Crime        130.054054\n",
       "Adventure    136.692308\n",
       "Action       136.860000\n",
       "Biography    137.000000\n",
       "Western      165.000000\n",
       "Name: Runtime, dtype: float64"
      ]
     },
     "execution_count": 18,
     "metadata": {},
     "output_type": "execute_result"
    }
   ],
   "source": [
    "df.groupby('Genre')['Runtime'].mean().sort_values()"
   ]
  },
  {
   "cell_type": "markdown",
   "id": "154ae288-c2ee-4076-ad88-18a82ea3df1c",
   "metadata": {},
   "source": [
    "### Average IMDB rating."
   ]
  },
  {
   "cell_type": "code",
   "execution_count": 19,
   "id": "9a4f0bf5-6f39-41e1-9319-b2d53593f60c",
   "metadata": {},
   "outputs": [
    {
     "data": {
      "text/plain": [
       "Genre\n",
       "Action       7.964000\n",
       "Adventure    7.907692\n",
       "Animation    7.982759\n",
       "Biography    7.951724\n",
       "Comedy       7.842000\n",
       "Crime        8.137838\n",
       "Drama        7.965116\n",
       "Fantasy      8.100000\n",
       "Film-Noir    8.100000\n",
       "Horror       7.700000\n",
       "Mystery      7.600000\n",
       "Western      8.500000\n",
       "Name: IMDB_Rating, dtype: float64"
      ]
     },
     "execution_count": 19,
     "metadata": {},
     "output_type": "execute_result"
    }
   ],
   "source": [
    "df.groupby('Genre')['IMDB_Rating'].mean()"
   ]
  },
  {
   "cell_type": "code",
   "execution_count": 20,
   "id": "82592839-f63f-4299-b57f-c5391d282e9d",
   "metadata": {},
   "outputs": [
    {
     "data": {
      "text/plain": [
       "Genre\n",
       "Action       9.0\n",
       "Adventure    8.3\n",
       "Animation    8.6\n",
       "Biography    8.6\n",
       "Comedy       8.3\n",
       "Crime        9.2\n",
       "Drama        8.8\n",
       "Fantasy      8.1\n",
       "Film-Noir    8.1\n",
       "Horror       7.8\n",
       "Mystery      7.6\n",
       "Western      8.5\n",
       "Name: IMDB_Rating, dtype: float64"
      ]
     },
     "execution_count": 20,
     "metadata": {},
     "output_type": "execute_result"
    }
   ],
   "source": [
    "df.groupby('Genre')['IMDB_Rating'].max()"
   ]
  },
  {
   "cell_type": "markdown",
   "id": "32e44d17-09c9-42b8-be92-77a386126eb0",
   "metadata": {},
   "source": [
    "### aggregate the results with multiple function"
   ]
  },
  {
   "cell_type": "code",
   "execution_count": 21,
   "id": "534449ed-9b3e-45ff-ae04-49b2185b449b",
   "metadata": {},
   "outputs": [
    {
     "data": {
      "text/html": [
       "<div>\n",
       "<style scoped>\n",
       "    .dataframe tbody tr th:only-of-type {\n",
       "        vertical-align: middle;\n",
       "    }\n",
       "\n",
       "    .dataframe tbody tr th {\n",
       "        vertical-align: top;\n",
       "    }\n",
       "\n",
       "    .dataframe thead th {\n",
       "        text-align: right;\n",
       "    }\n",
       "</style>\n",
       "<table border=\"1\" class=\"dataframe\">\n",
       "  <thead>\n",
       "    <tr style=\"text-align: right;\">\n",
       "      <th></th>\n",
       "      <th>IMDB_Rating</th>\n",
       "      <th>Runtime</th>\n",
       "    </tr>\n",
       "    <tr>\n",
       "      <th>Genre</th>\n",
       "      <th></th>\n",
       "      <th></th>\n",
       "    </tr>\n",
       "  </thead>\n",
       "  <tbody>\n",
       "    <tr>\n",
       "      <th>Action</th>\n",
       "      <td>7.964000</td>\n",
       "      <td>321</td>\n",
       "    </tr>\n",
       "    <tr>\n",
       "      <th>Adventure</th>\n",
       "      <td>7.907692</td>\n",
       "      <td>212</td>\n",
       "    </tr>\n",
       "    <tr>\n",
       "      <th>Animation</th>\n",
       "      <td>7.982759</td>\n",
       "      <td>137</td>\n",
       "    </tr>\n",
       "    <tr>\n",
       "      <th>Biography</th>\n",
       "      <td>7.951724</td>\n",
       "      <td>186</td>\n",
       "    </tr>\n",
       "    <tr>\n",
       "      <th>Comedy</th>\n",
       "      <td>7.842000</td>\n",
       "      <td>188</td>\n",
       "    </tr>\n",
       "    <tr>\n",
       "      <th>Crime</th>\n",
       "      <td>8.137838</td>\n",
       "      <td>189</td>\n",
       "    </tr>\n",
       "    <tr>\n",
       "      <th>Drama</th>\n",
       "      <td>7.965116</td>\n",
       "      <td>238</td>\n",
       "    </tr>\n",
       "    <tr>\n",
       "      <th>Fantasy</th>\n",
       "      <td>8.100000</td>\n",
       "      <td>76</td>\n",
       "    </tr>\n",
       "    <tr>\n",
       "      <th>Film-Noir</th>\n",
       "      <td>8.100000</td>\n",
       "      <td>104</td>\n",
       "    </tr>\n",
       "    <tr>\n",
       "      <th>Horror</th>\n",
       "      <td>7.700000</td>\n",
       "      <td>103</td>\n",
       "    </tr>\n",
       "    <tr>\n",
       "      <th>Mystery</th>\n",
       "      <td>7.600000</td>\n",
       "      <td>100</td>\n",
       "    </tr>\n",
       "    <tr>\n",
       "      <th>Western</th>\n",
       "      <td>8.500000</td>\n",
       "      <td>165</td>\n",
       "    </tr>\n",
       "  </tbody>\n",
       "</table>\n",
       "</div>"
      ],
      "text/plain": [
       "           IMDB_Rating  Runtime\n",
       "Genre                          \n",
       "Action        7.964000      321\n",
       "Adventure     7.907692      212\n",
       "Animation     7.982759      137\n",
       "Biography     7.951724      186\n",
       "Comedy        7.842000      188\n",
       "Crime         8.137838      189\n",
       "Drama         7.965116      238\n",
       "Fantasy       8.100000       76\n",
       "Film-Noir     8.100000      104\n",
       "Horror        7.700000      103\n",
       "Mystery       7.600000      100\n",
       "Western       8.500000      165"
      ]
     },
     "execution_count": 21,
     "metadata": {},
     "output_type": "execute_result"
    }
   ],
   "source": [
    "df.groupby('Genre').agg({'IMDB_Rating':'mean','Runtime':'max'})"
   ]
  },
  {
   "cell_type": "code",
   "execution_count": 22,
   "id": "87b49f7c-ff19-4cf5-a280-a1cdf1d8738b",
   "metadata": {},
   "outputs": [
    {
     "data": {
      "text/html": [
       "<div>\n",
       "<style scoped>\n",
       "    .dataframe tbody tr th:only-of-type {\n",
       "        vertical-align: middle;\n",
       "    }\n",
       "\n",
       "    .dataframe tbody tr th {\n",
       "        vertical-align: top;\n",
       "    }\n",
       "\n",
       "    .dataframe thead tr th {\n",
       "        text-align: left;\n",
       "    }\n",
       "\n",
       "    .dataframe thead tr:last-of-type th {\n",
       "        text-align: right;\n",
       "    }\n",
       "</style>\n",
       "<table border=\"1\" class=\"dataframe\">\n",
       "  <thead>\n",
       "    <tr>\n",
       "      <th></th>\n",
       "      <th colspan=\"2\" halign=\"left\">IMDB_Rating</th>\n",
       "      <th colspan=\"3\" halign=\"left\">Runtime</th>\n",
       "    </tr>\n",
       "    <tr>\n",
       "      <th></th>\n",
       "      <th>mean</th>\n",
       "      <th>max</th>\n",
       "      <th>mean</th>\n",
       "      <th>max</th>\n",
       "      <th>min</th>\n",
       "    </tr>\n",
       "    <tr>\n",
       "      <th>Genre</th>\n",
       "      <th></th>\n",
       "      <th></th>\n",
       "      <th></th>\n",
       "      <th></th>\n",
       "      <th></th>\n",
       "    </tr>\n",
       "  </thead>\n",
       "  <tbody>\n",
       "    <tr>\n",
       "      <th>Action</th>\n",
       "      <td>7.964000</td>\n",
       "      <td>9.0</td>\n",
       "      <td>136.860000</td>\n",
       "      <td>321</td>\n",
       "      <td>93</td>\n",
       "    </tr>\n",
       "    <tr>\n",
       "      <th>Adventure</th>\n",
       "      <td>7.907692</td>\n",
       "      <td>8.3</td>\n",
       "      <td>136.692308</td>\n",
       "      <td>212</td>\n",
       "      <td>96</td>\n",
       "    </tr>\n",
       "    <tr>\n",
       "      <th>Animation</th>\n",
       "      <td>7.982759</td>\n",
       "      <td>8.6</td>\n",
       "      <td>98.448276</td>\n",
       "      <td>137</td>\n",
       "      <td>71</td>\n",
       "    </tr>\n",
       "    <tr>\n",
       "      <th>Biography</th>\n",
       "      <td>7.951724</td>\n",
       "      <td>8.6</td>\n",
       "      <td>137.000000</td>\n",
       "      <td>186</td>\n",
       "      <td>107</td>\n",
       "    </tr>\n",
       "    <tr>\n",
       "      <th>Comedy</th>\n",
       "      <td>7.842000</td>\n",
       "      <td>8.3</td>\n",
       "      <td>112.180000</td>\n",
       "      <td>188</td>\n",
       "      <td>72</td>\n",
       "    </tr>\n",
       "    <tr>\n",
       "      <th>Crime</th>\n",
       "      <td>8.137838</td>\n",
       "      <td>9.2</td>\n",
       "      <td>130.054054</td>\n",
       "      <td>189</td>\n",
       "      <td>81</td>\n",
       "    </tr>\n",
       "    <tr>\n",
       "      <th>Drama</th>\n",
       "      <td>7.965116</td>\n",
       "      <td>8.8</td>\n",
       "      <td>123.941860</td>\n",
       "      <td>238</td>\n",
       "      <td>80</td>\n",
       "    </tr>\n",
       "    <tr>\n",
       "      <th>Fantasy</th>\n",
       "      <td>8.100000</td>\n",
       "      <td>8.1</td>\n",
       "      <td>76.000000</td>\n",
       "      <td>76</td>\n",
       "      <td>76</td>\n",
       "    </tr>\n",
       "    <tr>\n",
       "      <th>Film-Noir</th>\n",
       "      <td>8.100000</td>\n",
       "      <td>8.1</td>\n",
       "      <td>104.000000</td>\n",
       "      <td>104</td>\n",
       "      <td>104</td>\n",
       "    </tr>\n",
       "    <tr>\n",
       "      <th>Horror</th>\n",
       "      <td>7.700000</td>\n",
       "      <td>7.8</td>\n",
       "      <td>101.500000</td>\n",
       "      <td>103</td>\n",
       "      <td>100</td>\n",
       "    </tr>\n",
       "    <tr>\n",
       "      <th>Mystery</th>\n",
       "      <td>7.600000</td>\n",
       "      <td>7.6</td>\n",
       "      <td>100.000000</td>\n",
       "      <td>100</td>\n",
       "      <td>100</td>\n",
       "    </tr>\n",
       "    <tr>\n",
       "      <th>Western</th>\n",
       "      <td>8.500000</td>\n",
       "      <td>8.5</td>\n",
       "      <td>165.000000</td>\n",
       "      <td>165</td>\n",
       "      <td>165</td>\n",
       "    </tr>\n",
       "  </tbody>\n",
       "</table>\n",
       "</div>"
      ],
      "text/plain": [
       "          IMDB_Rating          Runtime          \n",
       "                 mean  max        mean  max  min\n",
       "Genre                                           \n",
       "Action       7.964000  9.0  136.860000  321   93\n",
       "Adventure    7.907692  8.3  136.692308  212   96\n",
       "Animation    7.982759  8.6   98.448276  137   71\n",
       "Biography    7.951724  8.6  137.000000  186  107\n",
       "Comedy       7.842000  8.3  112.180000  188   72\n",
       "Crime        8.137838  9.2  130.054054  189   81\n",
       "Drama        7.965116  8.8  123.941860  238   80\n",
       "Fantasy      8.100000  8.1   76.000000   76   76\n",
       "Film-Noir    8.100000  8.1  104.000000  104  104\n",
       "Horror       7.700000  7.8  101.500000  103  100\n",
       "Mystery      7.600000  7.6  100.000000  100  100\n",
       "Western      8.500000  8.5  165.000000  165  165"
      ]
     },
     "execution_count": 22,
     "metadata": {},
     "output_type": "execute_result"
    }
   ],
   "source": [
    "dfs=df.groupby('Genre').agg({'IMDB_Rating':['mean','max'],'Runtime':['mean','max','min']})\n",
    "dfs"
   ]
  },
  {
   "cell_type": "code",
   "execution_count": 23,
   "id": "d828a4ac-c195-450f-9153-1f48168a2db0",
   "metadata": {},
   "outputs": [],
   "source": [
    "dfs.to_csv('newdata.csv')"
   ]
  },
  {
   "cell_type": "code",
   "execution_count": null,
   "id": "f57833df-1df4-4ac4-b7b7-dc187f596021",
   "metadata": {},
   "outputs": [],
   "source": []
  }
 ],
 "metadata": {
  "kernelspec": {
   "display_name": ".venv",
   "language": "python",
   "name": "python3"
  },
  "language_info": {
   "codemirror_mode": {
    "name": "ipython",
    "version": 3
   },
   "file_extension": ".py",
   "mimetype": "text/x-python",
   "name": "python",
   "nbconvert_exporter": "python",
   "pygments_lexer": "ipython3",
   "version": "3.13.2"
  }
 },
 "nbformat": 4,
 "nbformat_minor": 5
}
