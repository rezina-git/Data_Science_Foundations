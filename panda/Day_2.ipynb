{
 "cells": [
  {
   "cell_type": "code",
   "execution_count": 3,
   "id": "0261cc8b",
   "metadata": {},
   "outputs": [
    {
     "name": "stdout",
     "output_type": "stream",
     "text": [
      "HELLO WORLD\n"
     ]
    }
   ],
   "source": [
    "#strings Methods \n",
    "s = 'hello WORLD'\n",
    "print(s.upper())"
   ]
  },
  {
   "cell_type": "code",
   "execution_count": 4,
   "id": "bc1c90e0",
   "metadata": {},
   "outputs": [
    {
     "name": "stdout",
     "output_type": "stream",
     "text": [
      "hello world\n"
     ]
    }
   ],
   "source": [
    "print(s.lower())"
   ]
  },
  {
   "cell_type": "code",
   "execution_count": 5,
   "id": "354787b5",
   "metadata": {},
   "outputs": [
    {
     "name": "stdout",
     "output_type": "stream",
     "text": [
      "HELLO world\n"
     ]
    }
   ],
   "source": [
    "print(s.swapcase())"
   ]
  },
  {
   "cell_type": "markdown",
   "id": "ba5acc7f",
   "metadata": {},
   "source": [
    "### Strip()----->Removes white spaces"
   ]
  },
  {
   "cell_type": "code",
   "execution_count": 6,
   "id": "141269c6",
   "metadata": {},
   "outputs": [],
   "source": [
    "p = '***********hello world******'"
   ]
  },
  {
   "cell_type": "code",
   "execution_count": 7,
   "id": "88e6add6",
   "metadata": {},
   "outputs": [
    {
     "name": "stdout",
     "output_type": "stream",
     "text": [
      "***********hello world******\n",
      "hello world\n"
     ]
    }
   ],
   "source": [
    "print(p)\n",
    "print(p.strip('*'))"
   ]
  },
  {
   "cell_type": "markdown",
   "id": "c60de51f",
   "metadata": {},
   "source": [
    "# Replace()"
   ]
  },
  {
   "cell_type": "code",
   "execution_count": 8,
   "id": "6f35072c",
   "metadata": {},
   "outputs": [
    {
     "name": "stdout",
     "output_type": "stream",
     "text": [
      "hello world i love java\n",
      "hello world i love python\n"
     ]
    }
   ],
   "source": [
    "s = 'hello world i love java'\n",
    "print(s)\n",
    "print(s.replace('java','python'))"
   ]
  },
  {
   "cell_type": "markdown",
   "id": "b8f3c06a",
   "metadata": {},
   "source": [
    "### Split,Join"
   ]
  },
  {
   "cell_type": "code",
   "execution_count": 9,
   "id": "20487090",
   "metadata": {},
   "outputs": [
    {
     "name": "stdout",
     "output_type": "stream",
     "text": [
      "Ram Ghimire\n"
     ]
    }
   ],
   "source": [
    "first_name = 'Ram'\n",
    "last_name = 'Ghimire'\n",
    "print(first_name + ' ' + last_name)"
   ]
  },
  {
   "cell_type": "code",
   "execution_count": 10,
   "id": "54378332",
   "metadata": {},
   "outputs": [
    {
     "data": {
      "text/plain": [
       "['2022', '01', '05']"
      ]
     },
     "execution_count": 10,
     "metadata": {},
     "output_type": "execute_result"
    }
   ],
   "source": [
    "dates = '2022-01-05'\n",
    "dates_split = dates.split('-')\n",
    "dates_split"
   ]
  },
  {
   "cell_type": "code",
   "execution_count": 11,
   "id": "8323e769",
   "metadata": {},
   "outputs": [
    {
     "name": "stdout",
     "output_type": "stream",
     "text": [
      "2022\n",
      "01\n",
      "05\n"
     ]
    }
   ],
   "source": [
    "print(dates_split[0])\n",
    "print(dates_split[1])\n",
    "print(dates_split[2])"
   ]
  },
  {
   "cell_type": "code",
   "execution_count": 12,
   "id": "0b86d20e",
   "metadata": {},
   "outputs": [],
   "source": [
    "# gender: 'M'.'Male','MALE'"
   ]
  },
  {
   "cell_type": "code",
   "execution_count": 13,
   "id": "6dfdcb09",
   "metadata": {},
   "outputs": [],
   "source": [
    "tid = [1,2,3,4,5]\n",
    "dates = ['2022-01-05','2025-03-08','2023-05-08','2023-05-08','2023-05-10']\n",
    "unit_price = [12,10,100,34,20]\n",
    "quantity = [1,2,5,6,6]\n",
    "full_name = ['ram ghimire','gopal poudel','hari pandey','suraj karki','Maya Sahi']"
   ]
  },
  {
   "cell_type": "code",
   "execution_count": 14,
   "id": "d49ccb50",
   "metadata": {},
   "outputs": [],
   "source": [
    "# quantity = [10, 20, 15, 30]  # example list, use your actual data\n",
    "dicts = {\n",
    "    'transaction_id': tid,\n",
    "    'date_': dates,\n",
    "    'unit_price': unit_price,\n",
    "    'Quantity': quantity,\n",
    "    'full_name': full_name\n",
    "}"
   ]
  },
  {
   "cell_type": "code",
   "execution_count": 15,
   "id": "93ba8983",
   "metadata": {},
   "outputs": [
    {
     "data": {
      "text/plain": [
       "{'transaction_id': [1, 2, 3, 4, 5],\n",
       " 'date_': ['2022-01-05',\n",
       "  '2025-03-08',\n",
       "  '2023-05-08',\n",
       "  '2023-05-08',\n",
       "  '2023-05-10'],\n",
       " 'unit_price': [12, 10, 100, 34, 20],\n",
       " 'Quantity': [1, 2, 5, 6, 6],\n",
       " 'full_name': ['ram ghimire',\n",
       "  'gopal poudel',\n",
       "  'hari pandey',\n",
       "  'suraj karki',\n",
       "  'Maya Sahi']}"
      ]
     },
     "execution_count": 15,
     "metadata": {},
     "output_type": "execute_result"
    }
   ],
   "source": [
    "dicts"
   ]
  },
  {
   "cell_type": "code",
   "execution_count": 16,
   "id": "a2fb3a0d",
   "metadata": {},
   "outputs": [],
   "source": [
    "import pandas as pd"
   ]
  },
  {
   "cell_type": "code",
   "execution_count": 17,
   "id": "0a56f1c4",
   "metadata": {},
   "outputs": [],
   "source": [
    "df = pd.DataFrame(dicts)"
   ]
  },
  {
   "cell_type": "code",
   "execution_count": 18,
   "id": "79ba5e4c",
   "metadata": {},
   "outputs": [
    {
     "data": {
      "text/html": [
       "<div>\n",
       "<style scoped>\n",
       "    .dataframe tbody tr th:only-of-type {\n",
       "        vertical-align: middle;\n",
       "    }\n",
       "\n",
       "    .dataframe tbody tr th {\n",
       "        vertical-align: top;\n",
       "    }\n",
       "\n",
       "    .dataframe thead th {\n",
       "        text-align: right;\n",
       "    }\n",
       "</style>\n",
       "<table border=\"1\" class=\"dataframe\">\n",
       "  <thead>\n",
       "    <tr style=\"text-align: right;\">\n",
       "      <th></th>\n",
       "      <th>transaction_id</th>\n",
       "      <th>date_</th>\n",
       "      <th>unit_price</th>\n",
       "      <th>Quantity</th>\n",
       "      <th>full_name</th>\n",
       "    </tr>\n",
       "  </thead>\n",
       "  <tbody>\n",
       "    <tr>\n",
       "      <th>0</th>\n",
       "      <td>1</td>\n",
       "      <td>2022-01-05</td>\n",
       "      <td>12</td>\n",
       "      <td>1</td>\n",
       "      <td>ram ghimire</td>\n",
       "    </tr>\n",
       "    <tr>\n",
       "      <th>1</th>\n",
       "      <td>2</td>\n",
       "      <td>2025-03-08</td>\n",
       "      <td>10</td>\n",
       "      <td>2</td>\n",
       "      <td>gopal poudel</td>\n",
       "    </tr>\n",
       "    <tr>\n",
       "      <th>2</th>\n",
       "      <td>3</td>\n",
       "      <td>2023-05-08</td>\n",
       "      <td>100</td>\n",
       "      <td>5</td>\n",
       "      <td>hari pandey</td>\n",
       "    </tr>\n",
       "    <tr>\n",
       "      <th>3</th>\n",
       "      <td>4</td>\n",
       "      <td>2023-05-08</td>\n",
       "      <td>34</td>\n",
       "      <td>6</td>\n",
       "      <td>suraj karki</td>\n",
       "    </tr>\n",
       "    <tr>\n",
       "      <th>4</th>\n",
       "      <td>5</td>\n",
       "      <td>2023-05-10</td>\n",
       "      <td>20</td>\n",
       "      <td>6</td>\n",
       "      <td>Maya Sahi</td>\n",
       "    </tr>\n",
       "  </tbody>\n",
       "</table>\n",
       "</div>"
      ],
      "text/plain": [
       "   transaction_id       date_  unit_price  Quantity     full_name\n",
       "0               1  2022-01-05          12         1   ram ghimire\n",
       "1               2  2025-03-08          10         2  gopal poudel\n",
       "2               3  2023-05-08         100         5   hari pandey\n",
       "3               4  2023-05-08          34         6   suraj karki\n",
       "4               5  2023-05-10          20         6     Maya Sahi"
      ]
     },
     "execution_count": 18,
     "metadata": {},
     "output_type": "execute_result"
    }
   ],
   "source": [
    "df"
   ]
  },
  {
   "cell_type": "markdown",
   "id": "59776cfb",
   "metadata": {},
   "source": [
    "#### To seperate full_name as first name and last_name"
   ]
  },
  {
   "cell_type": "code",
   "execution_count": 19,
   "id": "4d52eae9",
   "metadata": {},
   "outputs": [
    {
     "data": {
      "text/plain": [
       "<pandas.core.strings.accessor.StringMethods at 0x1bac61a8980>"
      ]
     },
     "execution_count": 19,
     "metadata": {},
     "output_type": "execute_result"
    }
   ],
   "source": [
    "df['full_name'].str"
   ]
  },
  {
   "cell_type": "code",
   "execution_count": 20,
   "id": "2ee74eeb",
   "metadata": {},
   "outputs": [
    {
     "data": {
      "text/plain": [
       "['ram', 'ghimire']"
      ]
     },
     "execution_count": 20,
     "metadata": {},
     "output_type": "execute_result"
    }
   ],
   "source": [
    "'ram ghimire'.split(' ')"
   ]
  },
  {
   "cell_type": "code",
   "execution_count": 21,
   "id": "48ea4d40",
   "metadata": {},
   "outputs": [
    {
     "data": {
      "text/plain": [
       "'ram'"
      ]
     },
     "execution_count": 21,
     "metadata": {},
     "output_type": "execute_result"
    }
   ],
   "source": [
    "'ram ghimire'.split(' ')[0]"
   ]
  },
  {
   "cell_type": "code",
   "execution_count": 22,
   "id": "5cda0c9c",
   "metadata": {},
   "outputs": [
    {
     "data": {
      "text/plain": [
       "'ghimire'"
      ]
     },
     "execution_count": 22,
     "metadata": {},
     "output_type": "execute_result"
    }
   ],
   "source": [
    "'ram ghimire'.split(' ')[1]"
   ]
  },
  {
   "cell_type": "markdown",
   "id": "b35d3a13",
   "metadata": {},
   "source": [
    "##### To extract first_name "
   ]
  },
  {
   "cell_type": "code",
   "execution_count": 23,
   "id": "1067c571",
   "metadata": {},
   "outputs": [
    {
     "data": {
      "text/plain": [
       "0      ram\n",
       "1    gopal\n",
       "2     hari\n",
       "3    suraj\n",
       "4     Maya\n",
       "Name: full_name, dtype: object"
      ]
     },
     "execution_count": 23,
     "metadata": {},
     "output_type": "execute_result"
    }
   ],
   "source": [
    "df['full_name'].str.split(' ').str.get(0)"
   ]
  },
  {
   "cell_type": "markdown",
   "id": "9c987cad",
   "metadata": {},
   "source": [
    "#### Creating a new column"
   ]
  },
  {
   "cell_type": "code",
   "execution_count": 24,
   "id": "fa3bdf31",
   "metadata": {},
   "outputs": [],
   "source": [
    "df['first_name'] = df['full_name'].str.split(' ').str.get(0)"
   ]
  },
  {
   "cell_type": "code",
   "execution_count": 25,
   "id": "1e3c8066",
   "metadata": {},
   "outputs": [
    {
     "data": {
      "text/html": [
       "<div>\n",
       "<style scoped>\n",
       "    .dataframe tbody tr th:only-of-type {\n",
       "        vertical-align: middle;\n",
       "    }\n",
       "\n",
       "    .dataframe tbody tr th {\n",
       "        vertical-align: top;\n",
       "    }\n",
       "\n",
       "    .dataframe thead th {\n",
       "        text-align: right;\n",
       "    }\n",
       "</style>\n",
       "<table border=\"1\" class=\"dataframe\">\n",
       "  <thead>\n",
       "    <tr style=\"text-align: right;\">\n",
       "      <th></th>\n",
       "      <th>transaction_id</th>\n",
       "      <th>date_</th>\n",
       "      <th>unit_price</th>\n",
       "      <th>Quantity</th>\n",
       "      <th>full_name</th>\n",
       "      <th>first_name</th>\n",
       "    </tr>\n",
       "  </thead>\n",
       "  <tbody>\n",
       "    <tr>\n",
       "      <th>0</th>\n",
       "      <td>1</td>\n",
       "      <td>2022-01-05</td>\n",
       "      <td>12</td>\n",
       "      <td>1</td>\n",
       "      <td>ram ghimire</td>\n",
       "      <td>ram</td>\n",
       "    </tr>\n",
       "    <tr>\n",
       "      <th>1</th>\n",
       "      <td>2</td>\n",
       "      <td>2025-03-08</td>\n",
       "      <td>10</td>\n",
       "      <td>2</td>\n",
       "      <td>gopal poudel</td>\n",
       "      <td>gopal</td>\n",
       "    </tr>\n",
       "    <tr>\n",
       "      <th>2</th>\n",
       "      <td>3</td>\n",
       "      <td>2023-05-08</td>\n",
       "      <td>100</td>\n",
       "      <td>5</td>\n",
       "      <td>hari pandey</td>\n",
       "      <td>hari</td>\n",
       "    </tr>\n",
       "    <tr>\n",
       "      <th>3</th>\n",
       "      <td>4</td>\n",
       "      <td>2023-05-08</td>\n",
       "      <td>34</td>\n",
       "      <td>6</td>\n",
       "      <td>suraj karki</td>\n",
       "      <td>suraj</td>\n",
       "    </tr>\n",
       "    <tr>\n",
       "      <th>4</th>\n",
       "      <td>5</td>\n",
       "      <td>2023-05-10</td>\n",
       "      <td>20</td>\n",
       "      <td>6</td>\n",
       "      <td>Maya Sahi</td>\n",
       "      <td>Maya</td>\n",
       "    </tr>\n",
       "  </tbody>\n",
       "</table>\n",
       "</div>"
      ],
      "text/plain": [
       "   transaction_id       date_  unit_price  Quantity     full_name first_name\n",
       "0               1  2022-01-05          12         1   ram ghimire        ram\n",
       "1               2  2025-03-08          10         2  gopal poudel      gopal\n",
       "2               3  2023-05-08         100         5   hari pandey       hari\n",
       "3               4  2023-05-08          34         6   suraj karki      suraj\n",
       "4               5  2023-05-10          20         6     Maya Sahi       Maya"
      ]
     },
     "execution_count": 25,
     "metadata": {},
     "output_type": "execute_result"
    }
   ],
   "source": [
    "df"
   ]
  },
  {
   "cell_type": "markdown",
   "id": "f08ca26a",
   "metadata": {},
   "source": [
    "#### To add last name "
   ]
  },
  {
   "cell_type": "code",
   "execution_count": 26,
   "id": "1b7f9a5c",
   "metadata": {},
   "outputs": [
    {
     "data": {
      "text/plain": [
       "0    ghimire\n",
       "1     poudel\n",
       "2     pandey\n",
       "3      karki\n",
       "4       Sahi\n",
       "Name: full_name, dtype: object"
      ]
     },
     "execution_count": 26,
     "metadata": {},
     "output_type": "execute_result"
    }
   ],
   "source": [
    "df['full_name'].str.split(' ').str.get(1)"
   ]
  },
  {
   "cell_type": "code",
   "execution_count": 27,
   "id": "8ac886f7",
   "metadata": {},
   "outputs": [],
   "source": [
    "df['last_name'] = df['full_name'].str.split(' ').str.get(1)"
   ]
  },
  {
   "cell_type": "code",
   "execution_count": 28,
   "id": "747a14a5",
   "metadata": {},
   "outputs": [
    {
     "data": {
      "text/html": [
       "<div>\n",
       "<style scoped>\n",
       "    .dataframe tbody tr th:only-of-type {\n",
       "        vertical-align: middle;\n",
       "    }\n",
       "\n",
       "    .dataframe tbody tr th {\n",
       "        vertical-align: top;\n",
       "    }\n",
       "\n",
       "    .dataframe thead th {\n",
       "        text-align: right;\n",
       "    }\n",
       "</style>\n",
       "<table border=\"1\" class=\"dataframe\">\n",
       "  <thead>\n",
       "    <tr style=\"text-align: right;\">\n",
       "      <th></th>\n",
       "      <th>transaction_id</th>\n",
       "      <th>date_</th>\n",
       "      <th>unit_price</th>\n",
       "      <th>Quantity</th>\n",
       "      <th>full_name</th>\n",
       "      <th>first_name</th>\n",
       "      <th>last_name</th>\n",
       "    </tr>\n",
       "  </thead>\n",
       "  <tbody>\n",
       "    <tr>\n",
       "      <th>0</th>\n",
       "      <td>1</td>\n",
       "      <td>2022-01-05</td>\n",
       "      <td>12</td>\n",
       "      <td>1</td>\n",
       "      <td>ram ghimire</td>\n",
       "      <td>ram</td>\n",
       "      <td>ghimire</td>\n",
       "    </tr>\n",
       "    <tr>\n",
       "      <th>1</th>\n",
       "      <td>2</td>\n",
       "      <td>2025-03-08</td>\n",
       "      <td>10</td>\n",
       "      <td>2</td>\n",
       "      <td>gopal poudel</td>\n",
       "      <td>gopal</td>\n",
       "      <td>poudel</td>\n",
       "    </tr>\n",
       "    <tr>\n",
       "      <th>2</th>\n",
       "      <td>3</td>\n",
       "      <td>2023-05-08</td>\n",
       "      <td>100</td>\n",
       "      <td>5</td>\n",
       "      <td>hari pandey</td>\n",
       "      <td>hari</td>\n",
       "      <td>pandey</td>\n",
       "    </tr>\n",
       "    <tr>\n",
       "      <th>3</th>\n",
       "      <td>4</td>\n",
       "      <td>2023-05-08</td>\n",
       "      <td>34</td>\n",
       "      <td>6</td>\n",
       "      <td>suraj karki</td>\n",
       "      <td>suraj</td>\n",
       "      <td>karki</td>\n",
       "    </tr>\n",
       "    <tr>\n",
       "      <th>4</th>\n",
       "      <td>5</td>\n",
       "      <td>2023-05-10</td>\n",
       "      <td>20</td>\n",
       "      <td>6</td>\n",
       "      <td>Maya Sahi</td>\n",
       "      <td>Maya</td>\n",
       "      <td>Sahi</td>\n",
       "    </tr>\n",
       "  </tbody>\n",
       "</table>\n",
       "</div>"
      ],
      "text/plain": [
       "   transaction_id       date_  unit_price  Quantity     full_name first_name  \\\n",
       "0               1  2022-01-05          12         1   ram ghimire        ram   \n",
       "1               2  2025-03-08          10         2  gopal poudel      gopal   \n",
       "2               3  2023-05-08         100         5   hari pandey       hari   \n",
       "3               4  2023-05-08          34         6   suraj karki      suraj   \n",
       "4               5  2023-05-10          20         6     Maya Sahi       Maya   \n",
       "\n",
       "  last_name  \n",
       "0   ghimire  \n",
       "1    poudel  \n",
       "2    pandey  \n",
       "3     karki  \n",
       "4      Sahi  "
      ]
     },
     "execution_count": 28,
     "metadata": {},
     "output_type": "execute_result"
    }
   ],
   "source": [
    "df"
   ]
  },
  {
   "cell_type": "markdown",
   "id": "f04cea70",
   "metadata": {},
   "source": [
    "#### Adding new column and calculating the total price "
   ]
  },
  {
   "cell_type": "code",
   "execution_count": 29,
   "id": "a45c9920",
   "metadata": {},
   "outputs": [],
   "source": [
    "df['total_price']=df['unit_price']*df['Quantity']"
   ]
  },
  {
   "cell_type": "code",
   "execution_count": 30,
   "id": "4d09fc8c",
   "metadata": {},
   "outputs": [
    {
     "data": {
      "text/html": [
       "<div>\n",
       "<style scoped>\n",
       "    .dataframe tbody tr th:only-of-type {\n",
       "        vertical-align: middle;\n",
       "    }\n",
       "\n",
       "    .dataframe tbody tr th {\n",
       "        vertical-align: top;\n",
       "    }\n",
       "\n",
       "    .dataframe thead th {\n",
       "        text-align: right;\n",
       "    }\n",
       "</style>\n",
       "<table border=\"1\" class=\"dataframe\">\n",
       "  <thead>\n",
       "    <tr style=\"text-align: right;\">\n",
       "      <th></th>\n",
       "      <th>transaction_id</th>\n",
       "      <th>date_</th>\n",
       "      <th>unit_price</th>\n",
       "      <th>Quantity</th>\n",
       "      <th>full_name</th>\n",
       "      <th>first_name</th>\n",
       "      <th>last_name</th>\n",
       "      <th>total_price</th>\n",
       "    </tr>\n",
       "  </thead>\n",
       "  <tbody>\n",
       "    <tr>\n",
       "      <th>0</th>\n",
       "      <td>1</td>\n",
       "      <td>2022-01-05</td>\n",
       "      <td>12</td>\n",
       "      <td>1</td>\n",
       "      <td>ram ghimire</td>\n",
       "      <td>ram</td>\n",
       "      <td>ghimire</td>\n",
       "      <td>12</td>\n",
       "    </tr>\n",
       "    <tr>\n",
       "      <th>1</th>\n",
       "      <td>2</td>\n",
       "      <td>2025-03-08</td>\n",
       "      <td>10</td>\n",
       "      <td>2</td>\n",
       "      <td>gopal poudel</td>\n",
       "      <td>gopal</td>\n",
       "      <td>poudel</td>\n",
       "      <td>20</td>\n",
       "    </tr>\n",
       "    <tr>\n",
       "      <th>2</th>\n",
       "      <td>3</td>\n",
       "      <td>2023-05-08</td>\n",
       "      <td>100</td>\n",
       "      <td>5</td>\n",
       "      <td>hari pandey</td>\n",
       "      <td>hari</td>\n",
       "      <td>pandey</td>\n",
       "      <td>500</td>\n",
       "    </tr>\n",
       "    <tr>\n",
       "      <th>3</th>\n",
       "      <td>4</td>\n",
       "      <td>2023-05-08</td>\n",
       "      <td>34</td>\n",
       "      <td>6</td>\n",
       "      <td>suraj karki</td>\n",
       "      <td>suraj</td>\n",
       "      <td>karki</td>\n",
       "      <td>204</td>\n",
       "    </tr>\n",
       "    <tr>\n",
       "      <th>4</th>\n",
       "      <td>5</td>\n",
       "      <td>2023-05-10</td>\n",
       "      <td>20</td>\n",
       "      <td>6</td>\n",
       "      <td>Maya Sahi</td>\n",
       "      <td>Maya</td>\n",
       "      <td>Sahi</td>\n",
       "      <td>120</td>\n",
       "    </tr>\n",
       "  </tbody>\n",
       "</table>\n",
       "</div>"
      ],
      "text/plain": [
       "   transaction_id       date_  unit_price  Quantity     full_name first_name  \\\n",
       "0               1  2022-01-05          12         1   ram ghimire        ram   \n",
       "1               2  2025-03-08          10         2  gopal poudel      gopal   \n",
       "2               3  2023-05-08         100         5   hari pandey       hari   \n",
       "3               4  2023-05-08          34         6   suraj karki      suraj   \n",
       "4               5  2023-05-10          20         6     Maya Sahi       Maya   \n",
       "\n",
       "  last_name  total_price  \n",
       "0   ghimire           12  \n",
       "1    poudel           20  \n",
       "2    pandey          500  \n",
       "3     karki          204  \n",
       "4      Sahi          120  "
      ]
     },
     "execution_count": 30,
     "metadata": {},
     "output_type": "execute_result"
    }
   ],
   "source": [
    "df"
   ]
  },
  {
   "cell_type": "markdown",
   "id": "e208602a",
   "metadata": {},
   "source": [
    "## To keep cloumn in order."
   ]
  },
  {
   "cell_type": "code",
   "execution_count": 31,
   "id": "4790b487",
   "metadata": {},
   "outputs": [
    {
     "data": {
      "text/html": [
       "<div>\n",
       "<style scoped>\n",
       "    .dataframe tbody tr th:only-of-type {\n",
       "        vertical-align: middle;\n",
       "    }\n",
       "\n",
       "    .dataframe tbody tr th {\n",
       "        vertical-align: top;\n",
       "    }\n",
       "\n",
       "    .dataframe thead th {\n",
       "        text-align: right;\n",
       "    }\n",
       "</style>\n",
       "<table border=\"1\" class=\"dataframe\">\n",
       "  <thead>\n",
       "    <tr style=\"text-align: right;\">\n",
       "      <th></th>\n",
       "      <th>transaction_id</th>\n",
       "      <th>date_</th>\n",
       "      <th>unit_price</th>\n",
       "      <th>Quantity</th>\n",
       "      <th>full_name</th>\n",
       "      <th>first_name</th>\n",
       "      <th>last_name</th>\n",
       "      <th>total_price</th>\n",
       "    </tr>\n",
       "  </thead>\n",
       "  <tbody>\n",
       "    <tr>\n",
       "      <th>0</th>\n",
       "      <td>1</td>\n",
       "      <td>2022-01-05</td>\n",
       "      <td>12</td>\n",
       "      <td>1</td>\n",
       "      <td>ram ghimire</td>\n",
       "      <td>ram</td>\n",
       "      <td>ghimire</td>\n",
       "      <td>12</td>\n",
       "    </tr>\n",
       "    <tr>\n",
       "      <th>1</th>\n",
       "      <td>2</td>\n",
       "      <td>2025-03-08</td>\n",
       "      <td>10</td>\n",
       "      <td>2</td>\n",
       "      <td>gopal poudel</td>\n",
       "      <td>gopal</td>\n",
       "      <td>poudel</td>\n",
       "      <td>20</td>\n",
       "    </tr>\n",
       "    <tr>\n",
       "      <th>2</th>\n",
       "      <td>3</td>\n",
       "      <td>2023-05-08</td>\n",
       "      <td>100</td>\n",
       "      <td>5</td>\n",
       "      <td>hari pandey</td>\n",
       "      <td>hari</td>\n",
       "      <td>pandey</td>\n",
       "      <td>500</td>\n",
       "    </tr>\n",
       "    <tr>\n",
       "      <th>3</th>\n",
       "      <td>4</td>\n",
       "      <td>2023-05-08</td>\n",
       "      <td>34</td>\n",
       "      <td>6</td>\n",
       "      <td>suraj karki</td>\n",
       "      <td>suraj</td>\n",
       "      <td>karki</td>\n",
       "      <td>204</td>\n",
       "    </tr>\n",
       "    <tr>\n",
       "      <th>4</th>\n",
       "      <td>5</td>\n",
       "      <td>2023-05-10</td>\n",
       "      <td>20</td>\n",
       "      <td>6</td>\n",
       "      <td>Maya Sahi</td>\n",
       "      <td>Maya</td>\n",
       "      <td>Sahi</td>\n",
       "      <td>120</td>\n",
       "    </tr>\n",
       "  </tbody>\n",
       "</table>\n",
       "</div>"
      ],
      "text/plain": [
       "   transaction_id       date_  unit_price  Quantity     full_name first_name  \\\n",
       "0               1  2022-01-05          12         1   ram ghimire        ram   \n",
       "1               2  2025-03-08          10         2  gopal poudel      gopal   \n",
       "2               3  2023-05-08         100         5   hari pandey       hari   \n",
       "3               4  2023-05-08          34         6   suraj karki      suraj   \n",
       "4               5  2023-05-10          20         6     Maya Sahi       Maya   \n",
       "\n",
       "  last_name  total_price  \n",
       "0   ghimire           12  \n",
       "1    poudel           20  \n",
       "2    pandey          500  \n",
       "3     karki          204  \n",
       "4      Sahi          120  "
      ]
     },
     "execution_count": 31,
     "metadata": {},
     "output_type": "execute_result"
    }
   ],
   "source": [
    "df[['transaction_id','date_','unit_price','Quantity','full_name','first_name','last_name','total_price']]"
   ]
  },
  {
   "cell_type": "markdown",
   "id": "b92827c0",
   "metadata": {},
   "source": [
    "### To convert the datatype of date "
   ]
  },
  {
   "cell_type": "code",
   "execution_count": 32,
   "id": "e1e86432",
   "metadata": {},
   "outputs": [
    {
     "data": {
      "text/plain": [
       "0    2022-01-05\n",
       "1    2025-03-08\n",
       "2    2023-05-08\n",
       "3    2023-05-08\n",
       "4    2023-05-10\n",
       "Name: date_, dtype: object"
      ]
     },
     "execution_count": 32,
     "metadata": {},
     "output_type": "execute_result"
    }
   ],
   "source": [
    "df['date_']"
   ]
  },
  {
   "cell_type": "code",
   "execution_count": 33,
   "id": "c5b0db41",
   "metadata": {},
   "outputs": [
    {
     "data": {
      "text/plain": [
       "0   2022-01-05\n",
       "1   2025-03-08\n",
       "2   2023-05-08\n",
       "3   2023-05-08\n",
       "4   2023-05-10\n",
       "Name: date_, dtype: datetime64[ns]"
      ]
     },
     "execution_count": 33,
     "metadata": {},
     "output_type": "execute_result"
    }
   ],
   "source": [
    "pd.to_datetime(df['date_'])"
   ]
  },
  {
   "cell_type": "code",
   "execution_count": 34,
   "id": "abd28d0d",
   "metadata": {},
   "outputs": [],
   "source": [
    "df['date']=pd.to_datetime(df['date_']) ## Reassigning "
   ]
  },
  {
   "cell_type": "code",
   "execution_count": 35,
   "id": "b118c71a",
   "metadata": {},
   "outputs": [
    {
     "data": {
      "text/plain": [
       "0   2022-01-05\n",
       "1   2025-03-08\n",
       "2   2023-05-08\n",
       "3   2023-05-08\n",
       "4   2023-05-10\n",
       "Name: date, dtype: datetime64[ns]"
      ]
     },
     "execution_count": 35,
     "metadata": {},
     "output_type": "execute_result"
    }
   ],
   "source": [
    "df['date']"
   ]
  },
  {
   "cell_type": "markdown",
   "id": "cd7f3577",
   "metadata": {},
   "source": [
    "### To extract date and months"
   ]
  },
  {
   "cell_type": "code",
   "execution_count": 36,
   "id": "d4b42c23",
   "metadata": {},
   "outputs": [
    {
     "data": {
      "text/plain": [
       "0    2022\n",
       "1    2025\n",
       "2    2023\n",
       "3    2023\n",
       "4    2023\n",
       "Name: date, dtype: int32"
      ]
     },
     "execution_count": 36,
     "metadata": {},
     "output_type": "execute_result"
    }
   ],
   "source": [
    "df['date'].dt.year"
   ]
  },
  {
   "cell_type": "code",
   "execution_count": 37,
   "id": "da799c65",
   "metadata": {},
   "outputs": [
    {
     "data": {
      "text/plain": [
       "0    1\n",
       "1    3\n",
       "2    5\n",
       "3    5\n",
       "4    5\n",
       "Name: date, dtype: int32"
      ]
     },
     "execution_count": 37,
     "metadata": {},
     "output_type": "execute_result"
    }
   ],
   "source": [
    "df['date'].dt.month"
   ]
  },
  {
   "cell_type": "code",
   "execution_count": 38,
   "id": "7bbc2c83",
   "metadata": {},
   "outputs": [
    {
     "data": {
      "text/plain": [
       "0     5\n",
       "1     8\n",
       "2     8\n",
       "3     8\n",
       "4    10\n",
       "Name: date, dtype: int32"
      ]
     },
     "execution_count": 38,
     "metadata": {},
     "output_type": "execute_result"
    }
   ],
   "source": [
    "df['date'].dt.day"
   ]
  },
  {
   "cell_type": "code",
   "execution_count": 39,
   "id": "d854ef49",
   "metadata": {},
   "outputs": [],
   "source": [
    "# df['month_numeric'] = df['date']\n",
    "# df['day'] = df['date'].dt.day"
   ]
  },
  {
   "cell_type": "markdown",
   "id": "51c261f2",
   "metadata": {},
   "source": [
    "### Doing quarter wise \n",
    "#### 12 months----> 12/4=3\n",
    "##### jan,feb,March ---> 1st Quarter\n",
    "##### April,May,June ---> 2nd  Quarter\n",
    "##### ......."
   ]
  },
  {
   "cell_type": "code",
   "execution_count": 40,
   "id": "ab21e702",
   "metadata": {},
   "outputs": [
    {
     "data": {
      "text/plain": [
       "0    1\n",
       "1    1\n",
       "2    2\n",
       "3    2\n",
       "4    2\n",
       "Name: date, dtype: int32"
      ]
     },
     "execution_count": 40,
     "metadata": {},
     "output_type": "execute_result"
    }
   ],
   "source": [
    "df['date'].dt.quarter"
   ]
  },
  {
   "cell_type": "code",
   "execution_count": 41,
   "id": "1b064584",
   "metadata": {},
   "outputs": [
    {
     "data": {
      "text/plain": [
       "0    January\n",
       "1      March\n",
       "2        May\n",
       "3        May\n",
       "4        May\n",
       "Name: date, dtype: object"
      ]
     },
     "execution_count": 41,
     "metadata": {},
     "output_type": "execute_result"
    }
   ],
   "source": [
    "df['date'].dt.month_name()"
   ]
  },
  {
   "cell_type": "code",
   "execution_count": 42,
   "id": "12929f8a",
   "metadata": {},
   "outputs": [],
   "source": [
    "df['month_name'] = df['date'].dt.month_name()"
   ]
  },
  {
   "cell_type": "markdown",
   "id": "4268a3b8",
   "metadata": {},
   "source": [
    "#### To add quarter column with value will be added on exixting table"
   ]
  },
  {
   "cell_type": "code",
   "execution_count": 43,
   "id": "d942eefe",
   "metadata": {},
   "outputs": [],
   "source": [
    "df['quarter']= df['date'].dt.quarter"
   ]
  },
  {
   "cell_type": "code",
   "execution_count": 44,
   "id": "41876454",
   "metadata": {},
   "outputs": [
    {
     "data": {
      "text/html": [
       "<div>\n",
       "<style scoped>\n",
       "    .dataframe tbody tr th:only-of-type {\n",
       "        vertical-align: middle;\n",
       "    }\n",
       "\n",
       "    .dataframe tbody tr th {\n",
       "        vertical-align: top;\n",
       "    }\n",
       "\n",
       "    .dataframe thead th {\n",
       "        text-align: right;\n",
       "    }\n",
       "</style>\n",
       "<table border=\"1\" class=\"dataframe\">\n",
       "  <thead>\n",
       "    <tr style=\"text-align: right;\">\n",
       "      <th></th>\n",
       "      <th>transaction_id</th>\n",
       "      <th>date_</th>\n",
       "      <th>unit_price</th>\n",
       "      <th>Quantity</th>\n",
       "      <th>full_name</th>\n",
       "      <th>first_name</th>\n",
       "      <th>last_name</th>\n",
       "      <th>total_price</th>\n",
       "      <th>date</th>\n",
       "      <th>month_name</th>\n",
       "      <th>quarter</th>\n",
       "    </tr>\n",
       "  </thead>\n",
       "  <tbody>\n",
       "    <tr>\n",
       "      <th>0</th>\n",
       "      <td>1</td>\n",
       "      <td>2022-01-05</td>\n",
       "      <td>12</td>\n",
       "      <td>1</td>\n",
       "      <td>ram ghimire</td>\n",
       "      <td>ram</td>\n",
       "      <td>ghimire</td>\n",
       "      <td>12</td>\n",
       "      <td>2022-01-05</td>\n",
       "      <td>January</td>\n",
       "      <td>1</td>\n",
       "    </tr>\n",
       "    <tr>\n",
       "      <th>1</th>\n",
       "      <td>2</td>\n",
       "      <td>2025-03-08</td>\n",
       "      <td>10</td>\n",
       "      <td>2</td>\n",
       "      <td>gopal poudel</td>\n",
       "      <td>gopal</td>\n",
       "      <td>poudel</td>\n",
       "      <td>20</td>\n",
       "      <td>2025-03-08</td>\n",
       "      <td>March</td>\n",
       "      <td>1</td>\n",
       "    </tr>\n",
       "    <tr>\n",
       "      <th>2</th>\n",
       "      <td>3</td>\n",
       "      <td>2023-05-08</td>\n",
       "      <td>100</td>\n",
       "      <td>5</td>\n",
       "      <td>hari pandey</td>\n",
       "      <td>hari</td>\n",
       "      <td>pandey</td>\n",
       "      <td>500</td>\n",
       "      <td>2023-05-08</td>\n",
       "      <td>May</td>\n",
       "      <td>2</td>\n",
       "    </tr>\n",
       "    <tr>\n",
       "      <th>3</th>\n",
       "      <td>4</td>\n",
       "      <td>2023-05-08</td>\n",
       "      <td>34</td>\n",
       "      <td>6</td>\n",
       "      <td>suraj karki</td>\n",
       "      <td>suraj</td>\n",
       "      <td>karki</td>\n",
       "      <td>204</td>\n",
       "      <td>2023-05-08</td>\n",
       "      <td>May</td>\n",
       "      <td>2</td>\n",
       "    </tr>\n",
       "    <tr>\n",
       "      <th>4</th>\n",
       "      <td>5</td>\n",
       "      <td>2023-05-10</td>\n",
       "      <td>20</td>\n",
       "      <td>6</td>\n",
       "      <td>Maya Sahi</td>\n",
       "      <td>Maya</td>\n",
       "      <td>Sahi</td>\n",
       "      <td>120</td>\n",
       "      <td>2023-05-10</td>\n",
       "      <td>May</td>\n",
       "      <td>2</td>\n",
       "    </tr>\n",
       "  </tbody>\n",
       "</table>\n",
       "</div>"
      ],
      "text/plain": [
       "   transaction_id       date_  unit_price  Quantity     full_name first_name  \\\n",
       "0               1  2022-01-05          12         1   ram ghimire        ram   \n",
       "1               2  2025-03-08          10         2  gopal poudel      gopal   \n",
       "2               3  2023-05-08         100         5   hari pandey       hari   \n",
       "3               4  2023-05-08          34         6   suraj karki      suraj   \n",
       "4               5  2023-05-10          20         6     Maya Sahi       Maya   \n",
       "\n",
       "  last_name  total_price       date month_name  quarter  \n",
       "0   ghimire           12 2022-01-05    January        1  \n",
       "1    poudel           20 2025-03-08      March        1  \n",
       "2    pandey          500 2023-05-08        May        2  \n",
       "3     karki          204 2023-05-08        May        2  \n",
       "4      Sahi          120 2023-05-10        May        2  "
      ]
     },
     "execution_count": 44,
     "metadata": {},
     "output_type": "execute_result"
    }
   ],
   "source": [
    "df"
   ]
  },
  {
   "cell_type": "code",
   "execution_count": 45,
   "id": "8d417098",
   "metadata": {},
   "outputs": [
    {
     "data": {
      "text/plain": [
       "0      RAM\n",
       "1    GOPAL\n",
       "2     HARI\n",
       "3    SURAJ\n",
       "4     MAYA\n",
       "Name: first_name, dtype: object"
      ]
     },
     "execution_count": 45,
     "metadata": {},
     "output_type": "execute_result"
    }
   ],
   "source": [
    "df['first_name'].str.upper()"
   ]
  },
  {
   "cell_type": "code",
   "execution_count": 46,
   "id": "f58d4783",
   "metadata": {},
   "outputs": [
    {
     "data": {
      "text/plain": [
       "0      ram\n",
       "1    gopal\n",
       "2     hari\n",
       "3    suraj\n",
       "4     maya\n",
       "Name: first_name, dtype: object"
      ]
     },
     "execution_count": 46,
     "metadata": {},
     "output_type": "execute_result"
    }
   ],
   "source": [
    "df['first_name'].str.lower()"
   ]
  },
  {
   "cell_type": "markdown",
   "id": "d0d53a7d",
   "metadata": {},
   "source": [
    "### REPLACE"
   ]
  },
  {
   "cell_type": "code",
   "execution_count": 47,
   "id": "78dd414b",
   "metadata": {},
   "outputs": [
    {
     "data": {
      "text/plain": [
       "0    shayam\n",
       "1     gopal\n",
       "2      hari\n",
       "3     suraj\n",
       "4      Maya\n",
       "Name: first_name, dtype: object"
      ]
     },
     "execution_count": 47,
     "metadata": {},
     "output_type": "execute_result"
    }
   ],
   "source": [
    "df['first_name'].str.replace('ram','shayam')"
   ]
  },
  {
   "cell_type": "markdown",
   "id": "d57e01ca",
   "metadata": {},
   "source": [
    "#### Fetch the row whose first name starts with 's'"
   ]
  },
  {
   "cell_type": "code",
   "execution_count": 48,
   "id": "6d0d027b",
   "metadata": {},
   "outputs": [
    {
     "data": {
      "text/plain": [
       "False"
      ]
     },
     "execution_count": 48,
     "metadata": {},
     "output_type": "execute_result"
    }
   ],
   "source": [
    "'hello'.startswith('i')       ## Example"
   ]
  },
  {
   "cell_type": "code",
   "execution_count": 49,
   "id": "7f04a37b",
   "metadata": {},
   "outputs": [
    {
     "data": {
      "text/plain": [
       "True"
      ]
     },
     "execution_count": 49,
     "metadata": {},
     "output_type": "execute_result"
    }
   ],
   "source": [
    "'hello'.startswith('h')    "
   ]
  },
  {
   "cell_type": "code",
   "execution_count": 50,
   "id": "5a63ff47",
   "metadata": {},
   "outputs": [
    {
     "data": {
      "text/plain": [
       "0    False\n",
       "1    False\n",
       "2    False\n",
       "3     True\n",
       "4    False\n",
       "Name: first_name, dtype: bool"
      ]
     },
     "execution_count": 50,
     "metadata": {},
     "output_type": "execute_result"
    }
   ],
   "source": [
    "df['first_name'].str.startswith('s')"
   ]
  },
  {
   "cell_type": "markdown",
   "id": "ac995783",
   "metadata": {},
   "source": [
    "### To extract table row whose  name starts with 's'"
   ]
  },
  {
   "cell_type": "code",
   "execution_count": 51,
   "id": "a21b9ea9",
   "metadata": {},
   "outputs": [
    {
     "data": {
      "text/html": [
       "<div>\n",
       "<style scoped>\n",
       "    .dataframe tbody tr th:only-of-type {\n",
       "        vertical-align: middle;\n",
       "    }\n",
       "\n",
       "    .dataframe tbody tr th {\n",
       "        vertical-align: top;\n",
       "    }\n",
       "\n",
       "    .dataframe thead th {\n",
       "        text-align: right;\n",
       "    }\n",
       "</style>\n",
       "<table border=\"1\" class=\"dataframe\">\n",
       "  <thead>\n",
       "    <tr style=\"text-align: right;\">\n",
       "      <th></th>\n",
       "      <th>transaction_id</th>\n",
       "      <th>date_</th>\n",
       "      <th>unit_price</th>\n",
       "      <th>Quantity</th>\n",
       "      <th>full_name</th>\n",
       "      <th>first_name</th>\n",
       "      <th>last_name</th>\n",
       "      <th>total_price</th>\n",
       "      <th>date</th>\n",
       "      <th>month_name</th>\n",
       "      <th>quarter</th>\n",
       "    </tr>\n",
       "  </thead>\n",
       "  <tbody>\n",
       "    <tr>\n",
       "      <th>3</th>\n",
       "      <td>4</td>\n",
       "      <td>2023-05-08</td>\n",
       "      <td>34</td>\n",
       "      <td>6</td>\n",
       "      <td>suraj karki</td>\n",
       "      <td>suraj</td>\n",
       "      <td>karki</td>\n",
       "      <td>204</td>\n",
       "      <td>2023-05-08</td>\n",
       "      <td>May</td>\n",
       "      <td>2</td>\n",
       "    </tr>\n",
       "  </tbody>\n",
       "</table>\n",
       "</div>"
      ],
      "text/plain": [
       "   transaction_id       date_  unit_price  Quantity    full_name first_name  \\\n",
       "3               4  2023-05-08          34         6  suraj karki      suraj   \n",
       "\n",
       "  last_name  total_price       date month_name  quarter  \n",
       "3     karki          204 2023-05-08        May        2  "
      ]
     },
     "execution_count": 51,
     "metadata": {},
     "output_type": "execute_result"
    }
   ],
   "source": [
    "df[df['first_name'].str.startswith('s')]"
   ]
  }
 ],
 "metadata": {
  "kernelspec": {
   "display_name": "Python 3",
   "language": "python",
   "name": "python3"
  },
  "language_info": {
   "codemirror_mode": {
    "name": "ipython",
    "version": 3
   },
   "file_extension": ".py",
   "mimetype": "text/x-python",
   "name": "python",
   "nbconvert_exporter": "python",
   "pygments_lexer": "ipython3",
   "version": "3.13.2"
  }
 },
 "nbformat": 4,
 "nbformat_minor": 5
}
