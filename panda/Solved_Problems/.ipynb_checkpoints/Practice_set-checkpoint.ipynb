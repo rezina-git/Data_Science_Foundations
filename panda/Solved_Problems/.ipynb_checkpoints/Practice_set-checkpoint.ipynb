{
 "cells": [
  {
   "cell_type": "code",
   "execution_count": 1,
   "id": "9d1c9b57",
   "metadata": {},
   "outputs": [],
   "source": [
    "import pandas as pd"
   ]
  },
  {
   "cell_type": "code",
   "execution_count": 2,
   "id": "85d14036",
   "metadata": {},
   "outputs": [
    {
     "data": {
      "text/html": [
       "<div>\n",
       "<style scoped>\n",
       "    .dataframe tbody tr th:only-of-type {\n",
       "        vertical-align: middle;\n",
       "    }\n",
       "\n",
       "    .dataframe tbody tr th {\n",
       "        vertical-align: top;\n",
       "    }\n",
       "\n",
       "    .dataframe thead th {\n",
       "        text-align: right;\n",
       "    }\n",
       "</style>\n",
       "<table border=\"1\" class=\"dataframe\">\n",
       "  <thead>\n",
       "    <tr style=\"text-align: right;\">\n",
       "      <th></th>\n",
       "      <th>CustomerID</th>\n",
       "      <th>CustomerName</th>\n",
       "      <th>Email</th>\n",
       "    </tr>\n",
       "  </thead>\n",
       "  <tbody>\n",
       "    <tr>\n",
       "      <th>0</th>\n",
       "      <td>201</td>\n",
       "      <td>Riya_Sharma</td>\n",
       "      <td>riya1@gmail.com</td>\n",
       "    </tr>\n",
       "    <tr>\n",
       "      <th>1</th>\n",
       "      <td>202</td>\n",
       "      <td>Micheal Smith</td>\n",
       "      <td>micheal2@work.net</td>\n",
       "    </tr>\n",
       "    <tr>\n",
       "      <th>2</th>\n",
       "      <td>203</td>\n",
       "      <td>karan kundra</td>\n",
       "      <td>karan@domain.com</td>\n",
       "    </tr>\n",
       "    <tr>\n",
       "      <th>3</th>\n",
       "      <td>204</td>\n",
       "      <td>James neal</td>\n",
       "      <td>james@now.com</td>\n",
       "    </tr>\n",
       "    <tr>\n",
       "      <th>4</th>\n",
       "      <td>205</td>\n",
       "      <td>lisa_kim</td>\n",
       "      <td>lisa_kim@mail.com</td>\n",
       "    </tr>\n",
       "  </tbody>\n",
       "</table>\n",
       "</div>"
      ],
      "text/plain": [
       "   CustomerID       CustomerName                Email\n",
       "0         201       Riya_Sharma      riya1@gmail.com \n",
       "1         202    Micheal Smith     micheal2@work.net \n",
       "2         203      karan kundra     karan@domain.com \n",
       "3         204        James neal        james@now.com \n",
       "4         205          lisa_kim    lisa_kim@mail.com "
      ]
     },
     "execution_count": 2,
     "metadata": {},
     "output_type": "execute_result"
    }
   ],
   "source": [
    "data = {\n",
    "    'CustomerID':[201,202,203,204,205],\n",
    "    'CustomerName': [' Riya_Sharma ','  Micheal Smith  ',' karan kundra ','James neal ',' lisa_kim '],\n",
    "    'Email' : [' riya1@gmail.com ',' micheal2@work.net ',' karan@domain.com ',' james@now.com ',' lisa_kim@mail.com ']\n",
    "}\n",
    "df = pd.DataFrame(data)\n",
    "df"
   ]
  },
  {
   "cell_type": "markdown",
   "id": "dbd01cc4",
   "metadata": {},
   "source": [
    "#### Strip leading and trailing spaces in the CustomerName column."
   ]
  },
  {
   "cell_type": "code",
   "execution_count": 3,
   "id": "c7166348",
   "metadata": {},
   "outputs": [],
   "source": [
    "df1 = df['CustomerName'].str.strip()"
   ]
  },
  {
   "cell_type": "code",
   "execution_count": 4,
   "id": "c2b117c2",
   "metadata": {},
   "outputs": [
    {
     "data": {
      "text/plain": [
       "0      Riya_Sharma\n",
       "1    Micheal Smith\n",
       "2     karan kundra\n",
       "3       James neal\n",
       "4         lisa_kim\n",
       "Name: CustomerName, dtype: object"
      ]
     },
     "execution_count": 4,
     "metadata": {},
     "output_type": "execute_result"
    }
   ],
   "source": [
    "df1"
   ]
  },
  {
   "cell_type": "markdown",
   "id": "994494ad",
   "metadata": {},
   "source": [
    "#### Convert all names in CustomerName to lowercase, then to title case."
   ]
  },
  {
   "cell_type": "code",
   "execution_count": 5,
   "id": "86fbb544",
   "metadata": {},
   "outputs": [
    {
     "data": {
      "text/plain": [
       "0         riya_sharma \n",
       "1      micheal smith  \n",
       "2        karan kundra \n",
       "3          james neal \n",
       "4            lisa_kim \n",
       "Name: CustomerName, dtype: object"
      ]
     },
     "execution_count": 5,
     "metadata": {},
     "output_type": "execute_result"
    }
   ],
   "source": [
    "df['CustomerName'].str.lower()"
   ]
  },
  {
   "cell_type": "markdown",
   "id": "59665377",
   "metadata": {},
   "source": [
    "### Replace underscores (_), hyphens (-), and dots (.) in CustomerName with a space"
   ]
  },
  {
   "cell_type": "code",
   "execution_count": 6,
   "id": "74e7796b",
   "metadata": {},
   "outputs": [
    {
     "data": {
      "text/plain": [
       "0        Riya  Sharma \n",
       "1      Micheal Smith  \n",
       "2        karan kundra \n",
       "3          James neal \n",
       "4           lisa  kim \n",
       "Name: CustomerName, dtype: object"
      ]
     },
     "execution_count": 6,
     "metadata": {},
     "output_type": "execute_result"
    }
   ],
   "source": [
    "df['CustomerName'].str.replace('_','  ').str.replace('-','  ').str.replace('.',' ')"
   ]
  },
  {
   "cell_type": "code",
   "execution_count": 7,
   "id": "43345478",
   "metadata": {},
   "outputs": [],
   "source": [
    "df['CustomerName']=df['CustomerName'].str.replace(r'[_\\-\\.]','_____',regex=True)  #next process"
   ]
  },
  {
   "cell_type": "code",
   "execution_count": 8,
   "id": "24bd75b4",
   "metadata": {},
   "outputs": [
    {
     "data": {
      "text/html": [
       "<div>\n",
       "<style scoped>\n",
       "    .dataframe tbody tr th:only-of-type {\n",
       "        vertical-align: middle;\n",
       "    }\n",
       "\n",
       "    .dataframe tbody tr th {\n",
       "        vertical-align: top;\n",
       "    }\n",
       "\n",
       "    .dataframe thead th {\n",
       "        text-align: right;\n",
       "    }\n",
       "</style>\n",
       "<table border=\"1\" class=\"dataframe\">\n",
       "  <thead>\n",
       "    <tr style=\"text-align: right;\">\n",
       "      <th></th>\n",
       "      <th>CustomerID</th>\n",
       "      <th>CustomerName</th>\n",
       "      <th>Email</th>\n",
       "    </tr>\n",
       "  </thead>\n",
       "  <tbody>\n",
       "    <tr>\n",
       "      <th>0</th>\n",
       "      <td>201</td>\n",
       "      <td>Riya_____Sharma</td>\n",
       "      <td>riya1@gmail.com</td>\n",
       "    </tr>\n",
       "    <tr>\n",
       "      <th>1</th>\n",
       "      <td>202</td>\n",
       "      <td>Micheal Smith</td>\n",
       "      <td>micheal2@work.net</td>\n",
       "    </tr>\n",
       "    <tr>\n",
       "      <th>2</th>\n",
       "      <td>203</td>\n",
       "      <td>karan kundra</td>\n",
       "      <td>karan@domain.com</td>\n",
       "    </tr>\n",
       "    <tr>\n",
       "      <th>3</th>\n",
       "      <td>204</td>\n",
       "      <td>James neal</td>\n",
       "      <td>james@now.com</td>\n",
       "    </tr>\n",
       "    <tr>\n",
       "      <th>4</th>\n",
       "      <td>205</td>\n",
       "      <td>lisa_____kim</td>\n",
       "      <td>lisa_kim@mail.com</td>\n",
       "    </tr>\n",
       "  </tbody>\n",
       "</table>\n",
       "</div>"
      ],
      "text/plain": [
       "   CustomerID       CustomerName                Email\n",
       "0         201   Riya_____Sharma      riya1@gmail.com \n",
       "1         202    Micheal Smith     micheal2@work.net \n",
       "2         203      karan kundra     karan@domain.com \n",
       "3         204        James neal        james@now.com \n",
       "4         205      lisa_____kim    lisa_kim@mail.com "
      ]
     },
     "execution_count": 8,
     "metadata": {},
     "output_type": "execute_result"
    }
   ],
   "source": [
    "df"
   ]
  },
  {
   "cell_type": "markdown",
   "id": "9cb7f50e",
   "metadata": {},
   "source": [
    "####  4. Count how many names in CustomerName contain the word \"smith\" (case-insensitive)."
   ]
  },
  {
   "cell_type": "code",
   "execution_count": 9,
   "id": "dcbaab5d",
   "metadata": {},
   "outputs": [
    {
     "data": {
      "text/plain": [
       "0     Riya_____Sharma \n",
       "1      Micheal Smith  \n",
       "2        karan kundra \n",
       "3          James neal \n",
       "4        lisa_____kim \n",
       "Name: CustomerName, dtype: object"
      ]
     },
     "execution_count": 9,
     "metadata": {},
     "output_type": "execute_result"
    }
   ],
   "source": [
    "df ['CustomerName']"
   ]
  },
  {
   "cell_type": "code",
   "execution_count": 10,
   "id": "4597d237",
   "metadata": {},
   "outputs": [
    {
     "data": {
      "text/plain": [
       "0    0\n",
       "1    0\n",
       "2    0\n",
       "3    0\n",
       "4    0\n",
       "Name: CustomerName, dtype: int64"
      ]
     },
     "execution_count": 10,
     "metadata": {},
     "output_type": "execute_result"
    }
   ],
   "source": [
    "df['CustomerName'].str.count(\"smith\")"
   ]
  },
  {
   "cell_type": "code",
   "execution_count": 11,
   "id": "3219e0df",
   "metadata": {},
   "outputs": [
    {
     "data": {
      "text/plain": [
       "0    0\n",
       "1    1\n",
       "2    0\n",
       "3    0\n",
       "4    0\n",
       "Name: CustomerName, dtype: int64"
      ]
     },
     "execution_count": 11,
     "metadata": {},
     "output_type": "execute_result"
    }
   ],
   "source": [
    "df['CustomerName'].str.count(\"Smith\")"
   ]
  },
  {
   "cell_type": "markdown",
   "id": "ca2c936c",
   "metadata": {},
   "source": [
    "#### 5. Find and return all rows where Email ends with .com."
   ]
  },
  {
   "cell_type": "code",
   "execution_count": 13,
   "id": "251bf40c",
   "metadata": {},
   "outputs": [
    {
     "data": {
      "text/html": [
       "<div>\n",
       "<style scoped>\n",
       "    .dataframe tbody tr th:only-of-type {\n",
       "        vertical-align: middle;\n",
       "    }\n",
       "\n",
       "    .dataframe tbody tr th {\n",
       "        vertical-align: top;\n",
       "    }\n",
       "\n",
       "    .dataframe thead th {\n",
       "        text-align: right;\n",
       "    }\n",
       "</style>\n",
       "<table border=\"1\" class=\"dataframe\">\n",
       "  <thead>\n",
       "    <tr style=\"text-align: right;\">\n",
       "      <th></th>\n",
       "      <th>CustomerID</th>\n",
       "      <th>CustomerName</th>\n",
       "      <th>Email</th>\n",
       "    </tr>\n",
       "  </thead>\n",
       "  <tbody>\n",
       "  </tbody>\n",
       "</table>\n",
       "</div>"
      ],
      "text/plain": [
       "Empty DataFrame\n",
       "Columns: [CustomerID, CustomerName, Email]\n",
       "Index: []"
      ]
     },
     "execution_count": 13,
     "metadata": {},
     "output_type": "execute_result"
    }
   ],
   "source": [
    "df[df['Email'].str.endswith(\".com\")]"
   ]
  }
 ],
 "metadata": {
  "kernelspec": {
   "display_name": "Python 3",
   "language": "python",
   "name": "python3"
  },
  "language_info": {
   "codemirror_mode": {
    "name": "ipython",
    "version": 3
   },
   "file_extension": ".py",
   "mimetype": "text/x-python",
   "name": "python",
   "nbconvert_exporter": "python",
   "pygments_lexer": "ipython3",
   "version": "3.13.2"
  }
 },
 "nbformat": 4,
 "nbformat_minor": 5
}
