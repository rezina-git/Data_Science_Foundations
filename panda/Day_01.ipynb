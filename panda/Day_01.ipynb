{
 "cells": [
  {
   "cell_type": "markdown",
   "id": "436ffd87",
   "metadata": {},
   "source": [
    "## Pandas"
   ]
  },
  {
   "cell_type": "code",
   "execution_count": 1,
   "id": "b68783ac",
   "metadata": {},
   "outputs": [],
   "source": [
    "# !pip install pandas -q "
   ]
  },
  {
   "cell_type": "markdown",
   "id": "c9baec69",
   "metadata": {},
   "source": [
    "### Pandas is library\n",
    "### Use Cases : Data cleaning,data manipulation,data tramsformation,Filtering\n"
   ]
  },
  {
   "cell_type": "code",
   "execution_count": 2,
   "id": "955fd5b3",
   "metadata": {},
   "outputs": [],
   "source": [
    "import pandas as pd"
   ]
  },
  {
   "cell_type": "markdown",
   "id": "ddd9879d",
   "metadata": {},
   "source": [
    "#### Creating a CSV files ---->Comma seperated values"
   ]
  },
  {
   "cell_type": "code",
   "execution_count": 3,
   "id": "5be0f768",
   "metadata": {},
   "outputs": [],
   "source": [
    "id_ = [1,2,3,4,5]\n",
    "name = ['ram','shyam','Hari','Suresh','Global']\n",
    "salary = [50000,10000,15000,30000,500000]\n",
    "address = ['Kathmandu','Lalitpur','Bharatpur','Pokhara','palpa']"
   ]
  },
  {
   "cell_type": "code",
   "execution_count": 4,
   "id": "d18adb9d",
   "metadata": {},
   "outputs": [
    {
     "data": {
      "text/plain": [
       "{'id': [1, 2, 3, 4, 5],\n",
       " 'name': ['ram', 'shyam', 'Hari', 'Suresh', 'Global'],\n",
       " 'salary': [50000, 10000, 15000, 30000, 500000],\n",
       " 'address': ['Kathmandu', 'Lalitpur', 'Bharatpur', 'Pokhara', 'palpa']}"
      ]
     },
     "execution_count": 4,
     "metadata": {},
     "output_type": "execute_result"
    }
   ],
   "source": [
    "dicts = {\n",
    "    'id' :id_, 'name': name , 'salary': salary, 'address':address\n",
    "}\n",
    "dicts"
   ]
  },
  {
   "cell_type": "markdown",
   "id": "fd6e4645",
   "metadata": {},
   "source": [
    "### creating a Dataframe"
   ]
  },
  {
   "cell_type": "code",
   "execution_count": 5,
   "id": "a26ab4fa",
   "metadata": {},
   "outputs": [],
   "source": [
    "df = pd.DataFrame(dicts)"
   ]
  },
  {
   "cell_type": "code",
   "execution_count": 6,
   "id": "337a3908",
   "metadata": {},
   "outputs": [
    {
     "data": {
      "text/html": [
       "<div>\n",
       "<style scoped>\n",
       "    .dataframe tbody tr th:only-of-type {\n",
       "        vertical-align: middle;\n",
       "    }\n",
       "\n",
       "    .dataframe tbody tr th {\n",
       "        vertical-align: top;\n",
       "    }\n",
       "\n",
       "    .dataframe thead th {\n",
       "        text-align: right;\n",
       "    }\n",
       "</style>\n",
       "<table border=\"1\" class=\"dataframe\">\n",
       "  <thead>\n",
       "    <tr style=\"text-align: right;\">\n",
       "      <th></th>\n",
       "      <th>id</th>\n",
       "      <th>name</th>\n",
       "      <th>salary</th>\n",
       "      <th>address</th>\n",
       "    </tr>\n",
       "  </thead>\n",
       "  <tbody>\n",
       "    <tr>\n",
       "      <th>0</th>\n",
       "      <td>1</td>\n",
       "      <td>ram</td>\n",
       "      <td>50000</td>\n",
       "      <td>Kathmandu</td>\n",
       "    </tr>\n",
       "    <tr>\n",
       "      <th>1</th>\n",
       "      <td>2</td>\n",
       "      <td>shyam</td>\n",
       "      <td>10000</td>\n",
       "      <td>Lalitpur</td>\n",
       "    </tr>\n",
       "    <tr>\n",
       "      <th>2</th>\n",
       "      <td>3</td>\n",
       "      <td>Hari</td>\n",
       "      <td>15000</td>\n",
       "      <td>Bharatpur</td>\n",
       "    </tr>\n",
       "    <tr>\n",
       "      <th>3</th>\n",
       "      <td>4</td>\n",
       "      <td>Suresh</td>\n",
       "      <td>30000</td>\n",
       "      <td>Pokhara</td>\n",
       "    </tr>\n",
       "    <tr>\n",
       "      <th>4</th>\n",
       "      <td>5</td>\n",
       "      <td>Global</td>\n",
       "      <td>500000</td>\n",
       "      <td>palpa</td>\n",
       "    </tr>\n",
       "  </tbody>\n",
       "</table>\n",
       "</div>"
      ],
      "text/plain": [
       "   id    name  salary    address\n",
       "0   1     ram   50000  Kathmandu\n",
       "1   2   shyam   10000   Lalitpur\n",
       "2   3    Hari   15000  Bharatpur\n",
       "3   4  Suresh   30000    Pokhara\n",
       "4   5  Global  500000      palpa"
      ]
     },
     "execution_count": 6,
     "metadata": {},
     "output_type": "execute_result"
    }
   ],
   "source": [
    "df"
   ]
  },
  {
   "cell_type": "code",
   "execution_count": 7,
   "id": "a92944e4",
   "metadata": {},
   "outputs": [
    {
     "data": {
      "text/plain": [
       "pandas.core.frame.DataFrame"
      ]
     },
     "execution_count": 7,
     "metadata": {},
     "output_type": "execute_result"
    }
   ],
   "source": [
    "type(df)"
   ]
  },
  {
   "cell_type": "markdown",
   "id": "0606e5dc",
   "metadata": {},
   "source": [
    "### Save a df to csv file"
   ]
  },
  {
   "cell_type": "code",
   "execution_count": 8,
   "id": "a7c32123",
   "metadata": {},
   "outputs": [],
   "source": [
    "df.to_csv(r'C:\\Users\\97798\\Desktop\\Files\\aboved.csv')"
   ]
  },
  {
   "cell_type": "markdown",
   "id": "7d658547",
   "metadata": {},
   "source": [
    "### By default above data will come with index so to remove it it do as follows:"
   ]
  },
  {
   "cell_type": "code",
   "execution_count": 9,
   "id": "65938c9c",
   "metadata": {},
   "outputs": [],
   "source": [
    "df.to_csv(r'C:\\Users\\97798\\Desktop\\Files\\aboved.csv',index= False)"
   ]
  },
  {
   "cell_type": "markdown",
   "id": "7715a17e",
   "metadata": {},
   "source": [
    "### Reading the CSV files:"
   ]
  },
  {
   "cell_type": "code",
   "execution_count": 10,
   "id": "312ed34f",
   "metadata": {},
   "outputs": [],
   "source": [
    "df1 = pd.read_csv(r'C:\\Users\\97798\\Desktop\\Files\\aboved.csv')"
   ]
  },
  {
   "cell_type": "code",
   "execution_count": 11,
   "id": "758ed46a",
   "metadata": {},
   "outputs": [
    {
     "data": {
      "text/html": [
       "<div>\n",
       "<style scoped>\n",
       "    .dataframe tbody tr th:only-of-type {\n",
       "        vertical-align: middle;\n",
       "    }\n",
       "\n",
       "    .dataframe tbody tr th {\n",
       "        vertical-align: top;\n",
       "    }\n",
       "\n",
       "    .dataframe thead th {\n",
       "        text-align: right;\n",
       "    }\n",
       "</style>\n",
       "<table border=\"1\" class=\"dataframe\">\n",
       "  <thead>\n",
       "    <tr style=\"text-align: right;\">\n",
       "      <th></th>\n",
       "      <th>id</th>\n",
       "      <th>name</th>\n",
       "      <th>salary</th>\n",
       "      <th>address</th>\n",
       "    </tr>\n",
       "  </thead>\n",
       "  <tbody>\n",
       "    <tr>\n",
       "      <th>0</th>\n",
       "      <td>1</td>\n",
       "      <td>ram</td>\n",
       "      <td>50000</td>\n",
       "      <td>Kathmandu</td>\n",
       "    </tr>\n",
       "    <tr>\n",
       "      <th>1</th>\n",
       "      <td>2</td>\n",
       "      <td>shyam</td>\n",
       "      <td>10000</td>\n",
       "      <td>Lalitpur</td>\n",
       "    </tr>\n",
       "    <tr>\n",
       "      <th>2</th>\n",
       "      <td>3</td>\n",
       "      <td>Hari</td>\n",
       "      <td>15000</td>\n",
       "      <td>Bharatpur</td>\n",
       "    </tr>\n",
       "    <tr>\n",
       "      <th>3</th>\n",
       "      <td>4</td>\n",
       "      <td>Suresh</td>\n",
       "      <td>30000</td>\n",
       "      <td>Pokhara</td>\n",
       "    </tr>\n",
       "    <tr>\n",
       "      <th>4</th>\n",
       "      <td>5</td>\n",
       "      <td>Global</td>\n",
       "      <td>500000</td>\n",
       "      <td>palpa</td>\n",
       "    </tr>\n",
       "  </tbody>\n",
       "</table>\n",
       "</div>"
      ],
      "text/plain": [
       "   id    name  salary    address\n",
       "0   1     ram   50000  Kathmandu\n",
       "1   2   shyam   10000   Lalitpur\n",
       "2   3    Hari   15000  Bharatpur\n",
       "3   4  Suresh   30000    Pokhara\n",
       "4   5  Global  500000      palpa"
      ]
     },
     "execution_count": 11,
     "metadata": {},
     "output_type": "execute_result"
    }
   ],
   "source": [
    "df1"
   ]
  },
  {
   "cell_type": "markdown",
   "id": "01393346",
   "metadata": {},
   "source": [
    "### Reading data from movie Datasets"
   ]
  },
  {
   "cell_type": "code",
   "execution_count": 14,
   "id": "92f251f4",
   "metadata": {},
   "outputs": [],
   "source": [
    "df = pd.read_csv(r'C:\\Users\\97798\\Documents\\ds_files\\movies.csv')"
   ]
  },
  {
   "cell_type": "code",
   "execution_count": 15,
   "id": "05af578d",
   "metadata": {},
   "outputs": [
    {
     "data": {
      "text/html": [
       "<div>\n",
       "<style scoped>\n",
       "    .dataframe tbody tr th:only-of-type {\n",
       "        vertical-align: middle;\n",
       "    }\n",
       "\n",
       "    .dataframe tbody tr th {\n",
       "        vertical-align: top;\n",
       "    }\n",
       "\n",
       "    .dataframe thead th {\n",
       "        text-align: right;\n",
       "    }\n",
       "</style>\n",
       "<table border=\"1\" class=\"dataframe\">\n",
       "  <thead>\n",
       "    <tr style=\"text-align: right;\">\n",
       "      <th></th>\n",
       "      <th>Series_Title</th>\n",
       "      <th>Released_Year</th>\n",
       "      <th>Runtime</th>\n",
       "      <th>Genre</th>\n",
       "      <th>IMDB_Rating</th>\n",
       "      <th>Director</th>\n",
       "      <th>Star1</th>\n",
       "      <th>No_of_Votes</th>\n",
       "      <th>Gross</th>\n",
       "      <th>Metascore</th>\n",
       "    </tr>\n",
       "  </thead>\n",
       "  <tbody>\n",
       "    <tr>\n",
       "      <th>0</th>\n",
       "      <td>Chinatown</td>\n",
       "      <td>1974</td>\n",
       "      <td>130</td>\n",
       "      <td>Drama</td>\n",
       "      <td>8.1</td>\n",
       "      <td>Roman Polanski</td>\n",
       "      <td>Jack Nicholson</td>\n",
       "      <td>294230</td>\n",
       "      <td>29000000.0</td>\n",
       "      <td>92.0</td>\n",
       "    </tr>\n",
       "    <tr>\n",
       "      <th>1</th>\n",
       "      <td>The Girl with the Dragon Tattoo</td>\n",
       "      <td>2011</td>\n",
       "      <td>158</td>\n",
       "      <td>Crime</td>\n",
       "      <td>7.8</td>\n",
       "      <td>David Fincher</td>\n",
       "      <td>Daniel Craig</td>\n",
       "      <td>423010</td>\n",
       "      <td>102515793.0</td>\n",
       "      <td>71.0</td>\n",
       "    </tr>\n",
       "    <tr>\n",
       "      <th>2</th>\n",
       "      <td>Nueve reinas</td>\n",
       "      <td>2000</td>\n",
       "      <td>114</td>\n",
       "      <td>Crime</td>\n",
       "      <td>7.9</td>\n",
       "      <td>Fabián Bielinsky</td>\n",
       "      <td>Ricardo Darín</td>\n",
       "      <td>49721</td>\n",
       "      <td>1221261.0</td>\n",
       "      <td>80.0</td>\n",
       "    </tr>\n",
       "    <tr>\n",
       "      <th>3</th>\n",
       "      <td>Close Encounters of the Third Kind</td>\n",
       "      <td>1977</td>\n",
       "      <td>138</td>\n",
       "      <td>Drama</td>\n",
       "      <td>7.6</td>\n",
       "      <td>Steven Spielberg</td>\n",
       "      <td>Richard Dreyfuss</td>\n",
       "      <td>184966</td>\n",
       "      <td>132088635.0</td>\n",
       "      <td>90.0</td>\n",
       "    </tr>\n",
       "    <tr>\n",
       "      <th>4</th>\n",
       "      <td>Joker</td>\n",
       "      <td>2019</td>\n",
       "      <td>122</td>\n",
       "      <td>Crime</td>\n",
       "      <td>8.5</td>\n",
       "      <td>Todd Phillips</td>\n",
       "      <td>Joaquin Phoenix</td>\n",
       "      <td>939252</td>\n",
       "      <td>335451311.0</td>\n",
       "      <td>59.0</td>\n",
       "    </tr>\n",
       "    <tr>\n",
       "      <th>...</th>\n",
       "      <td>...</td>\n",
       "      <td>...</td>\n",
       "      <td>...</td>\n",
       "      <td>...</td>\n",
       "      <td>...</td>\n",
       "      <td>...</td>\n",
       "      <td>...</td>\n",
       "      <td>...</td>\n",
       "      <td>...</td>\n",
       "      <td>...</td>\n",
       "    </tr>\n",
       "    <tr>\n",
       "      <th>295</th>\n",
       "      <td>Kumonosu-jô</td>\n",
       "      <td>1957</td>\n",
       "      <td>110</td>\n",
       "      <td>Drama</td>\n",
       "      <td>8.1</td>\n",
       "      <td>Akira Kurosawa</td>\n",
       "      <td>Toshirô Mifune</td>\n",
       "      <td>46678</td>\n",
       "      <td>612604239.0</td>\n",
       "      <td>NaN</td>\n",
       "    </tr>\n",
       "    <tr>\n",
       "      <th>296</th>\n",
       "      <td>Falling Down</td>\n",
       "      <td>1993</td>\n",
       "      <td>113</td>\n",
       "      <td>Action</td>\n",
       "      <td>7.6</td>\n",
       "      <td>Joel Schumacher</td>\n",
       "      <td>Michael Douglas</td>\n",
       "      <td>171640</td>\n",
       "      <td>40903593.0</td>\n",
       "      <td>56.0</td>\n",
       "    </tr>\n",
       "    <tr>\n",
       "      <th>297</th>\n",
       "      <td>The Royal Tenenbaums</td>\n",
       "      <td>2001</td>\n",
       "      <td>110</td>\n",
       "      <td>Comedy</td>\n",
       "      <td>7.6</td>\n",
       "      <td>Wes Anderson</td>\n",
       "      <td>Gene Hackman</td>\n",
       "      <td>266842</td>\n",
       "      <td>52364010.0</td>\n",
       "      <td>76.0</td>\n",
       "    </tr>\n",
       "    <tr>\n",
       "      <th>298</th>\n",
       "      <td>Midnight Cowboy</td>\n",
       "      <td>1969</td>\n",
       "      <td>113</td>\n",
       "      <td>Drama</td>\n",
       "      <td>7.8</td>\n",
       "      <td>John Schlesinger</td>\n",
       "      <td>Dustin Hoffman</td>\n",
       "      <td>101124</td>\n",
       "      <td>44785053.0</td>\n",
       "      <td>79.0</td>\n",
       "    </tr>\n",
       "    <tr>\n",
       "      <th>299</th>\n",
       "      <td>Kai po che!</td>\n",
       "      <td>2013</td>\n",
       "      <td>130</td>\n",
       "      <td>Drama</td>\n",
       "      <td>7.7</td>\n",
       "      <td>Abhishek Kapoor</td>\n",
       "      <td>Amit Sadh</td>\n",
       "      <td>32628</td>\n",
       "      <td>1122527.0</td>\n",
       "      <td>40.0</td>\n",
       "    </tr>\n",
       "  </tbody>\n",
       "</table>\n",
       "<p>300 rows × 10 columns</p>\n",
       "</div>"
      ],
      "text/plain": [
       "                           Series_Title  Released_Year  Runtime   Genre  \\\n",
       "0                             Chinatown           1974      130   Drama   \n",
       "1       The Girl with the Dragon Tattoo           2011      158   Crime   \n",
       "2                          Nueve reinas           2000      114   Crime   \n",
       "3    Close Encounters of the Third Kind           1977      138   Drama   \n",
       "4                                 Joker           2019      122   Crime   \n",
       "..                                  ...            ...      ...     ...   \n",
       "295                         Kumonosu-jô           1957      110   Drama   \n",
       "296                        Falling Down           1993      113  Action   \n",
       "297                The Royal Tenenbaums           2001      110  Comedy   \n",
       "298                     Midnight Cowboy           1969      113   Drama   \n",
       "299                         Kai po che!           2013      130   Drama   \n",
       "\n",
       "     IMDB_Rating          Director             Star1  No_of_Votes  \\\n",
       "0            8.1    Roman Polanski    Jack Nicholson       294230   \n",
       "1            7.8     David Fincher      Daniel Craig       423010   \n",
       "2            7.9  Fabián Bielinsky     Ricardo Darín        49721   \n",
       "3            7.6  Steven Spielberg  Richard Dreyfuss       184966   \n",
       "4            8.5     Todd Phillips   Joaquin Phoenix       939252   \n",
       "..           ...               ...               ...          ...   \n",
       "295          8.1    Akira Kurosawa    Toshirô Mifune        46678   \n",
       "296          7.6   Joel Schumacher   Michael Douglas       171640   \n",
       "297          7.6      Wes Anderson      Gene Hackman       266842   \n",
       "298          7.8  John Schlesinger    Dustin Hoffman       101124   \n",
       "299          7.7   Abhishek Kapoor         Amit Sadh        32628   \n",
       "\n",
       "           Gross  Metascore  \n",
       "0     29000000.0       92.0  \n",
       "1    102515793.0       71.0  \n",
       "2      1221261.0       80.0  \n",
       "3    132088635.0       90.0  \n",
       "4    335451311.0       59.0  \n",
       "..           ...        ...  \n",
       "295  612604239.0        NaN  \n",
       "296   40903593.0       56.0  \n",
       "297   52364010.0       76.0  \n",
       "298   44785053.0       79.0  \n",
       "299    1122527.0       40.0  \n",
       "\n",
       "[300 rows x 10 columns]"
      ]
     },
     "execution_count": 15,
     "metadata": {},
     "output_type": "execute_result"
    }
   ],
   "source": [
    "df"
   ]
  }
 ],
 "metadata": {
  "kernelspec": {
   "display_name": "Python 3",
   "language": "python",
   "name": "python3"
  },
  "language_info": {
   "codemirror_mode": {
    "name": "ipython",
    "version": 3
   },
   "file_extension": ".py",
   "mimetype": "text/x-python",
   "name": "python",
   "nbconvert_exporter": "python",
   "pygments_lexer": "ipython3",
   "version": "3.13.2"
  }
 },
 "nbformat": 4,
 "nbformat_minor": 5
}
