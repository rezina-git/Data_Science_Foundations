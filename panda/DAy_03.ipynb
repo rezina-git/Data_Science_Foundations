{
 "cells": [
  {
   "cell_type": "markdown",
   "id": "2fcc37b7",
   "metadata": {},
   "source": [
    "## Join and Concatenate"
   ]
  },
  {
   "cell_type": "markdown",
   "id": "03c28703",
   "metadata": {},
   "source": [
    "##### In Pandas, join and concatenate are two important operations used to combine multiple DataFrames into one.\n",
    "##### commonly used in data preprocessing and data analysis, especially when working with data from different sources."
   ]
  },
  {
   "cell_type": "code",
   "execution_count": 1,
   "id": "2e8ae22f",
   "metadata": {},
   "outputs": [],
   "source": [
    "# join() is used to combine two DataFrames based on the index or a key column (like SQL joins).\n",
    "\n",
    "# You can perform:\n",
    "\n",
    "# inner join → keeps only matching rows.(Intersection)\n",
    "\n",
    "# outer join → keeps all rows, fills missing with NaN.(All from left)\n",
    "\n",
    "# left join → keeps all rows from the left DataFrame.(All from Right)\n",
    "\n",
    "# right join → keeps all rows from the right DataFrame.(Union)\n",
    "#  Why use join()?\n",
    "# To combine two datasets that share a common key (like \"user_id\", \"student_id\", etc.)\n",
    "# 2. concat() (concatenate) in Pandas\n",
    "# concat() is used to combine DataFrames vertically (stack rows) or horizontally (stack columns).\n",
    "\n",
    "# Syntax: pd.concat([df1, df2], axis=0) for rows, axis=1 for columns.\n",
    "\n",
    "# Why use concat()?\n",
    "# To append data (like daily logs or monthly sales) or merge columns with the same or related index."
   ]
  },
  {
   "cell_type": "code",
   "execution_count": 2,
   "id": "baf38cc1",
   "metadata": {},
   "outputs": [],
   "source": [
    "import pandas as pd"
   ]
  },
  {
   "cell_type": "code",
   "execution_count": 3,
   "id": "beb0d114",
   "metadata": {},
   "outputs": [],
   "source": [
    "df_employees = pd.DataFrame({\n",
    "  'emp-id' : [1,2,3,4],\n",
    "  'name': ['Alice','Bob','Charlie','David'],\n",
    "  'dept_id':['101','102','103','104']  \n",
    "})"
   ]
  },
  {
   "cell_type": "code",
   "execution_count": 4,
   "id": "a2da4a7c",
   "metadata": {},
   "outputs": [
    {
     "data": {
      "text/html": [
       "<div>\n",
       "<style scoped>\n",
       "    .dataframe tbody tr th:only-of-type {\n",
       "        vertical-align: middle;\n",
       "    }\n",
       "\n",
       "    .dataframe tbody tr th {\n",
       "        vertical-align: top;\n",
       "    }\n",
       "\n",
       "    .dataframe thead th {\n",
       "        text-align: right;\n",
       "    }\n",
       "</style>\n",
       "<table border=\"1\" class=\"dataframe\">\n",
       "  <thead>\n",
       "    <tr style=\"text-align: right;\">\n",
       "      <th></th>\n",
       "      <th>emp-id</th>\n",
       "      <th>name</th>\n",
       "      <th>dept_id</th>\n",
       "    </tr>\n",
       "  </thead>\n",
       "  <tbody>\n",
       "    <tr>\n",
       "      <th>0</th>\n",
       "      <td>1</td>\n",
       "      <td>Alice</td>\n",
       "      <td>101</td>\n",
       "    </tr>\n",
       "    <tr>\n",
       "      <th>1</th>\n",
       "      <td>2</td>\n",
       "      <td>Bob</td>\n",
       "      <td>102</td>\n",
       "    </tr>\n",
       "    <tr>\n",
       "      <th>2</th>\n",
       "      <td>3</td>\n",
       "      <td>Charlie</td>\n",
       "      <td>103</td>\n",
       "    </tr>\n",
       "    <tr>\n",
       "      <th>3</th>\n",
       "      <td>4</td>\n",
       "      <td>David</td>\n",
       "      <td>104</td>\n",
       "    </tr>\n",
       "  </tbody>\n",
       "</table>\n",
       "</div>"
      ],
      "text/plain": [
       "   emp-id     name dept_id\n",
       "0       1    Alice     101\n",
       "1       2      Bob     102\n",
       "2       3  Charlie     103\n",
       "3       4    David     104"
      ]
     },
     "execution_count": 4,
     "metadata": {},
     "output_type": "execute_result"
    }
   ],
   "source": [
    "df_employees"
   ]
  },
  {
   "cell_type": "code",
   "execution_count": 5,
   "id": "e118fc5c",
   "metadata": {},
   "outputs": [],
   "source": [
    "##Create Department Dataframe "
   ]
  },
  {
   "cell_type": "code",
   "execution_count": 6,
   "id": "4178918f",
   "metadata": {},
   "outputs": [],
   "source": [
    "df_departments = pd.DataFrame({\n",
    "    'dept_id' : [101,102,105],\n",
    "    'dept_name' : ['HR','Finance','IT']\n",
    "})"
   ]
  },
  {
   "cell_type": "code",
   "execution_count": 7,
   "id": "a135bfe9",
   "metadata": {},
   "outputs": [
    {
     "data": {
      "text/html": [
       "<div>\n",
       "<style scoped>\n",
       "    .dataframe tbody tr th:only-of-type {\n",
       "        vertical-align: middle;\n",
       "    }\n",
       "\n",
       "    .dataframe tbody tr th {\n",
       "        vertical-align: top;\n",
       "    }\n",
       "\n",
       "    .dataframe thead th {\n",
       "        text-align: right;\n",
       "    }\n",
       "</style>\n",
       "<table border=\"1\" class=\"dataframe\">\n",
       "  <thead>\n",
       "    <tr style=\"text-align: right;\">\n",
       "      <th></th>\n",
       "      <th>dept_id</th>\n",
       "      <th>dept_name</th>\n",
       "    </tr>\n",
       "  </thead>\n",
       "  <tbody>\n",
       "    <tr>\n",
       "      <th>0</th>\n",
       "      <td>101</td>\n",
       "      <td>HR</td>\n",
       "    </tr>\n",
       "    <tr>\n",
       "      <th>1</th>\n",
       "      <td>102</td>\n",
       "      <td>Finance</td>\n",
       "    </tr>\n",
       "    <tr>\n",
       "      <th>2</th>\n",
       "      <td>105</td>\n",
       "      <td>IT</td>\n",
       "    </tr>\n",
       "  </tbody>\n",
       "</table>\n",
       "</div>"
      ],
      "text/plain": [
       "   dept_id dept_name\n",
       "0      101        HR\n",
       "1      102   Finance\n",
       "2      105        IT"
      ]
     },
     "execution_count": 7,
     "metadata": {},
     "output_type": "execute_result"
    }
   ],
   "source": [
    "df_departments"
   ]
  },
  {
   "cell_type": "code",
   "execution_count": 8,
   "id": "634a8fb3",
   "metadata": {},
   "outputs": [
    {
     "ename": "ValueError",
     "evalue": "You are trying to merge on object and int64 columns for key 'dept_id'. If you wish to proceed you should use pd.concat",
     "output_type": "error",
     "traceback": [
      "\u001b[31m---------------------------------------------------------------------------\u001b[39m",
      "\u001b[31mValueError\u001b[39m                                Traceback (most recent call last)",
      "\u001b[36mCell\u001b[39m\u001b[36m \u001b[39m\u001b[32mIn[8]\u001b[39m\u001b[32m, line 2\u001b[39m\n\u001b[32m      1\u001b[39m \u001b[38;5;66;03m## Inner Join\u001b[39;00m\n\u001b[32m----> \u001b[39m\u001b[32m2\u001b[39m \u001b[43mpd\u001b[49m\u001b[43m.\u001b[49m\u001b[43mmerge\u001b[49m\u001b[43m(\u001b[49m\u001b[43mdf_employees\u001b[49m\u001b[43m,\u001b[49m\u001b[43m \u001b[49m\u001b[43mdf_departments\u001b[49m\u001b[43m,\u001b[49m\u001b[43m \u001b[49m\u001b[43mon\u001b[49m\u001b[43m=\u001b[49m\u001b[33;43m'\u001b[39;49m\u001b[33;43mdept_id\u001b[39;49m\u001b[33;43m'\u001b[39;49m\u001b[43m,\u001b[49m\u001b[43m \u001b[49m\u001b[43mhow\u001b[49m\u001b[43m=\u001b[49m\u001b[33;43m'\u001b[39;49m\u001b[33;43minner\u001b[39;49m\u001b[33;43m'\u001b[39;49m\u001b[43m)\u001b[49m\n",
      "\u001b[36mFile \u001b[39m\u001b[32m~\\AppData\\Roaming\\Python\\Python313\\site-packages\\pandas\\core\\reshape\\merge.py:170\u001b[39m, in \u001b[36mmerge\u001b[39m\u001b[34m(left, right, how, on, left_on, right_on, left_index, right_index, sort, suffixes, copy, indicator, validate)\u001b[39m\n\u001b[32m    155\u001b[39m     \u001b[38;5;28;01mreturn\u001b[39;00m _cross_merge(\n\u001b[32m    156\u001b[39m         left_df,\n\u001b[32m    157\u001b[39m         right_df,\n\u001b[32m   (...)\u001b[39m\u001b[32m    167\u001b[39m         copy=copy,\n\u001b[32m    168\u001b[39m     )\n\u001b[32m    169\u001b[39m \u001b[38;5;28;01melse\u001b[39;00m:\n\u001b[32m--> \u001b[39m\u001b[32m170\u001b[39m     op = \u001b[43m_MergeOperation\u001b[49m\u001b[43m(\u001b[49m\n\u001b[32m    171\u001b[39m \u001b[43m        \u001b[49m\u001b[43mleft_df\u001b[49m\u001b[43m,\u001b[49m\n\u001b[32m    172\u001b[39m \u001b[43m        \u001b[49m\u001b[43mright_df\u001b[49m\u001b[43m,\u001b[49m\n\u001b[32m    173\u001b[39m \u001b[43m        \u001b[49m\u001b[43mhow\u001b[49m\u001b[43m=\u001b[49m\u001b[43mhow\u001b[49m\u001b[43m,\u001b[49m\n\u001b[32m    174\u001b[39m \u001b[43m        \u001b[49m\u001b[43mon\u001b[49m\u001b[43m=\u001b[49m\u001b[43mon\u001b[49m\u001b[43m,\u001b[49m\n\u001b[32m    175\u001b[39m \u001b[43m        \u001b[49m\u001b[43mleft_on\u001b[49m\u001b[43m=\u001b[49m\u001b[43mleft_on\u001b[49m\u001b[43m,\u001b[49m\n\u001b[32m    176\u001b[39m \u001b[43m        \u001b[49m\u001b[43mright_on\u001b[49m\u001b[43m=\u001b[49m\u001b[43mright_on\u001b[49m\u001b[43m,\u001b[49m\n\u001b[32m    177\u001b[39m \u001b[43m        \u001b[49m\u001b[43mleft_index\u001b[49m\u001b[43m=\u001b[49m\u001b[43mleft_index\u001b[49m\u001b[43m,\u001b[49m\n\u001b[32m    178\u001b[39m \u001b[43m        \u001b[49m\u001b[43mright_index\u001b[49m\u001b[43m=\u001b[49m\u001b[43mright_index\u001b[49m\u001b[43m,\u001b[49m\n\u001b[32m    179\u001b[39m \u001b[43m        \u001b[49m\u001b[43msort\u001b[49m\u001b[43m=\u001b[49m\u001b[43msort\u001b[49m\u001b[43m,\u001b[49m\n\u001b[32m    180\u001b[39m \u001b[43m        \u001b[49m\u001b[43msuffixes\u001b[49m\u001b[43m=\u001b[49m\u001b[43msuffixes\u001b[49m\u001b[43m,\u001b[49m\n\u001b[32m    181\u001b[39m \u001b[43m        \u001b[49m\u001b[43mindicator\u001b[49m\u001b[43m=\u001b[49m\u001b[43mindicator\u001b[49m\u001b[43m,\u001b[49m\n\u001b[32m    182\u001b[39m \u001b[43m        \u001b[49m\u001b[43mvalidate\u001b[49m\u001b[43m=\u001b[49m\u001b[43mvalidate\u001b[49m\u001b[43m,\u001b[49m\n\u001b[32m    183\u001b[39m \u001b[43m    \u001b[49m\u001b[43m)\u001b[49m\n\u001b[32m    184\u001b[39m     \u001b[38;5;28;01mreturn\u001b[39;00m op.get_result(copy=copy)\n",
      "\u001b[36mFile \u001b[39m\u001b[32m~\\AppData\\Roaming\\Python\\Python313\\site-packages\\pandas\\core\\reshape\\merge.py:807\u001b[39m, in \u001b[36m_MergeOperation.__init__\u001b[39m\u001b[34m(self, left, right, how, on, left_on, right_on, left_index, right_index, sort, suffixes, indicator, validate)\u001b[39m\n\u001b[32m    803\u001b[39m \u001b[38;5;28mself\u001b[39m._validate_tolerance(\u001b[38;5;28mself\u001b[39m.left_join_keys)\n\u001b[32m    805\u001b[39m \u001b[38;5;66;03m# validate the merge keys dtypes. We may need to coerce\u001b[39;00m\n\u001b[32m    806\u001b[39m \u001b[38;5;66;03m# to avoid incompatible dtypes\u001b[39;00m\n\u001b[32m--> \u001b[39m\u001b[32m807\u001b[39m \u001b[38;5;28;43mself\u001b[39;49m\u001b[43m.\u001b[49m\u001b[43m_maybe_coerce_merge_keys\u001b[49m\u001b[43m(\u001b[49m\u001b[43m)\u001b[49m\n\u001b[32m    809\u001b[39m \u001b[38;5;66;03m# If argument passed to validate,\u001b[39;00m\n\u001b[32m    810\u001b[39m \u001b[38;5;66;03m# check if columns specified as unique\u001b[39;00m\n\u001b[32m    811\u001b[39m \u001b[38;5;66;03m# are in fact unique.\u001b[39;00m\n\u001b[32m    812\u001b[39m \u001b[38;5;28;01mif\u001b[39;00m validate \u001b[38;5;129;01mis\u001b[39;00m \u001b[38;5;129;01mnot\u001b[39;00m \u001b[38;5;28;01mNone\u001b[39;00m:\n",
      "\u001b[36mFile \u001b[39m\u001b[32m~\\AppData\\Roaming\\Python\\Python313\\site-packages\\pandas\\core\\reshape\\merge.py:1508\u001b[39m, in \u001b[36m_MergeOperation._maybe_coerce_merge_keys\u001b[39m\u001b[34m(self)\u001b[39m\n\u001b[32m   1502\u001b[39m     \u001b[38;5;66;03m# unless we are merging non-string-like with string-like\u001b[39;00m\n\u001b[32m   1503\u001b[39m     \u001b[38;5;28;01melif\u001b[39;00m (\n\u001b[32m   1504\u001b[39m         inferred_left \u001b[38;5;129;01min\u001b[39;00m string_types \u001b[38;5;129;01mand\u001b[39;00m inferred_right \u001b[38;5;129;01mnot\u001b[39;00m \u001b[38;5;129;01min\u001b[39;00m string_types\n\u001b[32m   1505\u001b[39m     ) \u001b[38;5;129;01mor\u001b[39;00m (\n\u001b[32m   1506\u001b[39m         inferred_right \u001b[38;5;129;01min\u001b[39;00m string_types \u001b[38;5;129;01mand\u001b[39;00m inferred_left \u001b[38;5;129;01mnot\u001b[39;00m \u001b[38;5;129;01min\u001b[39;00m string_types\n\u001b[32m   1507\u001b[39m     ):\n\u001b[32m-> \u001b[39m\u001b[32m1508\u001b[39m         \u001b[38;5;28;01mraise\u001b[39;00m \u001b[38;5;167;01mValueError\u001b[39;00m(msg)\n\u001b[32m   1510\u001b[39m \u001b[38;5;66;03m# datetimelikes must match exactly\u001b[39;00m\n\u001b[32m   1511\u001b[39m \u001b[38;5;28;01melif\u001b[39;00m needs_i8_conversion(lk.dtype) \u001b[38;5;129;01mand\u001b[39;00m \u001b[38;5;129;01mnot\u001b[39;00m needs_i8_conversion(rk.dtype):\n",
      "\u001b[31mValueError\u001b[39m: You are trying to merge on object and int64 columns for key 'dept_id'. If you wish to proceed you should use pd.concat"
     ]
    }
   ],
   "source": [
    "## Inner Join\n",
    "pd.merge(df_employees, df_departments, on='dept_id', how='inner')"
   ]
  },
  {
   "cell_type": "code",
   "execution_count": null,
   "id": "16dc8dae",
   "metadata": {},
   "outputs": [],
   "source": [
    "## Right Join"
   ]
  },
  {
   "cell_type": "code",
   "execution_count": null,
   "id": "aa048951",
   "metadata": {},
   "outputs": [],
   "source": [
    "pd.merge(df_employees, df_departments, on='dept_id', how='right') #Right ko table laii prirority diyera rakhxa data ie. dept_name and dept_Id here"
   ]
  },
  {
   "cell_type": "code",
   "execution_count": null,
   "id": "5b24a305",
   "metadata": {},
   "outputs": [],
   "source": [
    "pd.merge(df_employees, df_departments, on='dept_id', how='left') # Gives priority to left table ie. emp_id and name"
   ]
  },
  {
   "cell_type": "code",
   "execution_count": null,
   "id": "2215abef",
   "metadata": {},
   "outputs": [],
   "source": [
    "## Full outer Join\n",
    "    #Union of both tables \n",
    "pd.merge(df_employees,df_departments, on = 'dept_id', how ='outer' )"
   ]
  },
  {
   "cell_type": "code",
   "execution_count": null,
   "id": "3e8b9add",
   "metadata": {},
   "outputs": [],
   "source": [
    "## Different columns names:\n",
    "df_departments.rename(columns = {'dept_id':'id'},inplace = True)"
   ]
  },
  {
   "cell_type": "code",
   "execution_count": null,
   "id": "7bc4b8fa",
   "metadata": {},
   "outputs": [],
   "source": [
    "df_departments"
   ]
  },
  {
   "cell_type": "code",
   "execution_count": null,
   "id": "34628e0e",
   "metadata": {},
   "outputs": [],
   "source": [
    "## If there is no any common column in tables we use left on and right on to join the table\n",
    "pd.merge(df_employees,df_departments, how = 'inner', left_on='dept_id',right_on= 'id')"
   ]
  },
  {
   "cell_type": "code",
   "execution_count": null,
   "id": "ebef3dd4",
   "metadata": {},
   "outputs": [],
   "source": [
    "pd.merge(df_employees,df_departments, how = 'inner', left_on='dept_id',right_on= 'id')"
   ]
  },
  {
   "cell_type": "markdown",
   "id": "c315168f",
   "metadata": {},
   "source": [
    "#### Loc and ILoc "
   ]
  },
  {
   "cell_type": "markdown",
   "id": "2c127ea7",
   "metadata": {},
   "source": [
    "Used for fetching data from index "
   ]
  },
  {
   "cell_type": "code",
   "execution_count": null,
   "id": "48c743b7",
   "metadata": {},
   "outputs": [],
   "source": [
    "#Sample DataFrame\n",
    "df = pd.DataFrame({\n",
    "    'Name' : ['Alice','Bob','Charlie'],\n",
    "    'Age':[25,30,35]\n",
    "}, index = ['a','b','c']) # Changes indexes from 0,1,2 -----> a,b,c"
   ]
  },
  {
   "cell_type": "code",
   "execution_count": null,
   "id": "7c456da3",
   "metadata": {},
   "outputs": [],
   "source": [
    "df"
   ]
  },
  {
   "cell_type": "markdown",
   "id": "81453ca2",
   "metadata": {},
   "source": [
    "loc: Label-based indexing\n",
    "Uses labels (names of rows or columns).\n",
    "-\"l\" for label.\n",
    "-Includes both row labels and column labels."
   ]
  },
  {
   "cell_type": "code",
   "execution_count": null,
   "id": "5a4931c3",
   "metadata": {},
   "outputs": [],
   "source": [
    "df.loc['a']"
   ]
  },
  {
   "cell_type": "code",
   "execution_count": null,
   "id": "4763800c",
   "metadata": {},
   "outputs": [],
   "source": [
    "df.loc['a','Age']"
   ]
  },
  {
   "cell_type": "code",
   "execution_count": null,
   "id": "346ea770",
   "metadata": {},
   "outputs": [],
   "source": [
    "df.loc['a','Name']"
   ]
  },
  {
   "cell_type": "markdown",
   "id": "1b1375d4",
   "metadata": {},
   "source": [
    "### iloc: Index Location (Integer-based indexing)\n",
    "Uses integer positions (like Python lists).\n",
    "-\"i\" for integer.\n",
    "-Zero-based indexing."
   ]
  },
  {
   "cell_type": "code",
   "execution_count": null,
   "id": "d6ea1f91",
   "metadata": {},
   "outputs": [],
   "source": [
    "df.iloc[0]     # First row\n",
    "df.iloc[2, 1]  # 3rd row, 2nd column (by position)"
   ]
  },
  {
   "cell_type": "code",
   "execution_count": null,
   "id": "ed495ece",
   "metadata": {},
   "outputs": [],
   "source": [
    "df.iloc[0]"
   ]
  },
  {
   "cell_type": "code",
   "execution_count": null,
   "id": "821dd427",
   "metadata": {},
   "outputs": [],
   "source": [
    "df.iloc[0,0]"
   ]
  },
  {
   "cell_type": "code",
   "execution_count": null,
   "id": "ef7fc274",
   "metadata": {},
   "outputs": [],
   "source": [
    "df.iloc[2,1]"
   ]
  },
  {
   "cell_type": "markdown",
   "id": "3b997f9a",
   "metadata": {},
   "source": [
    "### Concatenate"
   ]
  },
  {
   "cell_type": "code",
   "execution_count": null,
   "id": "b723aeb6",
   "metadata": {},
   "outputs": [],
   "source": [
    "import pandas as pd\n",
    "\n",
    "ids = [1, 2, 3, 4, 5]\n",
    "product = ['Headhone', 'Mobile', 'Laptop', 'ipad', 'Airpode']\n",
    "unit_price = [10000, 20000, 30000, 40000, 50000]\n",
    "quantity = [10, 12, 15, 4, 3]"
   ]
  },
  {
   "cell_type": "code",
   "execution_count": null,
   "id": "90488d3c",
   "metadata": {},
   "outputs": [],
   "source": [
    "dicts = {\n",
    "    'id': ids,\n",
    "    'product': product,\n",
    "    'unit_price': unit_price,\n",
    "    'quantity': quantity\n",
    "}"
   ]
  },
  {
   "cell_type": "code",
   "execution_count": 36,
   "id": "e9eb0e09",
   "metadata": {},
   "outputs": [],
   "source": [
    "jan = pd.DataFrame(dicts)\n"
   ]
  },
  {
   "cell_type": "code",
   "execution_count": 35,
   "id": "422be60e",
   "metadata": {},
   "outputs": [
    {
     "data": {
      "text/html": [
       "<div>\n",
       "<style scoped>\n",
       "    .dataframe tbody tr th:only-of-type {\n",
       "        vertical-align: middle;\n",
       "    }\n",
       "\n",
       "    .dataframe tbody tr th {\n",
       "        vertical-align: top;\n",
       "    }\n",
       "\n",
       "    .dataframe thead th {\n",
       "        text-align: right;\n",
       "    }\n",
       "</style>\n",
       "<table border=\"1\" class=\"dataframe\">\n",
       "  <thead>\n",
       "    <tr style=\"text-align: right;\">\n",
       "      <th></th>\n",
       "      <th>id</th>\n",
       "      <th>product</th>\n",
       "      <th>unit_price</th>\n",
       "      <th>quantity</th>\n",
       "      <th>month_name</th>\n",
       "    </tr>\n",
       "  </thead>\n",
       "  <tbody>\n",
       "    <tr>\n",
       "      <th>0</th>\n",
       "      <td>1</td>\n",
       "      <td>Headhone</td>\n",
       "      <td>10000</td>\n",
       "      <td>10</td>\n",
       "      <td>Jun</td>\n",
       "    </tr>\n",
       "    <tr>\n",
       "      <th>1</th>\n",
       "      <td>2</td>\n",
       "      <td>Mobile</td>\n",
       "      <td>20000</td>\n",
       "      <td>12</td>\n",
       "      <td>Jun</td>\n",
       "    </tr>\n",
       "    <tr>\n",
       "      <th>2</th>\n",
       "      <td>3</td>\n",
       "      <td>Laptop</td>\n",
       "      <td>30000</td>\n",
       "      <td>15</td>\n",
       "      <td>Jun</td>\n",
       "    </tr>\n",
       "    <tr>\n",
       "      <th>3</th>\n",
       "      <td>4</td>\n",
       "      <td>Watch</td>\n",
       "      <td>10000</td>\n",
       "      <td>4</td>\n",
       "      <td>Jun</td>\n",
       "    </tr>\n",
       "    <tr>\n",
       "      <th>4</th>\n",
       "      <td>5</td>\n",
       "      <td>Speaker</td>\n",
       "      <td>12000</td>\n",
       "      <td>3</td>\n",
       "      <td>Jun</td>\n",
       "    </tr>\n",
       "  </tbody>\n",
       "</table>\n",
       "</div>"
      ],
      "text/plain": [
       "   id   product  unit_price  quantity month_name\n",
       "0   1  Headhone       10000        10        Jun\n",
       "1   2    Mobile       20000        12        Jun\n",
       "2   3    Laptop       30000        15        Jun\n",
       "3   4     Watch       10000         4        Jun\n",
       "4   5   Speaker       12000         3        Jun"
      ]
     },
     "execution_count": 35,
     "metadata": {},
     "output_type": "execute_result"
    }
   ],
   "source": [
    "jan"
   ]
  },
  {
   "cell_type": "code",
   "execution_count": 30,
   "id": "ea287353",
   "metadata": {},
   "outputs": [],
   "source": [
    "jan['month_name'] = 'Jun'"
   ]
  },
  {
   "cell_type": "code",
   "execution_count": 31,
   "id": "ee7fbeb3",
   "metadata": {},
   "outputs": [],
   "source": [
    "ids = [1, 2, 3, 4, 5]\n",
    "product = ['Headhone', 'Mobile', 'Laptop', 'Watch', 'Speaker']\n",
    "unit_price = [10000, 20000, 30000, 10000, 12000]\n",
    "quantity = [10, 12, 15, 4, 3]"
   ]
  },
  {
   "cell_type": "code",
   "execution_count": 32,
   "id": "dee9f08d",
   "metadata": {},
   "outputs": [],
   "source": [
    "dicts = {\n",
    "    'id': ids,\n",
    "    'product': product,\n",
    "    'unit_price': unit_price,\n",
    "    'quantity': quantity\n",
    "}"
   ]
  },
  {
   "cell_type": "code",
   "execution_count": 42,
   "id": "79859f24",
   "metadata": {},
   "outputs": [
    {
     "data": {
      "text/html": [
       "<div>\n",
       "<style scoped>\n",
       "    .dataframe tbody tr th:only-of-type {\n",
       "        vertical-align: middle;\n",
       "    }\n",
       "\n",
       "    .dataframe tbody tr th {\n",
       "        vertical-align: top;\n",
       "    }\n",
       "\n",
       "    .dataframe thead th {\n",
       "        text-align: right;\n",
       "    }\n",
       "</style>\n",
       "<table border=\"1\" class=\"dataframe\">\n",
       "  <thead>\n",
       "    <tr style=\"text-align: right;\">\n",
       "      <th></th>\n",
       "      <th>id</th>\n",
       "      <th>product</th>\n",
       "      <th>unit_price</th>\n",
       "      <th>quantity</th>\n",
       "    </tr>\n",
       "  </thead>\n",
       "  <tbody>\n",
       "    <tr>\n",
       "      <th>0</th>\n",
       "      <td>1</td>\n",
       "      <td>Headhone</td>\n",
       "      <td>10000</td>\n",
       "      <td>10</td>\n",
       "    </tr>\n",
       "    <tr>\n",
       "      <th>1</th>\n",
       "      <td>2</td>\n",
       "      <td>Mobile</td>\n",
       "      <td>20000</td>\n",
       "      <td>12</td>\n",
       "    </tr>\n",
       "    <tr>\n",
       "      <th>2</th>\n",
       "      <td>3</td>\n",
       "      <td>Laptop</td>\n",
       "      <td>30000</td>\n",
       "      <td>15</td>\n",
       "    </tr>\n",
       "    <tr>\n",
       "      <th>3</th>\n",
       "      <td>4</td>\n",
       "      <td>Watch</td>\n",
       "      <td>10000</td>\n",
       "      <td>4</td>\n",
       "    </tr>\n",
       "    <tr>\n",
       "      <th>4</th>\n",
       "      <td>5</td>\n",
       "      <td>Speaker</td>\n",
       "      <td>12000</td>\n",
       "      <td>3</td>\n",
       "    </tr>\n",
       "  </tbody>\n",
       "</table>\n",
       "</div>"
      ],
      "text/plain": [
       "   id   product  unit_price  quantity\n",
       "0   1  Headhone       10000        10\n",
       "1   2    Mobile       20000        12\n",
       "2   3    Laptop       30000        15\n",
       "3   4     Watch       10000         4\n",
       "4   5   Speaker       12000         3"
      ]
     },
     "execution_count": 42,
     "metadata": {},
     "output_type": "execute_result"
    }
   ],
   "source": [
    "feb = pd.DataFrame(dicts)\n",
    "feb"
   ]
  },
  {
   "cell_type": "markdown",
   "id": "91502436",
   "metadata": {},
   "source": [
    "### Concatenate"
   ]
  },
  {
   "cell_type": "code",
   "execution_count": 43,
   "id": "80463a2b",
   "metadata": {},
   "outputs": [
    {
     "data": {
      "text/html": [
       "<div>\n",
       "<style scoped>\n",
       "    .dataframe tbody tr th:only-of-type {\n",
       "        vertical-align: middle;\n",
       "    }\n",
       "\n",
       "    .dataframe tbody tr th {\n",
       "        vertical-align: top;\n",
       "    }\n",
       "\n",
       "    .dataframe thead th {\n",
       "        text-align: right;\n",
       "    }\n",
       "</style>\n",
       "<table border=\"1\" class=\"dataframe\">\n",
       "  <thead>\n",
       "    <tr style=\"text-align: right;\">\n",
       "      <th></th>\n",
       "      <th>id</th>\n",
       "      <th>product</th>\n",
       "      <th>unit_price</th>\n",
       "      <th>quantity</th>\n",
       "      <th>month_name</th>\n",
       "    </tr>\n",
       "  </thead>\n",
       "  <tbody>\n",
       "    <tr>\n",
       "      <th>0</th>\n",
       "      <td>1</td>\n",
       "      <td>Headhone</td>\n",
       "      <td>10000</td>\n",
       "      <td>10</td>\n",
       "      <td>Jun</td>\n",
       "    </tr>\n",
       "    <tr>\n",
       "      <th>1</th>\n",
       "      <td>2</td>\n",
       "      <td>Mobile</td>\n",
       "      <td>20000</td>\n",
       "      <td>12</td>\n",
       "      <td>Jun</td>\n",
       "    </tr>\n",
       "    <tr>\n",
       "      <th>2</th>\n",
       "      <td>3</td>\n",
       "      <td>Laptop</td>\n",
       "      <td>30000</td>\n",
       "      <td>15</td>\n",
       "      <td>Jun</td>\n",
       "    </tr>\n",
       "    <tr>\n",
       "      <th>3</th>\n",
       "      <td>4</td>\n",
       "      <td>Watch</td>\n",
       "      <td>10000</td>\n",
       "      <td>4</td>\n",
       "      <td>Jun</td>\n",
       "    </tr>\n",
       "    <tr>\n",
       "      <th>4</th>\n",
       "      <td>5</td>\n",
       "      <td>Speaker</td>\n",
       "      <td>12000</td>\n",
       "      <td>3</td>\n",
       "      <td>Jun</td>\n",
       "    </tr>\n",
       "    <tr>\n",
       "      <th>0</th>\n",
       "      <td>1</td>\n",
       "      <td>Headhone</td>\n",
       "      <td>10000</td>\n",
       "      <td>10</td>\n",
       "      <td>NaN</td>\n",
       "    </tr>\n",
       "    <tr>\n",
       "      <th>1</th>\n",
       "      <td>2</td>\n",
       "      <td>Mobile</td>\n",
       "      <td>20000</td>\n",
       "      <td>12</td>\n",
       "      <td>NaN</td>\n",
       "    </tr>\n",
       "    <tr>\n",
       "      <th>2</th>\n",
       "      <td>3</td>\n",
       "      <td>Laptop</td>\n",
       "      <td>30000</td>\n",
       "      <td>15</td>\n",
       "      <td>NaN</td>\n",
       "    </tr>\n",
       "    <tr>\n",
       "      <th>3</th>\n",
       "      <td>4</td>\n",
       "      <td>Watch</td>\n",
       "      <td>10000</td>\n",
       "      <td>4</td>\n",
       "      <td>NaN</td>\n",
       "    </tr>\n",
       "    <tr>\n",
       "      <th>4</th>\n",
       "      <td>5</td>\n",
       "      <td>Speaker</td>\n",
       "      <td>12000</td>\n",
       "      <td>3</td>\n",
       "      <td>NaN</td>\n",
       "    </tr>\n",
       "  </tbody>\n",
       "</table>\n",
       "</div>"
      ],
      "text/plain": [
       "   id   product  unit_price  quantity month_name\n",
       "0   1  Headhone       10000        10        Jun\n",
       "1   2    Mobile       20000        12        Jun\n",
       "2   3    Laptop       30000        15        Jun\n",
       "3   4     Watch       10000         4        Jun\n",
       "4   5   Speaker       12000         3        Jun\n",
       "0   1  Headhone       10000        10        NaN\n",
       "1   2    Mobile       20000        12        NaN\n",
       "2   3    Laptop       30000        15        NaN\n",
       "3   4     Watch       10000         4        NaN\n",
       "4   5   Speaker       12000         3        NaN"
      ]
     },
     "execution_count": 43,
     "metadata": {},
     "output_type": "execute_result"
    }
   ],
   "source": [
    "pd.concat([jan,feb])"
   ]
  },
  {
   "cell_type": "code",
   "execution_count": 44,
   "id": "d86eb8a1",
   "metadata": {},
   "outputs": [],
   "source": [
    "total_data = pd.concat([jan , feb])"
   ]
  },
  {
   "cell_type": "code",
   "execution_count": 45,
   "id": "1175a934",
   "metadata": {},
   "outputs": [
    {
     "data": {
      "text/html": [
       "<div>\n",
       "<style scoped>\n",
       "    .dataframe tbody tr th:only-of-type {\n",
       "        vertical-align: middle;\n",
       "    }\n",
       "\n",
       "    .dataframe tbody tr th {\n",
       "        vertical-align: top;\n",
       "    }\n",
       "\n",
       "    .dataframe thead th {\n",
       "        text-align: right;\n",
       "    }\n",
       "</style>\n",
       "<table border=\"1\" class=\"dataframe\">\n",
       "  <thead>\n",
       "    <tr style=\"text-align: right;\">\n",
       "      <th></th>\n",
       "      <th>id</th>\n",
       "      <th>product</th>\n",
       "      <th>unit_price</th>\n",
       "      <th>quantity</th>\n",
       "      <th>month_name</th>\n",
       "    </tr>\n",
       "  </thead>\n",
       "  <tbody>\n",
       "    <tr>\n",
       "      <th>0</th>\n",
       "      <td>1</td>\n",
       "      <td>Headhone</td>\n",
       "      <td>10000</td>\n",
       "      <td>10</td>\n",
       "      <td>Jun</td>\n",
       "    </tr>\n",
       "    <tr>\n",
       "      <th>1</th>\n",
       "      <td>2</td>\n",
       "      <td>Mobile</td>\n",
       "      <td>20000</td>\n",
       "      <td>12</td>\n",
       "      <td>Jun</td>\n",
       "    </tr>\n",
       "    <tr>\n",
       "      <th>2</th>\n",
       "      <td>3</td>\n",
       "      <td>Laptop</td>\n",
       "      <td>30000</td>\n",
       "      <td>15</td>\n",
       "      <td>Jun</td>\n",
       "    </tr>\n",
       "    <tr>\n",
       "      <th>3</th>\n",
       "      <td>4</td>\n",
       "      <td>Watch</td>\n",
       "      <td>10000</td>\n",
       "      <td>4</td>\n",
       "      <td>Jun</td>\n",
       "    </tr>\n",
       "    <tr>\n",
       "      <th>4</th>\n",
       "      <td>5</td>\n",
       "      <td>Speaker</td>\n",
       "      <td>12000</td>\n",
       "      <td>3</td>\n",
       "      <td>Jun</td>\n",
       "    </tr>\n",
       "    <tr>\n",
       "      <th>0</th>\n",
       "      <td>1</td>\n",
       "      <td>Headhone</td>\n",
       "      <td>10000</td>\n",
       "      <td>10</td>\n",
       "      <td>NaN</td>\n",
       "    </tr>\n",
       "    <tr>\n",
       "      <th>1</th>\n",
       "      <td>2</td>\n",
       "      <td>Mobile</td>\n",
       "      <td>20000</td>\n",
       "      <td>12</td>\n",
       "      <td>NaN</td>\n",
       "    </tr>\n",
       "    <tr>\n",
       "      <th>2</th>\n",
       "      <td>3</td>\n",
       "      <td>Laptop</td>\n",
       "      <td>30000</td>\n",
       "      <td>15</td>\n",
       "      <td>NaN</td>\n",
       "    </tr>\n",
       "    <tr>\n",
       "      <th>3</th>\n",
       "      <td>4</td>\n",
       "      <td>Watch</td>\n",
       "      <td>10000</td>\n",
       "      <td>4</td>\n",
       "      <td>NaN</td>\n",
       "    </tr>\n",
       "    <tr>\n",
       "      <th>4</th>\n",
       "      <td>5</td>\n",
       "      <td>Speaker</td>\n",
       "      <td>12000</td>\n",
       "      <td>3</td>\n",
       "      <td>NaN</td>\n",
       "    </tr>\n",
       "  </tbody>\n",
       "</table>\n",
       "</div>"
      ],
      "text/plain": [
       "   id   product  unit_price  quantity month_name\n",
       "0   1  Headhone       10000        10        Jun\n",
       "1   2    Mobile       20000        12        Jun\n",
       "2   3    Laptop       30000        15        Jun\n",
       "3   4     Watch       10000         4        Jun\n",
       "4   5   Speaker       12000         3        Jun\n",
       "0   1  Headhone       10000        10        NaN\n",
       "1   2    Mobile       20000        12        NaN\n",
       "2   3    Laptop       30000        15        NaN\n",
       "3   4     Watch       10000         4        NaN\n",
       "4   5   Speaker       12000         3        NaN"
      ]
     },
     "execution_count": 45,
     "metadata": {},
     "output_type": "execute_result"
    }
   ],
   "source": [
    "total_data"
   ]
  }
 ],
 "metadata": {
  "kernelspec": {
   "display_name": "Python 3",
   "language": "python",
   "name": "python3"
  },
  "language_info": {
   "codemirror_mode": {
    "name": "ipython",
    "version": 3
   },
   "file_extension": ".py",
   "mimetype": "text/x-python",
   "name": "python",
   "nbconvert_exporter": "python",
   "pygments_lexer": "ipython3",
   "version": "3.13.2"
  }
 },
 "nbformat": 4,
 "nbformat_minor": 5
}
