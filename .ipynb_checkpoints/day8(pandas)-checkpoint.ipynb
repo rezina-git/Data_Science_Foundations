{
 "cells": [
  {
   "cell_type": "code",
   "execution_count": 3,
   "id": "673adc8f-ce5a-4aa0-af96-33d5eba584e8",
   "metadata": {},
   "outputs": [
    {
     "ename": "ModuleNotFoundError",
     "evalue": "No module named 'pandas'",
     "output_type": "error",
     "traceback": [
      "\u001b[31m---------------------------------------------------------------------------\u001b[39m",
      "\u001b[31mModuleNotFoundError\u001b[39m                       Traceback (most recent call last)",
      "\u001b[36mCell\u001b[39m\u001b[36m \u001b[39m\u001b[32mIn[3]\u001b[39m\u001b[32m, line 1\u001b[39m\n\u001b[32m----> \u001b[39m\u001b[32m1\u001b[39m \u001b[38;5;28;01mimport\u001b[39;00m\u001b[38;5;250m \u001b[39m\u001b[34;01mpandas\u001b[39;00m\u001b[38;5;250m \u001b[39m\u001b[38;5;28;01mas\u001b[39;00m\u001b[38;5;250m \u001b[39m\u001b[34;01mpd\u001b[39;00m\n\u001b[32m      2\u001b[39m \u001b[38;5;28;01mimport\u001b[39;00m\u001b[38;5;250m \u001b[39m\u001b[34;01mnumpy\u001b[39;00m\u001b[38;5;250m \u001b[39m\u001b[38;5;28;01mas\u001b[39;00m\u001b[38;5;250m \u001b[39m\u001b[34;01mnp\u001b[39;00m\n",
      "\u001b[31mModuleNotFoundError\u001b[39m: No module named 'pandas'"
     ]
    }
   ],
   "source": [
    "import pandas as pd\n",
    "import numpy as np"
   ]
  },
  {
   "cell_type": "markdown",
   "id": "2e71f54c-a513-4368-9551-4b29a8f31197",
   "metadata": {},
   "source": [
    "## Group By(.sum(),mean(),max(),min(),count() [Imp topic in data analysis]"
   ]
  },
  {
   "cell_type": "code",
   "execution_count": null,
   "id": "8bd05240-a9d0-49bc-9574-287420f17ccb",
   "metadata": {},
   "outputs": [],
   "source": [
    "data = {\n",
    "    'Department': ['IT', 'HR', 'IT', 'Finance', 'HR', 'Finance'],\n",
    "    'Salary': [60000, 50000, 65000, 70000, 52000, 73000]\n",
    "}\n",
    "df = pd.DataFrame(data)\n",
    "print(df)"
   ]
  },
  {
   "cell_type": "code",
   "execution_count": null,
   "id": "692ea6f7-8a79-4608-b9e7-e5ef240879cb",
   "metadata": {},
   "outputs": [],
   "source": [
    "df.to_csv(r'hi.csv',index=False)"
   ]
  },
  {
   "cell_type": "code",
   "execution_count": null,
   "id": "f481b154-e831-429e-bee4-4c6d90b9fab6",
   "metadata": {},
   "outputs": [],
   "source": [
    "df1=pd.read_csv(r'hi.csv')\n",
    "df1"
   ]
  },
  {
   "cell_type": "code",
   "execution_count": null,
   "id": "82047d3c-d4c1-4a25-9408-c77626de4de7",
   "metadata": {},
   "outputs": [],
   "source": [
    "group = df1.groupby('Department')\n",
    "group\n"
   ]
  },
  {
   "cell_type": "code",
   "execution_count": null,
   "id": "6cec3f23-fff6-4203-9de4-5d00f14f8325",
   "metadata": {},
   "outputs": [],
   "source": [
    "group['Salary'].count()"
   ]
  },
  {
   "cell_type": "code",
   "execution_count": null,
   "id": "debea290-5fba-496d-aff1-1ca2ec7a2ae3",
   "metadata": {},
   "outputs": [],
   "source": [
    "group['Salary'].mean()"
   ]
  },
  {
   "cell_type": "code",
   "execution_count": null,
   "id": "5811ad15-0e8a-4d3a-ab45-1b40265c3826",
   "metadata": {},
   "outputs": [],
   "source": [
    "df1"
   ]
  },
  {
   "cell_type": "code",
   "execution_count": null,
   "id": "85b05d5d-7512-44a3-a26f-d82a9e557d54",
   "metadata": {},
   "outputs": [],
   "source": [
    "group['Salary'].max()"
   ]
  },
  {
   "cell_type": "markdown",
   "id": "b30d0d00-b846-45f1-b561-7c4e5c9e056f",
   "metadata": {},
   "source": [
    "### Find the number of employees on each department."
   ]
  },
  {
   "cell_type": "code",
   "execution_count": null,
   "id": "9694310f-d090-4471-8f8d-45f7c7d3a15b",
   "metadata": {},
   "outputs": [],
   "source": [
    "group['Salary'].count()"
   ]
  },
  {
   "cell_type": "markdown",
   "id": "b8ade02f-99b2-43ec-824f-69b7fc383646",
   "metadata": {},
   "source": [
    "### Now from movie dataset"
   ]
  },
  {
   "cell_type": "code",
   "execution_count": null,
   "id": "fee86ada-9dc0-4ac4-bba8-ecc562112db8",
   "metadata": {},
   "outputs": [],
   "source": [
    "df=pd.read_csv(r'C:\\Users\\HP\\OneDrive\\Desktop\\datascience class\\Datascience (saroj sir)\\DataScience\\movies.csv')\n",
    "df"
   ]
  },
  {
   "cell_type": "code",
   "execution_count": null,
   "id": "57d58dd0-3809-45a9-9989-0248e8641474",
   "metadata": {},
   "outputs": [],
   "source": [
    "df['Genre'].unique()"
   ]
  },
  {
   "cell_type": "code",
   "execution_count": null,
   "id": "f0da55d1-71b6-4886-aee0-9067b42b97c8",
   "metadata": {},
   "outputs": [],
   "source": [
    "df[df['Genre']=='Drama'].shape[0]"
   ]
  },
  {
   "cell_type": "code",
   "execution_count": null,
   "id": "3e3f7d4f-120f-43d5-a3a6-46e266dec537",
   "metadata": {},
   "outputs": [],
   "source": [
    "df[df['Genre']=='Crime'].shape[0] #this is filtering data.like this everytime filtering is basically lengthy.so we can use groupby now here"
   ]
  },
  {
   "cell_type": "code",
   "execution_count": null,
   "id": "100e02b6-2e08-4254-84bb-64e08d8a4fa5",
   "metadata": {},
   "outputs": [],
   "source": [
    "df.groupby('Genre')['Released_Year'].count() #count how many rows it has."
   ]
  },
  {
   "cell_type": "markdown",
   "id": "2c868823-c54f-4e9a-98f1-506c989d39b9",
   "metadata": {},
   "source": [
    "### Find the number of movies released on specific year."
   ]
  },
  {
   "cell_type": "code",
   "execution_count": null,
   "id": "640f7662-1fc7-4b92-96bd-2871e8ab520e",
   "metadata": {},
   "outputs": [],
   "source": [
    "df.groupby('Released_Year')['Runtime'].count()"
   ]
  },
  {
   "cell_type": "markdown",
   "id": "d1263046-ebe9-429d-9ec9-e7dd529f81f5",
   "metadata": {},
   "source": [
    "### Each genre(runtime)"
   ]
  },
  {
   "cell_type": "code",
   "execution_count": null,
   "id": "00ca59e7-eeef-4d39-8e57-226fedb7963e",
   "metadata": {},
   "outputs": [],
   "source": [
    "df.groupby('Genre')['Runtime'].mean().sort_values()"
   ]
  },
  {
   "cell_type": "markdown",
   "id": "154ae288-c2ee-4076-ad88-18a82ea3df1c",
   "metadata": {},
   "source": [
    "### Average IMDB rating."
   ]
  },
  {
   "cell_type": "code",
   "execution_count": null,
   "id": "9a4f0bf5-6f39-41e1-9319-b2d53593f60c",
   "metadata": {},
   "outputs": [],
   "source": [
    "df.groupby('Genre')['IMDB_Rating'].mean()"
   ]
  },
  {
   "cell_type": "code",
   "execution_count": null,
   "id": "82592839-f63f-4299-b57f-c5391d282e9d",
   "metadata": {},
   "outputs": [],
   "source": [
    "df.groupby('Genre')['IMDB_Rating'].max()"
   ]
  },
  {
   "cell_type": "markdown",
   "id": "32e44d17-09c9-42b8-be92-77a386126eb0",
   "metadata": {},
   "source": [
    "### aggregate the results with multiple function"
   ]
  },
  {
   "cell_type": "code",
   "execution_count": null,
   "id": "534449ed-9b3e-45ff-ae04-49b2185b449b",
   "metadata": {},
   "outputs": [],
   "source": [
    "df.groupby('Genre').agg({'IMDB_Rating':'mean','Runtime':'max'})"
   ]
  },
  {
   "cell_type": "code",
   "execution_count": null,
   "id": "87b49f7c-ff19-4cf5-a280-a1cdf1d8738b",
   "metadata": {},
   "outputs": [],
   "source": [
    "dfs=df.groupby('Genre').agg({'IMDB_Rating':['mean','max'],'Runtime':['mean','max','min']})\n",
    "dfs"
   ]
  },
  {
   "cell_type": "code",
   "execution_count": null,
   "id": "d828a4ac-c195-450f-9153-1f48168a2db0",
   "metadata": {},
   "outputs": [],
   "source": [
    "dfs.to_csv('newdata.csv')"
   ]
  },
  {
   "cell_type": "code",
   "execution_count": null,
   "id": "f57833df-1df4-4ac4-b7b7-dc187f596021",
   "metadata": {},
   "outputs": [],
   "source": []
  }
 ],
 "metadata": {
  "kernelspec": {
   "display_name": "Python 3",
   "language": "python",
   "name": "python3"
  },
  "language_info": {
   "codemirror_mode": {
    "name": "ipython",
    "version": 3
   },
   "file_extension": ".py",
   "mimetype": "text/x-python",
   "name": "python",
   "nbconvert_exporter": "python",
   "pygments_lexer": "ipython3",
   "version": "3.11.0"
  }
 },
 "nbformat": 4,
 "nbformat_minor": 5
}
