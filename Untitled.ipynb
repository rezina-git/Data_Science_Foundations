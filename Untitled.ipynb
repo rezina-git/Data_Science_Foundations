{
 "cells": [
  {
   "cell_type": "code",
   "execution_count": null,
   "id": "2a620e0b-36c7-4fa4-8100-4ab6e9ef09f1",
   "metadata": {},
   "outputs": [],
   "source": []
  }
 ],
 "metadata": {
  "kernelspec": {
   "display_name": "",
   "name": ""
  },
  "language_info": {
   "name": ""
  }
 },
 "nbformat": 4,
 "nbformat_minor": 5
}
